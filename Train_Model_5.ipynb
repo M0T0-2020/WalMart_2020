{
 "cells": [
  {
   "cell_type": "code",
   "execution_count": 1,
   "metadata": {},
   "outputs": [],
   "source": [
    "#path = '/Users/kanoumotoharu/Downloads/m5-forecasting-accuracy/'\n",
    "path = '/Users/abcdm/Downloads/m5-forecasting-accuracy/'\n",
    "#path = '../input/m5-forecasting-accuracy/'"
   ]
  },
  {
   "cell_type": "code",
   "execution_count": 2,
   "metadata": {},
   "outputs": [],
   "source": [
    "import warnings\n",
    "warnings.filterwarnings('ignore')\n",
    "\n",
    "import numpy as np\n",
    "import pandas as pd\n",
    "import matplotlib.pyplot as plt\n",
    "import seaborn as sns\n",
    "\n",
    "import os, gc\n",
    "import termcolor\n",
    "\n",
    "import math, random\n",
    "import pickle\n",
    "import datetime, time\n",
    "from tqdm import tqdm_notebook as tqdm\n",
    "\n",
    "import torch \n",
    "from torch import nn\n",
    "from torch import optim\n",
    "\n",
    "from sklearn import preprocessing\n",
    "from sklearn.model_selection import train_test_split, KFold\n",
    "from sklearn.cluster import KMeans\n",
    "\n",
    "%matplotlib inline"
   ]
  },
  {
   "cell_type": "code",
   "execution_count": 3,
   "metadata": {},
   "outputs": [],
   "source": [
    "def Preprocessing(train_df, calendar_df, sell_prices_df):\n",
    "    sell_prices_df['id'] = sell_prices_df['item_id'].astype('str')+'_'+sell_prices_df['store_id']+'_validation'\n",
    "    d_cols = [f'd_{i}' for i in range(1,1914)]\n",
    "    \n",
    "    event_type_1 = pd.get_dummies(calendar_df.event_type_1)\n",
    "    event_type_1.columns = [f'{col}_event_type_1' for col in event_type_1.columns]\n",
    "    event_type_2 = pd.get_dummies(calendar_df.event_type_1)\n",
    "    event_type_2.columns = [f'{col}_event_type_2' for col in event_type_2.columns]\n",
    "    calendar_data = pd.concat([\n",
    "        calendar_df.drop(columns=['event_name_1', 'event_type_1', 'event_name_2', 'event_type_2'])[['wday', 'd','month','snap_CA', 'snap_TX', 'snap_WI']],\n",
    "        event_type_1,\n",
    "        event_type_2\n",
    "    ], axis=1)\n",
    "    calendar_data = calendar_data.set_index('d').T\n",
    "    \n",
    "    \n",
    "    \n",
    "    sell_prices_data = sell_prices_df[sell_prices_df.wm_yr_wk.isin(calendar_df.wm_yr_wk.unique())]\n",
    "    sell_prices_data.reset_index(drop=True, inplace=True)\n",
    "    tmp = sell_prices_data.groupby(['id'])[['wm_yr_wk', 'sell_price']].apply(lambda x: x.set_index('wm_yr_wk')['sell_price'].to_dict()).to_dict()\n",
    "    d = calendar_df.d\n",
    "    wm_yr_wk = calendar_df.wm_yr_wk\n",
    "    price_data = {}\n",
    "    for col in tqdm(train_df.id.unique()):\n",
    "        price_data[col] = wm_yr_wk.map(tmp[col])\n",
    "    price_data = pd.DataFrame(price_data)\n",
    "    price_data.index = d\n",
    "    \n",
    "    \n",
    "    is_sell = price_data.notnull().astype(float).T\n",
    "    price_data = price_data.fillna(0)\n",
    "    \n",
    "    train_df = train_df.T\n",
    "    train_df.columns = train_df.loc['id', :].values\n",
    "    train_df = train_df.T\n",
    "    \n",
    "    return train_df, calendar_df, calendar_data, price_data, is_sell\n",
    "\n",
    "\n",
    "def make_calendar_data(calendar_data, train_cols):\n",
    "    calendar_index = [\n",
    "        'wday', 'month',\n",
    "        'Cultural_event_type_1', 'National_event_type_1', 'Religious_event_type_1', 'Sporting_event_type_1',\n",
    "        'Cultural_event_type_2', 'National_event_type_2', 'Religious_event_type_2', 'Sporting_event_type_2'\n",
    "    ]\n",
    "    calendar = calendar_data.loc[calendar_index,:]\n",
    "    event_index = [\n",
    "        'Cultural_event_type_1', 'National_event_type_1', 'Religious_event_type_1', 'Sporting_event_type_1',\n",
    "        'Cultural_event_type_2', 'National_event_type_2', 'Religious_event_type_2', 'Sporting_event_type_2'\n",
    "    ]\n",
    "    for shift in [3, 7, 14, 28]:\n",
    "        tmp_calendar = calendar.loc[event_index, :]\n",
    "        tmp_calendar = tmp_calendar.T.shift(-shift).T\n",
    "        tmp_calendar.index = [f'{col}_shift{shift}' for col in tmp_calendar.index]\n",
    "        calendar = pd.concat([\n",
    "            calendar,\n",
    "            tmp_calendar\n",
    "        ], axis=0)\n",
    "    calendar = calendar[train_cols]\n",
    "    calendar = torch.FloatTensor(calendar.values.astype(float))\n",
    "    return calendar\n",
    "\n",
    "def make_data(train_cols, state, train_df, calendar_data, price_data, is_sell_data, sample_submission_df):\n",
    "    data_train = train_df[['id', 'item_id', 'dept_id', 'cat_id', 'store_id', 'state_id']+train_cols]\n",
    "    train_product = sample_submission_df[(sample_submission_df.id.str.contains(state))&(sample_submission_df.id.str.contains('_validation'))].id.values\n",
    "    #train_product = data_train[data_train.state_id==state]['id'].unique()\n",
    "    \n",
    "    data = data_train.loc[train_product,train_cols]\n",
    "    \n",
    "    calendar_index = [ f'snap_{state}']\n",
    "    event_index = [ f'snap_{state}']\n",
    "    calendar = calendar_data.loc[calendar_index,:]\n",
    "    for shift in [3, 7, 14, 28]:\n",
    "        tmp_calendar = calendar.loc[event_index, :]\n",
    "        tmp_calendar = tmp_calendar.T.shift(shift).T\n",
    "        tmp_calendar.index = [f'{col}_shift{shift}' for col in tmp_calendar.index]\n",
    "        calendar = pd.concat([\n",
    "            calendar,\n",
    "            tmp_calendar\n",
    "        ], axis=0)\n",
    "    calendar = calendar[train_cols]\n",
    "    \n",
    "    price = price_data.T[train_cols].loc[train_product,:]\n",
    "    past_price_1 = price_data.loc[:,train_product].shift(3).T[train_cols]\n",
    "    past_price_2 = price_data.loc[:,train_product].shift(7).T[train_cols]\n",
    "    past_price_3 = price_data.loc[:,train_product].shift(14).T[train_cols]\n",
    "    \n",
    "    \n",
    "    is_sell = is_sell_data[train_cols].loc[train_product,:]\n",
    "    past_is_sell_1 = is_sell_data.T.shift(3).T.loc[train_product, train_cols]\n",
    "    past_is_sell_2 = is_sell_data.T.shift(7).T.loc[train_product, train_cols]\n",
    "    past_is_sell_3 = is_sell_data.T.shift(14).T.loc[train_product, train_cols]\n",
    "\n",
    "    data = torch.FloatTensor(data.values.astype(float))\n",
    "    \n",
    "    calendar = torch.FloatTensor(calendar.values.astype(float))\n",
    "    \n",
    "    price = torch.FloatTensor(price.values.astype(float))\n",
    "    \n",
    "    past_price_1 = torch.FloatTensor(past_price_1.values.astype(float))\n",
    "    past_price_2 = torch.FloatTensor(past_price_2.values.astype(float))\n",
    "    past_price_3 = torch.FloatTensor(past_price_3.values.astype(float))\n",
    "    \n",
    "    is_sell = torch.FloatTensor(is_sell.values.astype(float))\n",
    "    past_is_sell_1 = torch.FloatTensor(past_is_sell_1.values.astype(float))\n",
    "    past_is_sell_2 = torch.FloatTensor(past_is_sell_2.values.astype(float))\n",
    "    past_is_sell_3 = torch.FloatTensor(past_is_sell_3.values.astype(float))\n",
    "    \n",
    "    data_list = []\n",
    "    for idx in range(len(data)):\n",
    "        _data = data[[idx],:]\n",
    "        _price = price[[idx],:]\n",
    "        \n",
    "        _past_price_1 = past_price_1[[idx],:]\n",
    "        _past_price_2 = past_price_2[[idx],:]\n",
    "        _past_price_3 = past_price_3[[idx],:]\n",
    "        \n",
    "        _is_sell = is_sell[[idx],:]\n",
    "        \n",
    "        _past_is_sell_1 = past_is_sell_1[[idx],:]\n",
    "        _past_is_sell_2 = past_is_sell_2[[idx],:]\n",
    "        _past_is_sell_3 = past_is_sell_3[[idx],:]\n",
    "        \n",
    "        x = torch.cat((\n",
    "            _data, calendar,\n",
    "            _price,\n",
    "            _past_price_1, _past_price_2, _past_price_3,\n",
    "            _is_sell,\n",
    "            _past_is_sell_1, _past_is_sell_2, _past_is_sell_3\n",
    "        ), dim=0)\n",
    "        data_list.append(x.tolist())\n",
    "    data_list = torch.FloatTensor(data_list)\n",
    "    return data_list"
   ]
  },
  {
   "cell_type": "code",
   "execution_count": 4,
   "metadata": {},
   "outputs": [],
   "source": [
    "def mish(input):\n",
    "    return input * torch.tanh(nn.functional.softplus(input))\n",
    "\n",
    "class Mish(nn.Module):\n",
    "    def __init__(self):\n",
    "        super().__init__()\n",
    "\n",
    "    def forward(self, input):\n",
    "        return mish(input)"
   ]
  },
  {
   "cell_type": "code",
   "execution_count": 5,
   "metadata": {},
   "outputs": [],
   "source": [
    "class residual_conv1d(nn.Module):\n",
    "\n",
    "    def __init__(self, in_channel):\n",
    "        super(residual_conv1d, self).__init__()\n",
    "        \n",
    "        self.mish = Mish()\n",
    "        self.layer = nn.Sequential(\n",
    "            nn.Conv1d(in_channel, in_channel, 1),\n",
    "            Mish(),\n",
    "            nn.Conv1d(in_channel, in_channel, 1)\n",
    "        )\n",
    "\n",
    "    def forward(self, x):\n",
    "        x = x+self.layer(x)\n",
    "        x = self.mish(x)\n",
    "        return x\n",
    "\n",
    "class Conv_1d_Net(nn.Module):\n",
    "\n",
    "    def __init__(self, in_channel):\n",
    "        super(Conv_1d_Net, self).__init__()\n",
    "        \n",
    "        self.layer_1 = nn.Sequential(\n",
    "            nn.Conv1d(in_channel, 2*in_channel, 1),\n",
    "            nn.Dropout(0.2),\n",
    "            Mish(),\n",
    "            residual_conv1d(2*in_channel)\n",
    "        )\n",
    "        \n",
    "        self.layer_2 = nn.Sequential(\n",
    "            nn.Conv1d(2*in_channel, 4*in_channel, 1),\n",
    "            nn.Dropout(0.2),\n",
    "            Mish(),\n",
    "            residual_conv1d(4*in_channel)\n",
    "        )\n",
    "        \n",
    "        self.layer_3 = nn.Sequential(\n",
    "            nn.Conv1d(4*in_channel, 8*in_channel, 1),\n",
    "            nn.Dropout(0.2),\n",
    "            Mish(),\n",
    "            residual_conv1d(8*in_channel)\n",
    "        )\n",
    "       \n",
    "         \n",
    "        self.avgpool1d = nn.AdaptiveAvgPool1d(1)\n",
    "        \n",
    "        self.fc = nn.Sequential(\n",
    "            nn.Linear(8*in_channel, 8*in_channel),\n",
    "            nn.Dropout(0.1),\n",
    "            Mish(),\n",
    "            nn.Linear(8*in_channel, 16*in_channel),\n",
    "            nn.Dropout(0.1),\n",
    "            Mish(),\n",
    "            nn.Linear(16*in_channel, 28)\n",
    "        ) \n",
    "\n",
    "    def forward(self, x):\n",
    "        #_in = x.size()[1]\n",
    "        x = self.layer_1(x)\n",
    "        x = self.layer_2(x)\n",
    "        x = self.layer_3(x)\n",
    "        #x = self.layer_4(x)\n",
    "        x = self.avgpool1d(x)\n",
    "        x = torch.flatten(x, 1)\n",
    "        x = self.fc(x)\n",
    "\n",
    "        return x"
   ]
  },
  {
   "cell_type": "code",
   "execution_count": 6,
   "metadata": {},
   "outputs": [],
   "source": [
    "from torch.optim.optimizer import Optimizer\n",
    "import math\n",
    "\n",
    "class RAdam(Optimizer):\n",
    "\n",
    "    def __init__(self, params, lr=1e-3, betas=(0.9, 0.999), eps=1e-8, weight_decay=0):\n",
    "        defaults = dict(lr=lr, betas=betas, eps=eps, weight_decay=weight_decay)\n",
    "        self.buffer = [[None, None, None] for ind in range(10)]\n",
    "        super(RAdam, self).__init__(params, defaults)\n",
    "\n",
    "    def __setstate__(self, state):\n",
    "        super(RAdam, self).__setstate__(state)\n",
    "\n",
    "    def step(self, closure=None):\n",
    "\n",
    "        loss = None\n",
    "        if closure is not None:\n",
    "            loss = closure()\n",
    "\n",
    "        for group in self.param_groups:\n",
    "\n",
    "            for p in group['params']:\n",
    "                if p.grad is None:\n",
    "                    continue\n",
    "                grad = p.grad.data.float()\n",
    "                if grad.is_sparse:\n",
    "                    raise RuntimeError('RAdam does not support sparse gradients')\n",
    "\n",
    "                p_data_fp32 = p.data.float()\n",
    "\n",
    "                state = self.state[p]\n",
    "\n",
    "                if len(state) == 0:\n",
    "                    state['step'] = 0\n",
    "                    state['exp_avg'] = torch.zeros_like(p_data_fp32)\n",
    "                    state['exp_avg_sq'] = torch.zeros_like(p_data_fp32)\n",
    "                else:\n",
    "                    state['exp_avg'] = state['exp_avg'].type_as(p_data_fp32)\n",
    "                    state['exp_avg_sq'] = state['exp_avg_sq'].type_as(p_data_fp32)\n",
    "\n",
    "                exp_avg, exp_avg_sq = state['exp_avg'], state['exp_avg_sq']\n",
    "                beta1, beta2 = group['betas']\n",
    "\n",
    "                exp_avg_sq.mul_(beta2).addcmul_(1 - beta2, grad, grad)\n",
    "                exp_avg.mul_(beta1).add_(1 - beta1, grad)\n",
    "\n",
    "                state['step'] += 1\n",
    "                buffered = self.buffer[int(state['step'] % 10)]\n",
    "                if state['step'] == buffered[0]:\n",
    "                    N_sma, step_size = buffered[1], buffered[2]\n",
    "                else:\n",
    "                    buffered[0] = state['step']\n",
    "                    beta2_t = beta2 ** state['step']\n",
    "                    N_sma_max = 2 / (1 - beta2) - 1\n",
    "                    N_sma = N_sma_max - 2 * state['step'] * beta2_t / (1 - beta2_t)\n",
    "                    buffered[1] = N_sma\n",
    "\n",
    "                    # more conservative since it's an approximated value\n",
    "                    if N_sma >= 5:\n",
    "                        step_size = group['lr'] * math.sqrt((1 - beta2_t) * (N_sma - 4) / (N_sma_max - 4) * (N_sma - 2) / N_sma * N_sma_max / (N_sma_max - 2)) / (1 - beta1 ** state['step'])\n",
    "                    else:\n",
    "                        step_size = group['lr'] / (1 - beta1 ** state['step'])\n",
    "                    buffered[2] = step_size\n",
    "\n",
    "                if group['weight_decay'] != 0:\n",
    "                    p_data_fp32.add_(-group['weight_decay'] * group['lr'], p_data_fp32)\n",
    "\n",
    "                # more conservative since it's an approximated value\n",
    "                if N_sma >= 5:            \n",
    "                    denom = exp_avg_sq.sqrt().add_(group['eps'])\n",
    "                    p_data_fp32.addcdiv_(-step_size, exp_avg, denom)\n",
    "                else:\n",
    "                    p_data_fp32.add_(-step_size, exp_avg)\n",
    "\n",
    "                p.data.copy_(p_data_fp32)\n",
    "\n",
    "        return loss"
   ]
  },
  {
   "cell_type": "code",
   "execution_count": 7,
   "metadata": {},
   "outputs": [],
   "source": [
    "class Mydatasets(torch.utils.data.Dataset):\n",
    "    def __init__(self, data, calendar):\n",
    "        self.data = data\n",
    "        self.calendar = calendar\n",
    "        self.datanum = len(data)\n",
    "\n",
    "    def __len__(self):\n",
    "        return self.datanum\n",
    "\n",
    "    def __getitem__(self, idx):\n",
    "        _data = self.data[idx, :, :]\n",
    "        x = torch.cat((_data, self.calendar), dim=0)\n",
    "        return x"
   ]
  },
  {
   "cell_type": "code",
   "execution_count": 8,
   "metadata": {},
   "outputs": [],
   "source": [
    "class WRMSSE(nn.Module):\n",
    "    def __init__(self, df, calendar, prices):\n",
    "        super(WRMSSE, self).__init__()\n",
    "        self.df = df\n",
    "        self.df['all_id'] = 0  # for lv1 aggregation\n",
    "        self.df['index'] = self.df.index\n",
    "        self.id_columns = ['id', 'item_id', 'dept_id', 'cat_id', 'store_id', 'state_id', 'all_id', 'index']\n",
    "        self.calendar = calendar\n",
    "        self.prices = prices\n",
    "        \n",
    "        self.group_ids = (\n",
    "            ['all_id'],\n",
    "            ['state_id'],\n",
    "            ['store_id'],\n",
    "            ['cat_id'],\n",
    "            ['dept_id'],\n",
    "            ['state_id', 'cat_id'],\n",
    "            ['state_id', 'dept_id'],\n",
    "            ['store_id', 'cat_id'],\n",
    "            ['store_id', 'dept_id'],\n",
    "            ['item_id'],\n",
    "            ['item_id', 'state_id'],\n",
    "            ['item_id', 'store_id']\n",
    "        )\n",
    "        \n",
    "        \n",
    "    def prepare_metrics(self, valid_d_cols):\n",
    "        max_n = int(valid_d_cols[-1].replace('d_', ''))\n",
    "        self.train_d_cols = [f'd_{i}' for i in range(1,max_n)]  #<-- コンペが last １ヶ月になったら 914 -->1942 変える\n",
    "        #self.train_d_cols = [f'd_{i}' for i in range(1000,1914) if f'd_{i}' in valid_d_cols]  #<-- コンペが last １ヶ月になったら 914 -->1942 変える\n",
    "        self.valid_d_cols = valid_d_cols\n",
    "        self.weight_columns = self.train_d_cols[-28:]\n",
    "        self.split_train_valid_data()\n",
    "        self.get_weight()\n",
    "        \n",
    "        self.tensor_index = {}\n",
    "        self.index_len = {}\n",
    "        self.denominator = {}\n",
    "        self.True_y = {}\n",
    "        self.weight = {}\n",
    "        for i, group_id in enumerate(tqdm(self.group_ids)):\n",
    "            #  index dict\n",
    "            self.tensor_index.update(self.df[['index']+group_id].groupby(group_id)['index'].unique().to_dict())\n",
    "            self.index_len.update(self.df[['index']+group_id].groupby(group_id)['index'].nunique().to_dict())\n",
    "            \n",
    "            # denominator\n",
    "            tmp_a = self.train_df.groupby(group_id)[self.train_d_cols].sum().T.to_dict()\n",
    "            a = {}\n",
    "            for key, value in tmp_a.items() :\n",
    "                value = np.array(list(value.values()))\n",
    "                value = ((value[1:]-value[:-1])**2).mean()\n",
    "                if value<=0:\n",
    "                    value=1\n",
    "                a[key] = value\n",
    "            self.denominator.update(a)\n",
    "            \n",
    "            #weight \n",
    "            lv_weight = self.weight_df.groupby(group_id)[self.weight_columns].sum().sum(axis=1)\n",
    "            self.weight.update((lv_weight / lv_weight.sum()).to_dict())\n",
    "            \n",
    "        self.tensor_index = np.array(list(self.tensor_index.values()))\n",
    "        self.index_len = torch.FloatTensor(list(self.index_len.values()))\n",
    "        self.denominator = torch.FloatTensor(list(self.denominator.values()))\n",
    "        self.True_y = torch.FloatTensor(list(self.df[self.valid_d_cols].values))\n",
    "        self.weight = torch.FloatTensor(list(self.weight.values()))\n",
    "        \n",
    "        \n",
    "    def split_train_valid_data(self):\n",
    "        self.train_df = self.df[self.id_columns+self.train_d_cols]\n",
    "        self.valid_df = self.df[self.id_columns+self.valid_d_cols]\n",
    "        \n",
    "    def get_weight(self):\n",
    "        day_to_week = self.calendar.set_index('d')['wm_yr_wk'].to_dict()\n",
    "        weight_df = self.train_df[['item_id', 'store_id'] + self.weight_columns].set_index(['item_id', 'store_id'])\n",
    "        weight_df = weight_df.stack().reset_index().rename(columns={'level_2': 'd', 0: 'value'})\n",
    "        weight_df['wm_yr_wk'] = weight_df['d'].map(day_to_week)\n",
    "\n",
    "        weight_df = weight_df.merge(self.prices, how='left', on=['item_id', 'store_id', 'wm_yr_wk'])\n",
    "        weight_df['value'] = weight_df['value'] * weight_df['sell_price']\n",
    "        weight_df = weight_df.set_index(['item_id', 'store_id', 'd']).unstack(level=2)['value']\n",
    "        weight_df = weight_df.loc[zip(self.train_df.item_id, self.train_df.store_id), :].reset_index(drop=True)\n",
    "        self.weight_df = pd.concat([self.train_df[self.id_columns], weight_df], axis=1, sort=False)        \n",
    "    \n",
    "    def forward(self, pred, y):\n",
    "        Loss=0\n",
    "        for i in range(len(valid_criterion.index_len)):\n",
    "            lv_tensor_index = self.tensor_index[i]\n",
    "            d = 1/self.denominator[i]\n",
    "            w = self.weight[i]\n",
    "            Loss+=w*d*nn.MSELoss(pred[lv_tensor_index,:].sum(0),self.True_y[lv_tensor_index,:].sum(0))\n",
    "        return Loss"
   ]
  },
  {
   "cell_type": "code",
   "execution_count": 9,
   "metadata": {},
   "outputs": [
    {
     "name": "stdout",
     "output_type": "stream",
     "text": [
      "Wall time: 4.53 s\n"
     ]
    }
   ],
   "source": [
    "%%time\n",
    "original_train_df = pd.read_csv(path+'sales_train_validation.csv')\n",
    "calendar_df = pd.read_csv(path+'calendar.csv')\n",
    "sell_prices_df = pd.read_csv(path+'sell_prices.csv')\n",
    "sample_submission_df = pd.read_csv(path+'sample_submission.csv')"
   ]
  },
  {
   "cell_type": "code",
   "execution_count": 10,
   "metadata": {},
   "outputs": [],
   "source": [
    "train_criterion = WRMSSE(df=original_train_df, calendar=calendar_df, prices=sell_prices_df)\n",
    "valid_criterion = WRMSSE(df=original_train_df, calendar=calendar_df, prices=sell_prices_df)"
   ]
  },
  {
   "cell_type": "code",
   "execution_count": 11,
   "metadata": {},
   "outputs": [
    {
     "data": {
      "application/vnd.jupyter.widget-view+json": {
       "model_id": "9117f91a9d7347db849a77133046289f",
       "version_major": 2,
       "version_minor": 0
      },
      "text/plain": [
       "HBox(children=(FloatProgress(value=0.0, max=30490.0), HTML(value='')))"
      ]
     },
     "metadata": {},
     "output_type": "display_data"
    },
    {
     "name": "stdout",
     "output_type": "stream",
     "text": [
      "\n"
     ]
    },
    {
     "data": {
      "text/plain": [
       "'cuda'"
      ]
     },
     "execution_count": 11,
     "metadata": {},
     "output_type": "execute_result"
    }
   ],
   "source": [
    "train_df, calendar_df, calendar_data, price_data, is_sell = Preprocessing(original_train_df, calendar_df, sell_prices_df)\n",
    "device = 'cuda' if torch.cuda.is_available() else 'cpu'\n",
    "device"
   ]
  },
  {
   "cell_type": "code",
   "execution_count": 12,
   "metadata": {},
   "outputs": [
    {
     "data": {
      "text/plain": [
       "0"
      ]
     },
     "execution_count": 12,
     "metadata": {},
     "output_type": "execute_result"
    }
   ],
   "source": [
    "d_cols = [f'd_{i}' for i in range(1,1914)]\n",
    "n=200\n",
    "i=0\n",
    "if i==0:\n",
    "    cols = d_cols[-n*(i+1):]\n",
    "else:\n",
    "    cols = d_cols[-n*(i+1):-n*i]\n",
    "\n",
    "state='CA'\n",
    "data_ca = make_data(cols, state, train_df, calendar_data, price_data, is_sell, sample_submission_df)\n",
    "state='TX'\n",
    "data_tx = make_data(cols, state, train_df, calendar_data, price_data, is_sell, sample_submission_df)\n",
    "state='WI'\n",
    "data_wi = make_data(cols, state, train_df, calendar_data, price_data, is_sell, sample_submission_df)\n",
    "\n",
    "\n",
    "data = torch.cat(\n",
    "    (data_ca, data_tx, data_wi),\n",
    "    dim=0\n",
    ")\n",
    "calendar = make_calendar_data(calendar_data, cols)\n",
    "del data_ca, data_tx, data_wi\n",
    "gc.collect()"
   ]
  },
  {
   "cell_type": "code",
   "execution_count": 13,
   "metadata": {},
   "outputs": [],
   "source": [
    "data_set=Mydatasets(data, calendar)\n",
    "data_loader = torch.utils.data.DataLoader(data_set, batch_size = 200, shuffle = False)"
   ]
  },
  {
   "cell_type": "code",
   "execution_count": 14,
   "metadata": {},
   "outputs": [
    {
     "name": "stdout",
     "output_type": "stream",
     "text": [
      "torch.Size([200, 56, 200])\n",
      "torch.Size([200, 56, 200])\n",
      "torch.Size([200, 56, 200])\n",
      "torch.Size([200, 56, 200])\n",
      "torch.Size([200, 56, 200])\n"
     ]
    }
   ],
   "source": [
    "for i, x in enumerate(data_loader):\n",
    "    if i<5:\n",
    "        print(x.size())\n",
    "    pass"
   ]
  },
  {
   "cell_type": "code",
   "execution_count": 23,
   "metadata": {},
   "outputs": [],
   "source": [
    "in_size=56\n",
    "model = Conv_1d_Net(in_size)"
   ]
  },
  {
   "cell_type": "code",
   "execution_count": 16,
   "metadata": {},
   "outputs": [
    {
     "data": {
      "application/vnd.jupyter.widget-view+json": {
       "model_id": "e9b826ee01f547ba88c1a37b5767790a",
       "version_major": 2,
       "version_minor": 0
      },
      "text/plain": [
       "HBox(children=(FloatProgress(value=0.0, max=12.0), HTML(value='')))"
      ]
     },
     "metadata": {},
     "output_type": "display_data"
    },
    {
     "name": "stdout",
     "output_type": "stream",
     "text": [
      "\n"
     ]
    },
    {
     "data": {
      "text/plain": [
       "3"
      ]
     },
     "execution_count": 16,
     "metadata": {},
     "output_type": "execute_result"
    }
   ],
   "source": [
    "train_criterion.prepare_metrics(valid_d_cols=cols[-(28*2):-28])\n",
    "gc.collect()"
   ]
  },
  {
   "cell_type": "code",
   "execution_count": 17,
   "metadata": {},
   "outputs": [
    {
     "data": {
      "application/vnd.jupyter.widget-view+json": {
       "model_id": "b97c64a266be45eda59c8373f19323d2",
       "version_major": 2,
       "version_minor": 0
      },
      "text/plain": [
       "HBox(children=(FloatProgress(value=0.0, max=12.0), HTML(value='')))"
      ]
     },
     "metadata": {},
     "output_type": "display_data"
    },
    {
     "name": "stdout",
     "output_type": "stream",
     "text": [
      "\n"
     ]
    }
   ],
   "source": [
    "valid_criterion.prepare_metrics(valid_d_cols=cols[-28:])"
   ]
  },
  {
   "cell_type": "code",
   "execution_count": 21,
   "metadata": {},
   "outputs": [],
   "source": [
    "def train_model(model, data_set, criterion_train, criterion_valid):\n",
    "    num_epochs = 40\n",
    "    lr = 1e-4\n",
    "    eta_min = 1e-3\n",
    "    t_max = 10\n",
    "    numclass = 5\n",
    "    \n",
    "    model = model.to(device)\n",
    "    #criterion = nn.MSELoss()\n",
    "    optimizer = RAdam(params=model.parameters(), lr=lr)\n",
    "    scheduler = optim.lr_scheduler.CosineAnnealingLR(optimizer, T_max=t_max, eta_min=eta_min)\n",
    "\n",
    "\n",
    "    best_epoch = -1\n",
    "    best_score = 10000\n",
    "    early_stoppping_cnt = 0\n",
    "    best_model = model\n",
    "    \n",
    "    for epoch in range(num_epochs):\n",
    "        start_time = time.time()\n",
    "        \n",
    "        model.train()\n",
    "        avg_loss = 0.\n",
    "        \n",
    "        \n",
    "        train_pred = torch.tensor([])\n",
    "        for i, x_batch in tqdm(enumerate(data_loader), total=len(data_loader)):\n",
    "            optimizer.zero_grad()\n",
    "            \n",
    "            \n",
    "            y_batch = x_batch[:,0,-28*2:-28]\n",
    "            x_batch = x_batch[:,:,:-28*2]\n",
    "            x_batch = x_batch.to(device)\n",
    "            preds = model(x_batch)\n",
    "            train_pred = torch.cat(\n",
    "                (train_pred, preds.cpu()), dim=0\n",
    "            )\n",
    "            \n",
    "            del preds; gc.collect()\n",
    "            \n",
    "        loss = criterion_train(train_pred)\n",
    "        loss.backward()\n",
    "        optimizer.step()\n",
    "        avg_loss = loss.items()\n",
    "        \n",
    "        model.eval()\n",
    "        \n",
    "        valid_pred = torch.tensor([])\n",
    "        for i, x_batch in enumerate(data_loader):\n",
    "            y_batch = x_batch[:,0,-28:]\n",
    "            x_batch = x_batch[:,:,:-28]\n",
    "            x_batch = x_batch.to(device)\n",
    "            preds = model(x_batch)\n",
    "            valid_pred = torch.cat(\n",
    "                (valid_pred, preds.cpu()),\n",
    "                dim=0\n",
    "            ) \n",
    "            del preds; gc.collect()\n",
    "            \n",
    "        loss = criterion_valid(valid_pred)\n",
    "        avg_val_loss = loss.items()\n",
    "        \n",
    "        if best_score>avg_val_loss:\n",
    "            best_score = avg_val_loss\n",
    "            early_stoppping_cnt=0\n",
    "            best_epoch=epoch\n",
    "            best_model = model\n",
    "            elapsed = time.time() - start_time\n",
    "            p_avg_val_loss = termcolor.colored(np.round(avg_val_loss, 4),\"red\")\n",
    "            \n",
    "            print(f'Epoch {epoch+1} - avg_train_loss: {avg_loss:.4f}  avg_val_loss: {p_avg_val_loss} time: {elapsed:.0f}s')\n",
    "        else:\n",
    "            early_stoppping_cnt+=1\n",
    "            elapsed = time.time() - start_time\n",
    "            print(f'Epoch {epoch+1} - avg_train_loss: {avg_loss:.4f}  avg_val_loss: {avg_val_loss:.4f} time: {elapsed:.0f}s')\n",
    "        \n",
    "        if (epoch>10) and (early_stoppping_cnt>7):\n",
    "                break\n",
    "    \n",
    "    print(f'best_score : {best_score}    best_epoch : {best_epoch}')\n",
    "    torch.save(model.state_dict(), 'net.pt')\n",
    "    \n",
    "    return best_model, best_score"
   ]
  },
  {
   "cell_type": "code",
   "execution_count": 26,
   "metadata": {},
   "outputs": [
    {
     "data": {
      "text/plain": [
       "20"
      ]
     },
     "execution_count": 26,
     "metadata": {},
     "output_type": "execute_result"
    }
   ],
   "source": [
    "gc.collect()"
   ]
  },
  {
   "cell_type": "code",
   "execution_count": 27,
   "metadata": {
    "scrolled": true
   },
   "outputs": [
    {
     "data": {
      "application/vnd.jupyter.widget-view+json": {
       "model_id": "ceb09130402c407f9d3d13b2ff963ad6",
       "version_major": 2,
       "version_minor": 0
      },
      "text/plain": [
       "HBox(children=(FloatProgress(value=0.0, max=153.0), HTML(value='')))"
      ]
     },
     "metadata": {},
     "output_type": "display_data"
    },
    {
     "ename": "RuntimeError",
     "evalue": "CUDA out of memory. Tried to allocate 50.00 MiB (GPU 0; 6.00 GiB total capacity; 3.91 GiB already allocated; 6.91 MiB free; 407.61 MiB cached)",
     "output_type": "error",
     "traceback": [
      "\u001b[1;31m---------------------------------------------------------------------------\u001b[0m",
      "\u001b[1;31mRuntimeError\u001b[0m                              Traceback (most recent call last)",
      "\u001b[1;32m<ipython-input-27-7ac826f88bbb>\u001b[0m in \u001b[0;36m<module>\u001b[1;34m\u001b[0m\n\u001b[1;32m----> 1\u001b[1;33m \u001b[0mbest_model\u001b[0m\u001b[1;33m,\u001b[0m \u001b[0mbest_score\u001b[0m \u001b[1;33m=\u001b[0m \u001b[0mtrain_model\u001b[0m\u001b[1;33m(\u001b[0m\u001b[0mmodel\u001b[0m\u001b[1;33m,\u001b[0m \u001b[0mdata_set\u001b[0m\u001b[1;33m,\u001b[0m \u001b[0mtrain_criterion\u001b[0m\u001b[1;33m,\u001b[0m \u001b[0mvalid_criterion\u001b[0m\u001b[1;33m)\u001b[0m\u001b[1;33m\u001b[0m\u001b[1;33m\u001b[0m\u001b[0m\n\u001b[0m",
      "\u001b[1;32m<ipython-input-21-1bce9d9c17d7>\u001b[0m in \u001b[0;36mtrain_model\u001b[1;34m(model, data_set, criterion_train, criterion_valid)\u001b[0m\n\u001b[0;32m     32\u001b[0m             \u001b[0mx_batch\u001b[0m \u001b[1;33m=\u001b[0m \u001b[0mx_batch\u001b[0m\u001b[1;33m[\u001b[0m\u001b[1;33m:\u001b[0m\u001b[1;33m,\u001b[0m\u001b[1;33m:\u001b[0m\u001b[1;33m,\u001b[0m\u001b[1;33m:\u001b[0m\u001b[1;33m-\u001b[0m\u001b[1;36m28\u001b[0m\u001b[1;33m*\u001b[0m\u001b[1;36m2\u001b[0m\u001b[1;33m]\u001b[0m\u001b[1;33m\u001b[0m\u001b[1;33m\u001b[0m\u001b[0m\n\u001b[0;32m     33\u001b[0m             \u001b[0mx_batch\u001b[0m \u001b[1;33m=\u001b[0m \u001b[0mx_batch\u001b[0m\u001b[1;33m.\u001b[0m\u001b[0mto\u001b[0m\u001b[1;33m(\u001b[0m\u001b[0mdevice\u001b[0m\u001b[1;33m)\u001b[0m\u001b[1;33m\u001b[0m\u001b[1;33m\u001b[0m\u001b[0m\n\u001b[1;32m---> 34\u001b[1;33m             \u001b[0mpreds\u001b[0m \u001b[1;33m=\u001b[0m \u001b[0mmodel\u001b[0m\u001b[1;33m(\u001b[0m\u001b[0mx_batch\u001b[0m\u001b[1;33m)\u001b[0m\u001b[1;33m\u001b[0m\u001b[1;33m\u001b[0m\u001b[0m\n\u001b[0m\u001b[0;32m     35\u001b[0m             train_pred = torch.cat(\n\u001b[0;32m     36\u001b[0m                 \u001b[1;33m(\u001b[0m\u001b[0mtrain_pred\u001b[0m\u001b[1;33m,\u001b[0m \u001b[0mpreds\u001b[0m\u001b[1;33m.\u001b[0m\u001b[0mcpu\u001b[0m\u001b[1;33m(\u001b[0m\u001b[1;33m)\u001b[0m\u001b[1;33m)\u001b[0m\u001b[1;33m,\u001b[0m \u001b[0mdim\u001b[0m\u001b[1;33m=\u001b[0m\u001b[1;36m0\u001b[0m\u001b[1;33m\u001b[0m\u001b[1;33m\u001b[0m\u001b[0m\n",
      "\u001b[1;32mc:\\users\\abcdm\\appdata\\local\\programs\\python\\python37\\lib\\site-packages\\torch\\nn\\modules\\module.py\u001b[0m in \u001b[0;36m__call__\u001b[1;34m(self, *input, **kwargs)\u001b[0m\n\u001b[0;32m    539\u001b[0m             \u001b[0mresult\u001b[0m \u001b[1;33m=\u001b[0m \u001b[0mself\u001b[0m\u001b[1;33m.\u001b[0m\u001b[0m_slow_forward\u001b[0m\u001b[1;33m(\u001b[0m\u001b[1;33m*\u001b[0m\u001b[0minput\u001b[0m\u001b[1;33m,\u001b[0m \u001b[1;33m**\u001b[0m\u001b[0mkwargs\u001b[0m\u001b[1;33m)\u001b[0m\u001b[1;33m\u001b[0m\u001b[1;33m\u001b[0m\u001b[0m\n\u001b[0;32m    540\u001b[0m         \u001b[1;32melse\u001b[0m\u001b[1;33m:\u001b[0m\u001b[1;33m\u001b[0m\u001b[1;33m\u001b[0m\u001b[0m\n\u001b[1;32m--> 541\u001b[1;33m             \u001b[0mresult\u001b[0m \u001b[1;33m=\u001b[0m \u001b[0mself\u001b[0m\u001b[1;33m.\u001b[0m\u001b[0mforward\u001b[0m\u001b[1;33m(\u001b[0m\u001b[1;33m*\u001b[0m\u001b[0minput\u001b[0m\u001b[1;33m,\u001b[0m \u001b[1;33m**\u001b[0m\u001b[0mkwargs\u001b[0m\u001b[1;33m)\u001b[0m\u001b[1;33m\u001b[0m\u001b[1;33m\u001b[0m\u001b[0m\n\u001b[0m\u001b[0;32m    542\u001b[0m         \u001b[1;32mfor\u001b[0m \u001b[0mhook\u001b[0m \u001b[1;32min\u001b[0m \u001b[0mself\u001b[0m\u001b[1;33m.\u001b[0m\u001b[0m_forward_hooks\u001b[0m\u001b[1;33m.\u001b[0m\u001b[0mvalues\u001b[0m\u001b[1;33m(\u001b[0m\u001b[1;33m)\u001b[0m\u001b[1;33m:\u001b[0m\u001b[1;33m\u001b[0m\u001b[1;33m\u001b[0m\u001b[0m\n\u001b[0;32m    543\u001b[0m             \u001b[0mhook_result\u001b[0m \u001b[1;33m=\u001b[0m \u001b[0mhook\u001b[0m\u001b[1;33m(\u001b[0m\u001b[0mself\u001b[0m\u001b[1;33m,\u001b[0m \u001b[0minput\u001b[0m\u001b[1;33m,\u001b[0m \u001b[0mresult\u001b[0m\u001b[1;33m)\u001b[0m\u001b[1;33m\u001b[0m\u001b[1;33m\u001b[0m\u001b[0m\n",
      "\u001b[1;32m<ipython-input-5-d390051bc446>\u001b[0m in \u001b[0;36mforward\u001b[1;34m(self, x)\u001b[0m\n\u001b[0;32m     59\u001b[0m         \u001b[0mx\u001b[0m \u001b[1;33m=\u001b[0m \u001b[0mself\u001b[0m\u001b[1;33m.\u001b[0m\u001b[0mlayer_1\u001b[0m\u001b[1;33m(\u001b[0m\u001b[0mx\u001b[0m\u001b[1;33m)\u001b[0m\u001b[1;33m\u001b[0m\u001b[1;33m\u001b[0m\u001b[0m\n\u001b[0;32m     60\u001b[0m         \u001b[0mx\u001b[0m \u001b[1;33m=\u001b[0m \u001b[0mself\u001b[0m\u001b[1;33m.\u001b[0m\u001b[0mlayer_2\u001b[0m\u001b[1;33m(\u001b[0m\u001b[0mx\u001b[0m\u001b[1;33m)\u001b[0m\u001b[1;33m\u001b[0m\u001b[1;33m\u001b[0m\u001b[0m\n\u001b[1;32m---> 61\u001b[1;33m         \u001b[0mx\u001b[0m \u001b[1;33m=\u001b[0m \u001b[0mself\u001b[0m\u001b[1;33m.\u001b[0m\u001b[0mlayer_3\u001b[0m\u001b[1;33m(\u001b[0m\u001b[0mx\u001b[0m\u001b[1;33m)\u001b[0m\u001b[1;33m\u001b[0m\u001b[1;33m\u001b[0m\u001b[0m\n\u001b[0m\u001b[0;32m     62\u001b[0m         \u001b[1;31m#x = self.layer_4(x)\u001b[0m\u001b[1;33m\u001b[0m\u001b[1;33m\u001b[0m\u001b[1;33m\u001b[0m\u001b[0m\n\u001b[0;32m     63\u001b[0m         \u001b[0mx\u001b[0m \u001b[1;33m=\u001b[0m \u001b[0mself\u001b[0m\u001b[1;33m.\u001b[0m\u001b[0mavgpool1d\u001b[0m\u001b[1;33m(\u001b[0m\u001b[0mx\u001b[0m\u001b[1;33m)\u001b[0m\u001b[1;33m\u001b[0m\u001b[1;33m\u001b[0m\u001b[0m\n",
      "\u001b[1;32mc:\\users\\abcdm\\appdata\\local\\programs\\python\\python37\\lib\\site-packages\\torch\\nn\\modules\\module.py\u001b[0m in \u001b[0;36m__call__\u001b[1;34m(self, *input, **kwargs)\u001b[0m\n\u001b[0;32m    539\u001b[0m             \u001b[0mresult\u001b[0m \u001b[1;33m=\u001b[0m \u001b[0mself\u001b[0m\u001b[1;33m.\u001b[0m\u001b[0m_slow_forward\u001b[0m\u001b[1;33m(\u001b[0m\u001b[1;33m*\u001b[0m\u001b[0minput\u001b[0m\u001b[1;33m,\u001b[0m \u001b[1;33m**\u001b[0m\u001b[0mkwargs\u001b[0m\u001b[1;33m)\u001b[0m\u001b[1;33m\u001b[0m\u001b[1;33m\u001b[0m\u001b[0m\n\u001b[0;32m    540\u001b[0m         \u001b[1;32melse\u001b[0m\u001b[1;33m:\u001b[0m\u001b[1;33m\u001b[0m\u001b[1;33m\u001b[0m\u001b[0m\n\u001b[1;32m--> 541\u001b[1;33m             \u001b[0mresult\u001b[0m \u001b[1;33m=\u001b[0m \u001b[0mself\u001b[0m\u001b[1;33m.\u001b[0m\u001b[0mforward\u001b[0m\u001b[1;33m(\u001b[0m\u001b[1;33m*\u001b[0m\u001b[0minput\u001b[0m\u001b[1;33m,\u001b[0m \u001b[1;33m**\u001b[0m\u001b[0mkwargs\u001b[0m\u001b[1;33m)\u001b[0m\u001b[1;33m\u001b[0m\u001b[1;33m\u001b[0m\u001b[0m\n\u001b[0m\u001b[0;32m    542\u001b[0m         \u001b[1;32mfor\u001b[0m \u001b[0mhook\u001b[0m \u001b[1;32min\u001b[0m \u001b[0mself\u001b[0m\u001b[1;33m.\u001b[0m\u001b[0m_forward_hooks\u001b[0m\u001b[1;33m.\u001b[0m\u001b[0mvalues\u001b[0m\u001b[1;33m(\u001b[0m\u001b[1;33m)\u001b[0m\u001b[1;33m:\u001b[0m\u001b[1;33m\u001b[0m\u001b[1;33m\u001b[0m\u001b[0m\n\u001b[0;32m    543\u001b[0m             \u001b[0mhook_result\u001b[0m \u001b[1;33m=\u001b[0m \u001b[0mhook\u001b[0m\u001b[1;33m(\u001b[0m\u001b[0mself\u001b[0m\u001b[1;33m,\u001b[0m \u001b[0minput\u001b[0m\u001b[1;33m,\u001b[0m \u001b[0mresult\u001b[0m\u001b[1;33m)\u001b[0m\u001b[1;33m\u001b[0m\u001b[1;33m\u001b[0m\u001b[0m\n",
      "\u001b[1;32mc:\\users\\abcdm\\appdata\\local\\programs\\python\\python37\\lib\\site-packages\\torch\\nn\\modules\\container.py\u001b[0m in \u001b[0;36mforward\u001b[1;34m(self, input)\u001b[0m\n\u001b[0;32m     90\u001b[0m     \u001b[1;32mdef\u001b[0m \u001b[0mforward\u001b[0m\u001b[1;33m(\u001b[0m\u001b[0mself\u001b[0m\u001b[1;33m,\u001b[0m \u001b[0minput\u001b[0m\u001b[1;33m)\u001b[0m\u001b[1;33m:\u001b[0m\u001b[1;33m\u001b[0m\u001b[1;33m\u001b[0m\u001b[0m\n\u001b[0;32m     91\u001b[0m         \u001b[1;32mfor\u001b[0m \u001b[0mmodule\u001b[0m \u001b[1;32min\u001b[0m \u001b[0mself\u001b[0m\u001b[1;33m.\u001b[0m\u001b[0m_modules\u001b[0m\u001b[1;33m.\u001b[0m\u001b[0mvalues\u001b[0m\u001b[1;33m(\u001b[0m\u001b[1;33m)\u001b[0m\u001b[1;33m:\u001b[0m\u001b[1;33m\u001b[0m\u001b[1;33m\u001b[0m\u001b[0m\n\u001b[1;32m---> 92\u001b[1;33m             \u001b[0minput\u001b[0m \u001b[1;33m=\u001b[0m \u001b[0mmodule\u001b[0m\u001b[1;33m(\u001b[0m\u001b[0minput\u001b[0m\u001b[1;33m)\u001b[0m\u001b[1;33m\u001b[0m\u001b[1;33m\u001b[0m\u001b[0m\n\u001b[0m\u001b[0;32m     93\u001b[0m         \u001b[1;32mreturn\u001b[0m \u001b[0minput\u001b[0m\u001b[1;33m\u001b[0m\u001b[1;33m\u001b[0m\u001b[0m\n\u001b[0;32m     94\u001b[0m \u001b[1;33m\u001b[0m\u001b[0m\n",
      "\u001b[1;32mc:\\users\\abcdm\\appdata\\local\\programs\\python\\python37\\lib\\site-packages\\torch\\nn\\modules\\module.py\u001b[0m in \u001b[0;36m__call__\u001b[1;34m(self, *input, **kwargs)\u001b[0m\n\u001b[0;32m    539\u001b[0m             \u001b[0mresult\u001b[0m \u001b[1;33m=\u001b[0m \u001b[0mself\u001b[0m\u001b[1;33m.\u001b[0m\u001b[0m_slow_forward\u001b[0m\u001b[1;33m(\u001b[0m\u001b[1;33m*\u001b[0m\u001b[0minput\u001b[0m\u001b[1;33m,\u001b[0m \u001b[1;33m**\u001b[0m\u001b[0mkwargs\u001b[0m\u001b[1;33m)\u001b[0m\u001b[1;33m\u001b[0m\u001b[1;33m\u001b[0m\u001b[0m\n\u001b[0;32m    540\u001b[0m         \u001b[1;32melse\u001b[0m\u001b[1;33m:\u001b[0m\u001b[1;33m\u001b[0m\u001b[1;33m\u001b[0m\u001b[0m\n\u001b[1;32m--> 541\u001b[1;33m             \u001b[0mresult\u001b[0m \u001b[1;33m=\u001b[0m \u001b[0mself\u001b[0m\u001b[1;33m.\u001b[0m\u001b[0mforward\u001b[0m\u001b[1;33m(\u001b[0m\u001b[1;33m*\u001b[0m\u001b[0minput\u001b[0m\u001b[1;33m,\u001b[0m \u001b[1;33m**\u001b[0m\u001b[0mkwargs\u001b[0m\u001b[1;33m)\u001b[0m\u001b[1;33m\u001b[0m\u001b[1;33m\u001b[0m\u001b[0m\n\u001b[0m\u001b[0;32m    542\u001b[0m         \u001b[1;32mfor\u001b[0m \u001b[0mhook\u001b[0m \u001b[1;32min\u001b[0m \u001b[0mself\u001b[0m\u001b[1;33m.\u001b[0m\u001b[0m_forward_hooks\u001b[0m\u001b[1;33m.\u001b[0m\u001b[0mvalues\u001b[0m\u001b[1;33m(\u001b[0m\u001b[1;33m)\u001b[0m\u001b[1;33m:\u001b[0m\u001b[1;33m\u001b[0m\u001b[1;33m\u001b[0m\u001b[0m\n\u001b[0;32m    543\u001b[0m             \u001b[0mhook_result\u001b[0m \u001b[1;33m=\u001b[0m \u001b[0mhook\u001b[0m\u001b[1;33m(\u001b[0m\u001b[0mself\u001b[0m\u001b[1;33m,\u001b[0m \u001b[0minput\u001b[0m\u001b[1;33m,\u001b[0m \u001b[0mresult\u001b[0m\u001b[1;33m)\u001b[0m\u001b[1;33m\u001b[0m\u001b[1;33m\u001b[0m\u001b[0m\n",
      "\u001b[1;32m<ipython-input-5-d390051bc446>\u001b[0m in \u001b[0;36mforward\u001b[1;34m(self, x)\u001b[0m\n\u001b[0;32m     12\u001b[0m \u001b[1;33m\u001b[0m\u001b[0m\n\u001b[0;32m     13\u001b[0m     \u001b[1;32mdef\u001b[0m \u001b[0mforward\u001b[0m\u001b[1;33m(\u001b[0m\u001b[0mself\u001b[0m\u001b[1;33m,\u001b[0m \u001b[0mx\u001b[0m\u001b[1;33m)\u001b[0m\u001b[1;33m:\u001b[0m\u001b[1;33m\u001b[0m\u001b[1;33m\u001b[0m\u001b[0m\n\u001b[1;32m---> 14\u001b[1;33m         \u001b[0mx\u001b[0m \u001b[1;33m=\u001b[0m \u001b[0mx\u001b[0m\u001b[1;33m+\u001b[0m\u001b[0mself\u001b[0m\u001b[1;33m.\u001b[0m\u001b[0mlayer\u001b[0m\u001b[1;33m(\u001b[0m\u001b[0mx\u001b[0m\u001b[1;33m)\u001b[0m\u001b[1;33m\u001b[0m\u001b[1;33m\u001b[0m\u001b[0m\n\u001b[0m\u001b[0;32m     15\u001b[0m         \u001b[0mx\u001b[0m \u001b[1;33m=\u001b[0m \u001b[0mself\u001b[0m\u001b[1;33m.\u001b[0m\u001b[0mmish\u001b[0m\u001b[1;33m(\u001b[0m\u001b[0mx\u001b[0m\u001b[1;33m)\u001b[0m\u001b[1;33m\u001b[0m\u001b[1;33m\u001b[0m\u001b[0m\n\u001b[0;32m     16\u001b[0m         \u001b[1;32mreturn\u001b[0m \u001b[0mx\u001b[0m\u001b[1;33m\u001b[0m\u001b[1;33m\u001b[0m\u001b[0m\n",
      "\u001b[1;31mRuntimeError\u001b[0m: CUDA out of memory. Tried to allocate 50.00 MiB (GPU 0; 6.00 GiB total capacity; 3.91 GiB already allocated; 6.91 MiB free; 407.61 MiB cached)"
     ]
    }
   ],
   "source": [
    "best_model, best_score = train_model(model, data_set, train_criterion, valid_criterion)"
   ]
  },
  {
   "cell_type": "code",
   "execution_count": null,
   "metadata": {},
   "outputs": [],
   "source": []
  },
  {
   "cell_type": "code",
   "execution_count": null,
   "metadata": {},
   "outputs": [],
   "source": [
    "class Loss(nn.Module):\n",
    "    def __init__(self, tensor_index, denominator, weight, True_y):\n",
    "        super(Loss, self).__init__()\n",
    "        self.tensor_index = tensor_index\n",
    "        self.denominator = denominator\n",
    "        self.weight = weight\n",
    "        self.mse = nn.MSELoss()\n",
    "        self.True_y = True_y\n",
    "    def forward(self, preds):\n",
    "        Loss=0\n",
    "        for i in range(len(valid_criterion.index_len)):\n",
    "            lv_tensor_index = self.tensor_index[i]\n",
    "            d = 1/self.denominator[i]\n",
    "            w = self.weight[i]\n",
    "            Loss+=w*d*mse(pred[lv_tensor_index,:].sum(0),self.True_y[lv_tensor_index,:].sum(0))\n",
    "        return Loss"
   ]
  }
 ],
 "metadata": {
  "kernelspec": {
   "display_name": "Python 3",
   "language": "python",
   "name": "python3"
  },
  "language_info": {
   "codemirror_mode": {
    "name": "ipython",
    "version": 3
   },
   "file_extension": ".py",
   "mimetype": "text/x-python",
   "name": "python",
   "nbconvert_exporter": "python",
   "pygments_lexer": "ipython3",
   "version": "3.6.5"
  }
 },
 "nbformat": 4,
 "nbformat_minor": 2
}
