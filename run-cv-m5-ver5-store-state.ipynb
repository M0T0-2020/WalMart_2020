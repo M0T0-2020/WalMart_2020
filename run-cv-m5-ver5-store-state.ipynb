{
 "cells": [
  {
   "cell_type": "code",
   "execution_count": 1,
   "metadata": {
    "_cell_guid": "b1076dfc-b9ad-4769-8c92-a6c4dae69d19",
    "_uuid": "8f2839f25d086af736a60e9eeb907d3b93b6e0e5"
   },
   "outputs": [],
   "source": [
    "import warnings\n",
    "warnings.filterwarnings(\"ignore\")\n",
    "\n",
    "\n",
    "import numpy as np\n",
    "import pandas as pd\n",
    "import datetime\n",
    "from catboost import CatBoostClassifier\n",
    "import lightgbm as lgb\n",
    "from time import time\n",
    "from tqdm import tqdm_notebook as tqdm\n",
    "from collections import Counter\n",
    "from scipy import stats\n",
    "\n",
    "import matplotlib.pyplot as plt\n",
    "import seaborn as sns\n",
    "\n",
    "import ast\n",
    "\n",
    "from sklearn.preprocessing import LabelEncoder\n",
    "from sklearn.model_selection import StratifiedKFold, KFold, RepeatedKFold, GroupKFold, GridSearchCV, train_test_split, TimeSeriesSplit\n",
    "from sklearn import metrics\n",
    "from sklearn.metrics import classification_report, confusion_matrix, mean_squared_error\n",
    "from sklearn import linear_model\n",
    "\n",
    "from tqdm import tqdm_notebook as tqdm\n",
    "import gc, pickle\n",
    "\n",
    "import datetime\n",
    "from catboost import CatBoostClassifier\n",
    "from time import time\n",
    "from collections import Counter\n",
    "from scipy import stats\n",
    "\n",
    "from sklearn import preprocessing"
   ]
  },
  {
   "cell_type": "code",
   "execution_count": 2,
   "metadata": {},
   "outputs": [],
   "source": [
    "def create_is_sell_data(sell_prices_df, calendar_df, train_df):\n",
    "    sell_prices_df['id'] = sell_prices_df['item_id'].astype('str')+'_'+sell_prices_df['store_id']+'_validation'\n",
    "    sell_prices_data = sell_prices_df[sell_prices_df.wm_yr_wk.isin(calendar_df.wm_yr_wk.unique())]\n",
    "    sell_prices_data.reset_index(drop=True, inplace=True)\n",
    "    tmp = sell_prices_data.groupby(['id'])[['wm_yr_wk', 'sell_price']].apply(\n",
    "        lambda x: x.set_index('wm_yr_wk')['sell_price'].to_dict()\n",
    "    ).to_dict()\n",
    "    d = calendar_df.d\n",
    "    wm_yr_wk = calendar_df.wm_yr_wk\n",
    "    price_data = {}\n",
    "    for col in tqdm(train_df.id.unique()):\n",
    "        price_data[col] = wm_yr_wk.map(tmp[col])\n",
    "    price_data = pd.DataFrame(price_data)\n",
    "    price_data.index = d\n",
    "    is_sell = price_data.notnull().astype(float).T\n",
    "    price_data = price_data.fillna(0)\n",
    "    \n",
    "    is_sell.index=train_df.id\n",
    "    train_df.index=train_df.id\n",
    "    is_sell = pd.concat([\n",
    "        train_df[['id', 'item_id', 'dept_id', 'cat_id', 'store_id', 'state_id']], is_sell\n",
    "    ], axis=1)\n",
    "    price_data = pd.concat([\n",
    "        train_df[['id', 'item_id', 'dept_id', 'cat_id', 'store_id', 'state_id']], price_data.T  \n",
    "    ], axis=1)\n",
    "    \n",
    "    return price_data, is_sell\n",
    "\n",
    "def set_index(df, name):\n",
    "    d = {}\n",
    "    for col, value in df.iloc[0,:].items():\n",
    "        if type(col)==str:\n",
    "            if type(df[col].values[0])!=str:\n",
    "                v = 'd'\n",
    "            else:\n",
    "                v='id'\n",
    "        else:\n",
    "            v=name\n",
    "        d[col]=v\n",
    "    return d\n",
    "\n",
    "def dcol2int(col):\n",
    "    if col[:2]=='d_':\n",
    "        return int(col.replace('d_', ''))\n",
    "    else:\n",
    "        return col"
   ]
  },
  {
   "cell_type": "code",
   "execution_count": 3,
   "metadata": {},
   "outputs": [],
   "source": [
    "def create_category_data(data, dfT):\n",
    "    C = ['item_id', 'cat_id', 'dept_id', 'store_id', 'state_id']\n",
    "    tmp = dfT[C]\n",
    "    tmp = tmp.to_dict()\n",
    "    for key, value in tmp.items():\n",
    "        data[key] = data.id.map(value)\n",
    "    return data\n",
    "\n",
    "def create_calendar_data(data, calendar_df):\n",
    "    calendar_data_dict = calendar_df[['wday', 'month']].to_dict()\n",
    "    for key, value in calendar_data_dict.items():\n",
    "        data[key] = data.d.map(value)\n",
    "    \n",
    "    for shift in [-2,-1,0,1,2]:\n",
    "        cols = []\n",
    "        for state in ['CA', 'WI', 'TX']:\n",
    "            tmp = calendar_df[f'snap_{state}'].shift(shift).to_dict()\n",
    "            data[f'snap_{state}_shift{shift}'] = data.d.map(tmp)\n",
    "            cols.append(f'snap_{state}_shift{shift}')\n",
    "        data[f'snap_shift{shift}'] = np.nan\n",
    "        for col in cols:\n",
    "            state = col.replace('snap_', '').replace(f'_shift{shift}', '')\n",
    "            data.loc[data['state_id']==state,f'snap_shift{shift}'] = data[col]\n",
    "        data.drop(columns=cols, inplace=True)\n",
    "    return data\n",
    "\n",
    "def create_groupby_price_data(data, price_data, use_d_cols, groups=['dept_id', 'cat_id']):\n",
    "    for group in groups:\n",
    "        tmp = price_data[use_d_cols]/price_data.groupby([group, 'store_id'])[use_d_cols].transform('mean')\n",
    "        tmp = tmp.T.astype(float)\n",
    "        tmp = tmp.stack(dropna=False).reset_index()\n",
    "        tmp = tmp.rename(columns=set_index(tmp, f'price_mean_by_store_{group}'))\n",
    "        data = pd.merge(data, tmp, on=['d', 'id'], how='left')\n",
    "        \n",
    "    tmp = price_data[use_d_cols].stack().reset_index()\n",
    "    tmp = tmp.rename(columns=set_index(tmp, 'price'))\n",
    "    tmp.index = tmp.d.astype(str)+'_'+tmp.id.astype(str)\n",
    "    tmp = tmp.price.to_dict()\n",
    "    data['price'] = data.d_and_id.map(tmp)\n",
    "    \n",
    "    return data"
   ]
  },
  {
   "cell_type": "code",
   "execution_count": 4,
   "metadata": {},
   "outputs": [],
   "source": [
    "def create_event_data(data, name):\n",
    "    a = pd.concat([\n",
    "        train_df.groupby(['item_id'])[d_cols].agg('mean').T.astype(float),\n",
    "        calendar_df[name]\n",
    "    ],axis=1)\n",
    "    \n",
    "    cols = a.columns[:-1]\n",
    "    a[name]=a[name].fillna('NAN')\n",
    "    a[cols] = a.groupby([name])[cols].transform(\n",
    "        lambda x:x.sort_index().rolling(len(x), min_periods=1).mean().shift(1)\n",
    "    )/train_df.groupby(['item_id'])[d_cols].agg('mean').T.astype(float).shift(1).rolling(50, min_periods=1).mean()[cols]\n",
    "    \n",
    "    a.loc[a[name]=='NAN', cols]=0\n",
    "    a.loc[a[name]=='NAN', name]=np.nan\n",
    "    a.drop(name, axis=1, inplace=True)\n",
    "    \n",
    "    for shift in [-3,-2,-1,0,1]:\n",
    "        tmp_a = a.shift(shift).stack().reset_index()\n",
    "        tmp_a = tmp_a.rename(columns=set_index(tmp_a, 'value'))\n",
    "        tmp_a.index = tmp_a.id.astype(str)+'_'+tmp_a.d.astype(str)\n",
    "        tmp_a = tmp_a[tmp_a.index.isin(data.d.unique().tolist())]\n",
    "        tmp_a.drop(columns=['d', 'id'], inplace=True)\n",
    "        data[f'{name}_shift{shift}'] = (data.item_id.astype(str)+'_'+data.d.astype(str)).map(tmp_a['value']).apply(\n",
    "            lambda x: float(x) if float(x)>0 else 0\n",
    "        )\n",
    "    del a, tmp_a; gc.collect()\n",
    "    return data"
   ]
  },
  {
   "cell_type": "code",
   "execution_count": 5,
   "metadata": {},
   "outputs": [],
   "source": [
    "def create_roll_data(data, df, wins, use_d_cols):\n",
    "    for win in wins:\n",
    "        for agg in ['mean', 'std', 'skew']:\n",
    "            tmp = df[data.id.unique()].rolling(window=win, min_periods=1).agg(agg).loc[use_d_cols].stack(dropna=False).reset_index()\n",
    "            tmp = tmp.rename(columns=set_index(tmp, f'_diff_roll{win}_{agg}'))\n",
    "            data = pd.merge(data, tmp, on=['d', 'id'], how='left')\n",
    "        data[f'_diff_pct_roll{win}'] = data[f'_diff_roll{win}_mean']/data[f'_diff_roll{win}_std']\n",
    "    return data\n",
    "\n",
    "def create_diff_data(data, df, i, wins, use_d_cols, name=None):\n",
    "    a = abs(df.diff(i))\n",
    "    for win in wins:\n",
    "        for agg in ['mean']:\n",
    "            tmp = a.rolling(window=win, min_periods=1).agg(agg).loc[use_d_cols].stack(dropna=False).reset_index()\n",
    "            if name is None:\n",
    "                tmp = tmp.rename(columns=set_index(tmp, f'abs_diff_{i}_roll{win}_{agg}'))\n",
    "            else:\n",
    "                tmp = tmp.rename(columns=set_index(tmp, f'{name}_abs_diff_{i}_roll{win}_{agg}'))\n",
    "            data = pd.merge(data, tmp, on=['d', 'id'], how='left')\n",
    "    return data\n",
    "\n",
    "def create_group_sell_data(data, dfT, use_d_cols, groups=['dept_id', 'cat_id']):\n",
    "    for group in groups:\n",
    "        tmp = dfT[use_d_cols]/ dfT.groupby([group])[use_d_cols].transform('mean')\n",
    "        tmp = tmp.T.astype(float)\n",
    "        data = create_diff_data(data, tmp, 7, wins=[360, 30, 28, 7], use_d_cols=use_d_cols, name=f'By_{group}')\n",
    "        data = create_diff_data(data, tmp, 1, wins=[360, 7], use_d_cols=use_d_cols, name=f'By_{group}')\n",
    "        data = create_diff_data(data, tmp, 28, wins=[360, 7], use_d_cols=use_d_cols, name=f'By_{group}')\n",
    "    return data\n",
    "\n",
    "def create_shift_data(data, df, shifts, use_d_cols, name=None):\n",
    "    tmp_df = df[data.id.unique()]+df[data.id.unique()].shift(7)+df[data.id.unique()].shift(14)+df[data.id.unique()].shift(21)\n",
    "    \n",
    "    for i, shift in enumerate(shifts):\n",
    "        tmp = tmp_df.shift(shift).loc[use_d_cols].stack(dropna=False).reset_index()\n",
    "        if name is None:\n",
    "            tmp = tmp.rename(columns=set_index(tmp, f'shift_no{i+1}'))\n",
    "        else:\n",
    "            tmp = tmp.rename(columns=set_index(tmp, f'{name}_shift_no{i+1}'))\n",
    "        data = pd.merge(data, tmp, on=['d', 'id'], how='left')\n",
    "    return data\n",
    "\n",
    "def create_group_shift_data(data, df, dfT, shifts, use_d_cols):\n",
    "    for group in ['dept_id', 'cat_id']:\n",
    "        _tmp = dfT.groupby([group])[use_d_cols].transform('mean').T.astype(float)\n",
    "        data = create_shift_data(data, _tmp, shifts, use_d_cols, name=f'By_{group}')\n",
    "    return data"
   ]
  },
  {
   "cell_type": "code",
   "execution_count": 6,
   "metadata": {},
   "outputs": [
    {
     "data": {
      "application/vnd.jupyter.widget-view+json": {
       "model_id": "86a737ce3b8b4d2f9c4338be291468da",
       "version_major": 2,
       "version_minor": 0
      },
      "text/plain": [
       "HBox(children=(FloatProgress(value=0.0, max=30490.0), HTML(value='')))"
      ]
     },
     "metadata": {},
     "output_type": "display_data"
    },
    {
     "name": "stdout",
     "output_type": "stream",
     "text": [
      "\n",
      "CPU times: user 1min 3s, sys: 7.75 s, total: 1min 10s\n",
      "Wall time: 1min 9s\n"
     ]
    }
   ],
   "source": [
    "%%time\n",
    "#path = '/Users/kanoumotoharu/Downloads/m5-forecasting-accuracy/'\n",
    "#path = '/Users/abcdm/Downloads/m5-forecasting-accuracy/'\n",
    "path = '../input/m5-forecasting-accuracy/'\n",
    "\n",
    "train_df = pd.read_csv(path+'sales_train_validation.csv')\n",
    "calendar_df = pd.read_csv(path+'calendar.csv')\n",
    "sell_prices_df = pd.read_csv(path+'sell_prices.csv')\n",
    "sample_submission_df = pd.read_csv(path+'sample_submission.csv')\n",
    "\n",
    "\n",
    "calendar_df['d'] = calendar_df.d.str.replace('d_', '').astype(int)\n",
    "cols = train_df.columns\n",
    "cols = [dcol2int(col) for col in cols]\n",
    "train_df.columns=cols\n",
    "calendar_df['date']=pd.to_datetime(calendar_df.date)\n",
    "calendar_df.index = calendar_df.d\n",
    "price_data, is_sell = create_is_sell_data(sell_prices_df, calendar_df, train_df)\n",
    "\n",
    "d_cols = [ col for col in train_df.columns if type(col)!=str ]\n",
    "for i in range(1,29):\n",
    "    train_df[d_cols[-1]+i]=np.nan\n",
    "d_cols = [ col for col in train_df.columns if type(col)!=str ]\n",
    "\n",
    "train_df = pd.concat([\n",
    "    train_df[['id', 'item_id', 'dept_id', 'cat_id', 'store_id', 'state_id']],\n",
    "    train_df[d_cols]+is_sell[d_cols].replace(0, np.nan).replace(1, 0)\n",
    "], axis=1)"
   ]
  },
  {
   "cell_type": "code",
   "execution_count": 7,
   "metadata": {},
   "outputs": [],
   "source": [
    "lag=28\n",
    "train_d_cols = d_cols[-(lag+100):-lag]"
   ]
  },
  {
   "cell_type": "code",
   "execution_count": 8,
   "metadata": {},
   "outputs": [
    {
     "name": "stdout",
     "output_type": "stream",
     "text": [
      "CPU times: user 16.5 s, sys: 4.53 s, total: 21.1 s\n",
      "Wall time: 21 s\n"
     ]
    }
   ],
   "source": [
    "%%time\n",
    "use_d_cols = [i for i in range(train_d_cols[0]-200,train_d_cols[0])]+train_d_cols\n",
    "ids = train_df.id.unique().tolist()\n",
    "    \n",
    "df = train_df.loc[ids,:]\n",
    "df = df.T.loc[d_cols]\n",
    "df = pd.DataFrame(df.values.astype(float), index=d_cols, columns=df.columns)\n",
    "\n",
    "df['d']=df.index"
   ]
  },
  {
   "cell_type": "code",
   "execution_count": 9,
   "metadata": {},
   "outputs": [
    {
     "name": "stdout",
     "output_type": "stream",
     "text": [
      "CPU times: user 166 ms, sys: 91.6 ms, total: 258 ms\n",
      "Wall time: 257 ms\n"
     ]
    }
   ],
   "source": [
    "%%time\n",
    "calendar_dict = calendar_df[[\n",
    "    'date', 'wm_yr_wk', 'weekday', 'wday', 'month', 'year', 'd', 'event_name_1',\n",
    "    'event_type_1', 'event_name_2', 'event_type_2'\n",
    "]].set_index('d').to_dict()\n",
    "\n",
    "for key, value in calendar_dict.items():\n",
    "    df[key] = df['d'].map(value)\n",
    "df.drop('d', axis=1, inplace=True)"
   ]
  },
  {
   "cell_type": "code",
   "execution_count": 10,
   "metadata": {},
   "outputs": [
    {
     "name": "stdout",
     "output_type": "stream",
     "text": [
      "CPU times: user 807 ms, sys: 272 ms, total: 1.08 s\n",
      "Wall time: 1.08 s\n"
     ]
    }
   ],
   "source": [
    "%%time\n",
    "price_data[\n",
    "    [col for col in price_data.columns if type(col)!=str]\n",
    "] = price_data[\n",
    "    [col for col in price_data.columns if type(col)!=str]\n",
    "].replace(0, np.nan)"
   ]
  },
  {
   "cell_type": "code",
   "execution_count": 11,
   "metadata": {},
   "outputs": [
    {
     "name": "stdout",
     "output_type": "stream",
     "text": [
      "CPU times: user 72.5 ms, sys: 29.2 ms, total: 102 ms\n",
      "Wall time: 101 ms\n"
     ]
    }
   ],
   "source": [
    "%%time\n",
    "df = df.loc[use_d_cols]\n",
    "dfT = train_df.loc[ids,['id', 'item_id', 'dept_id', 'cat_id', 'store_id', 'state_id']+use_d_cols]"
   ]
  },
  {
   "cell_type": "code",
   "execution_count": 12,
   "metadata": {},
   "outputs": [
    {
     "name": "stdout",
     "output_type": "stream",
     "text": [
      "CPU times: user 29.6 ms, sys: 32.1 ms, total: 61.7 ms\n",
      "Wall time: 60.4 ms\n"
     ]
    }
   ],
   "source": [
    "%%time\n",
    "is_sell = is_sell[['id', 'item_id', 'dept_id', 'cat_id', 'store_id', 'state_id']+use_d_cols]\n",
    "price_data = price_data[['id', 'item_id', 'dept_id', 'cat_id', 'store_id', 'state_id']+use_d_cols]"
   ]
  },
  {
   "cell_type": "code",
   "execution_count": 13,
   "metadata": {},
   "outputs": [
    {
     "name": "stdout",
     "output_type": "stream",
     "text": [
      "CPU times: user 318 ms, sys: 52.7 ms, total: 371 ms\n",
      "Wall time: 372 ms\n"
     ]
    }
   ],
   "source": [
    "%%time\n",
    "data = df.loc[train_d_cols, ids].stack(dropna=False).reset_index().rename(columns={'level_0':'d', 'id':'id', 0:'TARGET'})"
   ]
  },
  {
   "cell_type": "code",
   "execution_count": 14,
   "metadata": {},
   "outputs": [
    {
     "data": {
      "text/html": [
       "<div>\n",
       "<style scoped>\n",
       "    .dataframe tbody tr th:only-of-type {\n",
       "        vertical-align: middle;\n",
       "    }\n",
       "\n",
       "    .dataframe tbody tr th {\n",
       "        vertical-align: top;\n",
       "    }\n",
       "\n",
       "    .dataframe thead th {\n",
       "        text-align: right;\n",
       "    }\n",
       "</style>\n",
       "<table border=\"1\" class=\"dataframe\">\n",
       "  <thead>\n",
       "    <tr style=\"text-align: right;\">\n",
       "      <th></th>\n",
       "      <th>d</th>\n",
       "      <th>id</th>\n",
       "      <th>TARGET</th>\n",
       "    </tr>\n",
       "  </thead>\n",
       "  <tbody>\n",
       "    <tr>\n",
       "      <th>0</th>\n",
       "      <td>1814</td>\n",
       "      <td>HOBBIES_1_001_CA_1_validation</td>\n",
       "      <td>0.0</td>\n",
       "    </tr>\n",
       "    <tr>\n",
       "      <th>1</th>\n",
       "      <td>1814</td>\n",
       "      <td>HOBBIES_1_002_CA_1_validation</td>\n",
       "      <td>0.0</td>\n",
       "    </tr>\n",
       "    <tr>\n",
       "      <th>2</th>\n",
       "      <td>1814</td>\n",
       "      <td>HOBBIES_1_003_CA_1_validation</td>\n",
       "      <td>0.0</td>\n",
       "    </tr>\n",
       "    <tr>\n",
       "      <th>3</th>\n",
       "      <td>1814</td>\n",
       "      <td>HOBBIES_1_004_CA_1_validation</td>\n",
       "      <td>3.0</td>\n",
       "    </tr>\n",
       "    <tr>\n",
       "      <th>4</th>\n",
       "      <td>1814</td>\n",
       "      <td>HOBBIES_1_005_CA_1_validation</td>\n",
       "      <td>0.0</td>\n",
       "    </tr>\n",
       "  </tbody>\n",
       "</table>\n",
       "</div>"
      ],
      "text/plain": [
       "      d                             id  TARGET\n",
       "0  1814  HOBBIES_1_001_CA_1_validation     0.0\n",
       "1  1814  HOBBIES_1_002_CA_1_validation     0.0\n",
       "2  1814  HOBBIES_1_003_CA_1_validation     0.0\n",
       "3  1814  HOBBIES_1_004_CA_1_validation     3.0\n",
       "4  1814  HOBBIES_1_005_CA_1_validation     0.0"
      ]
     },
     "execution_count": 14,
     "metadata": {},
     "output_type": "execute_result"
    }
   ],
   "source": [
    "data.head()"
   ]
  },
  {
   "cell_type": "code",
   "execution_count": 15,
   "metadata": {},
   "outputs": [
    {
     "name": "stdout",
     "output_type": "stream",
     "text": [
      "CPU times: user 2.73 s, sys: 274 ms, total: 3.01 s\n",
      "Wall time: 3 s\n"
     ]
    }
   ],
   "source": [
    "%%time\n",
    "data['d_and_id'] = data.d.astype(str)+'_'+data.id.astype(str)"
   ]
  },
  {
   "cell_type": "code",
   "execution_count": 16,
   "metadata": {},
   "outputs": [
    {
     "name": "stdout",
     "output_type": "stream",
     "text": [
      "CPU times: user 2.02 s, sys: 19 ms, total: 2.04 s\n",
      "Wall time: 2.03 s\n"
     ]
    }
   ],
   "source": [
    "%%time\n",
    "data = create_category_data(data, dfT)"
   ]
  },
  {
   "cell_type": "code",
   "execution_count": 17,
   "metadata": {},
   "outputs": [
    {
     "name": "stdout",
     "output_type": "stream",
     "text": [
      "CPU times: user 5.9 s, sys: 1.21 s, total: 7.11 s\n",
      "Wall time: 7.11 s\n"
     ]
    }
   ],
   "source": [
    "%%time\n",
    "data = create_calendar_data(data, calendar_df)"
   ]
  },
  {
   "cell_type": "code",
   "execution_count": 18,
   "metadata": {},
   "outputs": [
    {
     "name": "stdout",
     "output_type": "stream",
     "text": [
      "CPU times: user 42.5 s, sys: 6.08 s, total: 48.6 s\n",
      "Wall time: 48.2 s\n"
     ]
    }
   ],
   "source": [
    "%%time\n",
    "data = create_groupby_price_data(data, price_data, use_d_cols)"
   ]
  },
  {
   "cell_type": "code",
   "execution_count": 19,
   "metadata": {},
   "outputs": [
    {
     "data": {
      "application/vnd.jupyter.widget-view+json": {
       "model_id": "87d31dcab3d3407aa1cb59a950d0ccae",
       "version_major": 2,
       "version_minor": 0
      },
      "text/plain": [
       "HBox(children=(FloatProgress(value=0.0, max=4.0), HTML(value='')))"
      ]
     },
     "metadata": {},
     "output_type": "display_data"
    },
    {
     "name": "stdout",
     "output_type": "stream",
     "text": [
      "\n",
      "CPU times: user 5min 24s, sys: 27.1 s, total: 5min 51s\n",
      "Wall time: 5min 50s\n"
     ]
    }
   ],
   "source": [
    "%%time\n",
    "for name in tqdm(['event_name_1', 'event_type_1', 'event_name_2', 'event_type_2']):\n",
    "    data = create_event_data(data, name)"
   ]
  },
  {
   "cell_type": "code",
   "execution_count": 20,
   "metadata": {},
   "outputs": [
    {
     "name": "stdout",
     "output_type": "stream",
     "text": [
      "CPU times: user 12.1 s, sys: 1.08 s, total: 13.1 s\n",
      "Wall time: 13.1 s\n"
     ]
    }
   ],
   "source": [
    "%%time\n",
    "data = create_diff_data(data, df[ids], 7, wins=[30], use_d_cols=train_d_cols)\n",
    "data = create_diff_data(data, df[ids], 1, wins=[30, 7], use_d_cols=train_d_cols)\n",
    "data = create_diff_data(data, df[ids], 28, wins=[30], use_d_cols=train_d_cols)"
   ]
  },
  {
   "cell_type": "code",
   "execution_count": 21,
   "metadata": {},
   "outputs": [
    {
     "name": "stdout",
     "output_type": "stream",
     "text": [
      "CPU times: user 34.7 s, sys: 2.05 s, total: 36.8 s\n",
      "Wall time: 36.7 s\n"
     ]
    }
   ],
   "source": [
    "%%time\n",
    "wins=[7,14]\n",
    "data = create_roll_data(data, df, wins, use_d_cols)"
   ]
  },
  {
   "cell_type": "code",
   "execution_count": 22,
   "metadata": {},
   "outputs": [
    {
     "name": "stdout",
     "output_type": "stream",
     "text": [
      "CPU times: user 2min 58s, sys: 3.67 s, total: 3min 1s\n",
      "Wall time: 3min 2s\n"
     ]
    }
   ],
   "source": [
    "%%time\n",
    "data.to_csv('data.csv')\n",
    "df.to_csv('df.csv')\n",
    "dfT.to_csv('dfT.csv')"
   ]
  },
  {
   "cell_type": "code",
   "execution_count": 23,
   "metadata": {},
   "outputs": [
    {
     "name": "stdout",
     "output_type": "stream",
     "text": [
      "['id', 'd_and_id', 'item_id', 'cat_id', 'dept_id', 'store_id', 'state_id']\n",
      "CPU times: user 2.67 s, sys: 34.7 ms, total: 2.71 s\n",
      "Wall time: 2.71 s\n"
     ]
    }
   ],
   "source": [
    "%%time\n",
    "categories = [c for c in data.columns if data[c].dtype==object]\n",
    "print(categories)\n",
    "for c in categories:\n",
    "    if c=='id':\n",
    "        pass\n",
    "    else:\n",
    "        data[c] = pd.factorize(data[c])[0]"
   ]
  },
  {
   "cell_type": "code",
   "execution_count": 24,
   "metadata": {},
   "outputs": [
    {
     "data": {
      "text/html": [
       "<div>\n",
       "<style scoped>\n",
       "    .dataframe tbody tr th:only-of-type {\n",
       "        vertical-align: middle;\n",
       "    }\n",
       "\n",
       "    .dataframe tbody tr th {\n",
       "        vertical-align: top;\n",
       "    }\n",
       "\n",
       "    .dataframe thead th {\n",
       "        text-align: right;\n",
       "    }\n",
       "</style>\n",
       "<table border=\"1\" class=\"dataframe\">\n",
       "  <thead>\n",
       "    <tr style=\"text-align: right;\">\n",
       "      <th></th>\n",
       "      <th>d</th>\n",
       "      <th>id</th>\n",
       "      <th>TARGET</th>\n",
       "      <th>d_and_id</th>\n",
       "      <th>item_id</th>\n",
       "      <th>cat_id</th>\n",
       "      <th>dept_id</th>\n",
       "      <th>store_id</th>\n",
       "      <th>state_id</th>\n",
       "      <th>wday</th>\n",
       "      <th>...</th>\n",
       "      <th>abs_diff_1_roll7_mean</th>\n",
       "      <th>abs_diff_28_roll30_mean</th>\n",
       "      <th>_diff_roll7_mean</th>\n",
       "      <th>_diff_roll7_std</th>\n",
       "      <th>_diff_roll7_skew</th>\n",
       "      <th>_diff_pct_roll7</th>\n",
       "      <th>_diff_roll14_mean</th>\n",
       "      <th>_diff_roll14_std</th>\n",
       "      <th>_diff_roll14_skew</th>\n",
       "      <th>_diff_pct_roll14</th>\n",
       "    </tr>\n",
       "  </thead>\n",
       "  <tbody>\n",
       "    <tr>\n",
       "      <th>0</th>\n",
       "      <td>1814</td>\n",
       "      <td>HOBBIES_1_001_CA_1_validation</td>\n",
       "      <td>0.0</td>\n",
       "      <td>0</td>\n",
       "      <td>0</td>\n",
       "      <td>0</td>\n",
       "      <td>0</td>\n",
       "      <td>0</td>\n",
       "      <td>0</td>\n",
       "      <td>1</td>\n",
       "      <td>...</td>\n",
       "      <td>2.000000</td>\n",
       "      <td>1.033333</td>\n",
       "      <td>0.714286</td>\n",
       "      <td>1.889822</td>\n",
       "      <td>2.645751</td>\n",
       "      <td>0.377964</td>\n",
       "      <td>1.000000</td>\n",
       "      <td>1.617215</td>\n",
       "      <td>1.782294</td>\n",
       "      <td>0.618347</td>\n",
       "    </tr>\n",
       "    <tr>\n",
       "      <th>1</th>\n",
       "      <td>1814</td>\n",
       "      <td>HOBBIES_1_002_CA_1_validation</td>\n",
       "      <td>0.0</td>\n",
       "      <td>1</td>\n",
       "      <td>1</td>\n",
       "      <td>0</td>\n",
       "      <td>0</td>\n",
       "      <td>0</td>\n",
       "      <td>0</td>\n",
       "      <td>1</td>\n",
       "      <td>...</td>\n",
       "      <td>0.428571</td>\n",
       "      <td>0.900000</td>\n",
       "      <td>0.142857</td>\n",
       "      <td>0.377964</td>\n",
       "      <td>2.645751</td>\n",
       "      <td>0.377964</td>\n",
       "      <td>0.142857</td>\n",
       "      <td>0.363137</td>\n",
       "      <td>2.294821</td>\n",
       "      <td>0.393398</td>\n",
       "    </tr>\n",
       "    <tr>\n",
       "      <th>2</th>\n",
       "      <td>1814</td>\n",
       "      <td>HOBBIES_1_003_CA_1_validation</td>\n",
       "      <td>0.0</td>\n",
       "      <td>2</td>\n",
       "      <td>2</td>\n",
       "      <td>0</td>\n",
       "      <td>0</td>\n",
       "      <td>0</td>\n",
       "      <td>0</td>\n",
       "      <td>1</td>\n",
       "      <td>...</td>\n",
       "      <td>0.571429</td>\n",
       "      <td>1.500000</td>\n",
       "      <td>0.285714</td>\n",
       "      <td>0.487950</td>\n",
       "      <td>1.229634</td>\n",
       "      <td>0.585540</td>\n",
       "      <td>0.214286</td>\n",
       "      <td>0.425815</td>\n",
       "      <td>1.565624</td>\n",
       "      <td>0.503236</td>\n",
       "    </tr>\n",
       "    <tr>\n",
       "      <th>3</th>\n",
       "      <td>1814</td>\n",
       "      <td>HOBBIES_1_004_CA_1_validation</td>\n",
       "      <td>3.0</td>\n",
       "      <td>3</td>\n",
       "      <td>3</td>\n",
       "      <td>0</td>\n",
       "      <td>0</td>\n",
       "      <td>0</td>\n",
       "      <td>0</td>\n",
       "      <td>1</td>\n",
       "      <td>...</td>\n",
       "      <td>1.714286</td>\n",
       "      <td>1.533333</td>\n",
       "      <td>1.285714</td>\n",
       "      <td>1.704336</td>\n",
       "      <td>0.796426</td>\n",
       "      <td>0.754378</td>\n",
       "      <td>1.142857</td>\n",
       "      <td>1.292412</td>\n",
       "      <td>0.941731</td>\n",
       "      <td>0.884282</td>\n",
       "    </tr>\n",
       "    <tr>\n",
       "      <th>4</th>\n",
       "      <td>1814</td>\n",
       "      <td>HOBBIES_1_005_CA_1_validation</td>\n",
       "      <td>0.0</td>\n",
       "      <td>4</td>\n",
       "      <td>4</td>\n",
       "      <td>0</td>\n",
       "      <td>0</td>\n",
       "      <td>0</td>\n",
       "      <td>0</td>\n",
       "      <td>1</td>\n",
       "      <td>...</td>\n",
       "      <td>1.428571</td>\n",
       "      <td>1.300000</td>\n",
       "      <td>1.142857</td>\n",
       "      <td>1.214986</td>\n",
       "      <td>0.414182</td>\n",
       "      <td>0.940634</td>\n",
       "      <td>0.714286</td>\n",
       "      <td>1.069045</td>\n",
       "      <td>1.106307</td>\n",
       "      <td>0.668153</td>\n",
       "    </tr>\n",
       "  </tbody>\n",
       "</table>\n",
       "<p>5 rows × 51 columns</p>\n",
       "</div>"
      ],
      "text/plain": [
       "      d                             id  TARGET  d_and_id  item_id  cat_id  \\\n",
       "0  1814  HOBBIES_1_001_CA_1_validation     0.0         0        0       0   \n",
       "1  1814  HOBBIES_1_002_CA_1_validation     0.0         1        1       0   \n",
       "2  1814  HOBBIES_1_003_CA_1_validation     0.0         2        2       0   \n",
       "3  1814  HOBBIES_1_004_CA_1_validation     3.0         3        3       0   \n",
       "4  1814  HOBBIES_1_005_CA_1_validation     0.0         4        4       0   \n",
       "\n",
       "   dept_id  store_id  state_id  wday  ...  abs_diff_1_roll7_mean  \\\n",
       "0        0         0         0     1  ...               2.000000   \n",
       "1        0         0         0     1  ...               0.428571   \n",
       "2        0         0         0     1  ...               0.571429   \n",
       "3        0         0         0     1  ...               1.714286   \n",
       "4        0         0         0     1  ...               1.428571   \n",
       "\n",
       "   abs_diff_28_roll30_mean  _diff_roll7_mean  _diff_roll7_std  \\\n",
       "0                 1.033333          0.714286         1.889822   \n",
       "1                 0.900000          0.142857         0.377964   \n",
       "2                 1.500000          0.285714         0.487950   \n",
       "3                 1.533333          1.285714         1.704336   \n",
       "4                 1.300000          1.142857         1.214986   \n",
       "\n",
       "   _diff_roll7_skew  _diff_pct_roll7  _diff_roll14_mean  _diff_roll14_std  \\\n",
       "0          2.645751         0.377964           1.000000          1.617215   \n",
       "1          2.645751         0.377964           0.142857          0.363137   \n",
       "2          1.229634         0.585540           0.214286          0.425815   \n",
       "3          0.796426         0.754378           1.142857          1.292412   \n",
       "4          0.414182         0.940634           0.714286          1.069045   \n",
       "\n",
       "   _diff_roll14_skew  _diff_pct_roll14  \n",
       "0           1.782294          0.618347  \n",
       "1           2.294821          0.393398  \n",
       "2           1.565624          0.503236  \n",
       "3           0.941731          0.884282  \n",
       "4           1.106307          0.668153  \n",
       "\n",
       "[5 rows x 51 columns]"
      ]
     },
     "execution_count": 24,
     "metadata": {},
     "output_type": "execute_result"
    }
   ],
   "source": [
    "data.head()"
   ]
  },
  {
   "cell_type": "code",
   "execution_count": 25,
   "metadata": {},
   "outputs": [
    {
     "name": "stdout",
     "output_type": "stream",
     "text": [
      "<class 'pandas.core.frame.DataFrame'>\n",
      "Int64Index: 3049000 entries, 0 to 3048999\n",
      "Data columns (total 51 columns):\n",
      "d                              int64\n",
      "id                             object\n",
      "TARGET                         float64\n",
      "d_and_id                       int64\n",
      "item_id                        int64\n",
      "cat_id                         int64\n",
      "dept_id                        int64\n",
      "store_id                       int64\n",
      "state_id                       int64\n",
      "wday                           int64\n",
      "month                          int64\n",
      "snap_shift-2                   float64\n",
      "snap_shift-1                   float64\n",
      "snap_shift0                    float64\n",
      "snap_shift1                    float64\n",
      "snap_shift2                    float64\n",
      "price_mean_by_store_dept_id    float64\n",
      "price_mean_by_store_cat_id     float64\n",
      "price                          float64\n",
      "event_name_1_shift-3           int64\n",
      "event_name_1_shift-2           int64\n",
      "event_name_1_shift-1           int64\n",
      "event_name_1_shift0            int64\n",
      "event_name_1_shift1            int64\n",
      "event_type_1_shift-3           int64\n",
      "event_type_1_shift-2           int64\n",
      "event_type_1_shift-1           int64\n",
      "event_type_1_shift0            int64\n",
      "event_type_1_shift1            int64\n",
      "event_name_2_shift-3           int64\n",
      "event_name_2_shift-2           int64\n",
      "event_name_2_shift-1           int64\n",
      "event_name_2_shift0            int64\n",
      "event_name_2_shift1            int64\n",
      "event_type_2_shift-3           int64\n",
      "event_type_2_shift-2           int64\n",
      "event_type_2_shift-1           int64\n",
      "event_type_2_shift0            int64\n",
      "event_type_2_shift1            int64\n",
      "abs_diff_7_roll30_mean         float64\n",
      "abs_diff_1_roll30_mean         float64\n",
      "abs_diff_1_roll7_mean          float64\n",
      "abs_diff_28_roll30_mean        float64\n",
      "_diff_roll7_mean               float64\n",
      "_diff_roll7_std                float64\n",
      "_diff_roll7_skew               float64\n",
      "_diff_pct_roll7                float64\n",
      "_diff_roll14_mean              float64\n",
      "_diff_roll14_std               float64\n",
      "_diff_roll14_skew              float64\n",
      "_diff_pct_roll14               float64\n",
      "dtypes: float64(21), int64(29), object(1)\n",
      "memory usage: 1.2+ GB\n"
     ]
    }
   ],
   "source": [
    "data.info()"
   ]
  },
  {
   "cell_type": "code",
   "execution_count": 26,
   "metadata": {},
   "outputs": [
    {
     "data": {
      "text/plain": [
       "(3049000, 51)"
      ]
     },
     "execution_count": 26,
     "metadata": {},
     "output_type": "execute_result"
    }
   ],
   "source": [
    "data.shape"
   ]
  },
  {
   "cell_type": "code",
   "execution_count": 27,
   "metadata": {},
   "outputs": [
    {
     "data": {
      "text/html": [
       "<div>\n",
       "<style scoped>\n",
       "    .dataframe tbody tr th:only-of-type {\n",
       "        vertical-align: middle;\n",
       "    }\n",
       "\n",
       "    .dataframe tbody tr th {\n",
       "        vertical-align: top;\n",
       "    }\n",
       "\n",
       "    .dataframe thead th {\n",
       "        text-align: right;\n",
       "    }\n",
       "</style>\n",
       "<table border=\"1\" class=\"dataframe\">\n",
       "  <thead>\n",
       "    <tr style=\"text-align: right;\">\n",
       "      <th></th>\n",
       "      <th>d</th>\n",
       "      <th>id</th>\n",
       "      <th>TARGET</th>\n",
       "      <th>d_and_id</th>\n",
       "      <th>item_id</th>\n",
       "      <th>cat_id</th>\n",
       "      <th>dept_id</th>\n",
       "      <th>store_id</th>\n",
       "      <th>state_id</th>\n",
       "      <th>wday</th>\n",
       "      <th>...</th>\n",
       "      <th>abs_diff_1_roll7_mean</th>\n",
       "      <th>abs_diff_28_roll30_mean</th>\n",
       "      <th>_diff_roll7_mean</th>\n",
       "      <th>_diff_roll7_std</th>\n",
       "      <th>_diff_roll7_skew</th>\n",
       "      <th>_diff_pct_roll7</th>\n",
       "      <th>_diff_roll14_mean</th>\n",
       "      <th>_diff_roll14_std</th>\n",
       "      <th>_diff_roll14_skew</th>\n",
       "      <th>_diff_pct_roll14</th>\n",
       "    </tr>\n",
       "  </thead>\n",
       "  <tbody>\n",
       "    <tr>\n",
       "      <th>0</th>\n",
       "      <td>1814</td>\n",
       "      <td>HOBBIES_1_001_CA_1_validation</td>\n",
       "      <td>0.0</td>\n",
       "      <td>0</td>\n",
       "      <td>0</td>\n",
       "      <td>0</td>\n",
       "      <td>0</td>\n",
       "      <td>0</td>\n",
       "      <td>0</td>\n",
       "      <td>1</td>\n",
       "      <td>...</td>\n",
       "      <td>2.000000</td>\n",
       "      <td>1.033333</td>\n",
       "      <td>0.714286</td>\n",
       "      <td>1.889822</td>\n",
       "      <td>2.645751</td>\n",
       "      <td>0.377964</td>\n",
       "      <td>1.000000</td>\n",
       "      <td>1.617215e+00</td>\n",
       "      <td>1.782294</td>\n",
       "      <td>0.618347</td>\n",
       "    </tr>\n",
       "    <tr>\n",
       "      <th>1</th>\n",
       "      <td>1814</td>\n",
       "      <td>HOBBIES_1_002_CA_1_validation</td>\n",
       "      <td>0.0</td>\n",
       "      <td>1</td>\n",
       "      <td>1</td>\n",
       "      <td>0</td>\n",
       "      <td>0</td>\n",
       "      <td>0</td>\n",
       "      <td>0</td>\n",
       "      <td>1</td>\n",
       "      <td>...</td>\n",
       "      <td>0.428571</td>\n",
       "      <td>0.900000</td>\n",
       "      <td>0.142857</td>\n",
       "      <td>0.377964</td>\n",
       "      <td>2.645751</td>\n",
       "      <td>0.377964</td>\n",
       "      <td>0.142857</td>\n",
       "      <td>3.631365e-01</td>\n",
       "      <td>2.294821</td>\n",
       "      <td>0.393398</td>\n",
       "    </tr>\n",
       "    <tr>\n",
       "      <th>2</th>\n",
       "      <td>1814</td>\n",
       "      <td>HOBBIES_1_003_CA_1_validation</td>\n",
       "      <td>0.0</td>\n",
       "      <td>2</td>\n",
       "      <td>2</td>\n",
       "      <td>0</td>\n",
       "      <td>0</td>\n",
       "      <td>0</td>\n",
       "      <td>0</td>\n",
       "      <td>1</td>\n",
       "      <td>...</td>\n",
       "      <td>0.571429</td>\n",
       "      <td>1.500000</td>\n",
       "      <td>0.285714</td>\n",
       "      <td>0.487950</td>\n",
       "      <td>1.229634</td>\n",
       "      <td>0.585540</td>\n",
       "      <td>0.214286</td>\n",
       "      <td>4.258153e-01</td>\n",
       "      <td>1.565624</td>\n",
       "      <td>0.503236</td>\n",
       "    </tr>\n",
       "    <tr>\n",
       "      <th>3</th>\n",
       "      <td>1814</td>\n",
       "      <td>HOBBIES_1_004_CA_1_validation</td>\n",
       "      <td>3.0</td>\n",
       "      <td>3</td>\n",
       "      <td>3</td>\n",
       "      <td>0</td>\n",
       "      <td>0</td>\n",
       "      <td>0</td>\n",
       "      <td>0</td>\n",
       "      <td>1</td>\n",
       "      <td>...</td>\n",
       "      <td>1.714286</td>\n",
       "      <td>1.533333</td>\n",
       "      <td>1.285714</td>\n",
       "      <td>1.704336</td>\n",
       "      <td>0.796426</td>\n",
       "      <td>0.754378</td>\n",
       "      <td>1.142857</td>\n",
       "      <td>1.292412e+00</td>\n",
       "      <td>0.941731</td>\n",
       "      <td>0.884282</td>\n",
       "    </tr>\n",
       "    <tr>\n",
       "      <th>4</th>\n",
       "      <td>1814</td>\n",
       "      <td>HOBBIES_1_005_CA_1_validation</td>\n",
       "      <td>0.0</td>\n",
       "      <td>4</td>\n",
       "      <td>4</td>\n",
       "      <td>0</td>\n",
       "      <td>0</td>\n",
       "      <td>0</td>\n",
       "      <td>0</td>\n",
       "      <td>1</td>\n",
       "      <td>...</td>\n",
       "      <td>1.428571</td>\n",
       "      <td>1.300000</td>\n",
       "      <td>1.142857</td>\n",
       "      <td>1.214986</td>\n",
       "      <td>0.414182</td>\n",
       "      <td>0.940634</td>\n",
       "      <td>0.714286</td>\n",
       "      <td>1.069045e+00</td>\n",
       "      <td>1.106307</td>\n",
       "      <td>0.668153</td>\n",
       "    </tr>\n",
       "    <tr>\n",
       "      <th>...</th>\n",
       "      <td>...</td>\n",
       "      <td>...</td>\n",
       "      <td>...</td>\n",
       "      <td>...</td>\n",
       "      <td>...</td>\n",
       "      <td>...</td>\n",
       "      <td>...</td>\n",
       "      <td>...</td>\n",
       "      <td>...</td>\n",
       "      <td>...</td>\n",
       "      <td>...</td>\n",
       "      <td>...</td>\n",
       "      <td>...</td>\n",
       "      <td>...</td>\n",
       "      <td>...</td>\n",
       "      <td>...</td>\n",
       "      <td>...</td>\n",
       "      <td>...</td>\n",
       "      <td>...</td>\n",
       "      <td>...</td>\n",
       "      <td>...</td>\n",
       "    </tr>\n",
       "    <tr>\n",
       "      <th>3048995</th>\n",
       "      <td>1913</td>\n",
       "      <td>FOODS_3_823_WI_3_validation</td>\n",
       "      <td>1.0</td>\n",
       "      <td>3048995</td>\n",
       "      <td>3044</td>\n",
       "      <td>2</td>\n",
       "      <td>6</td>\n",
       "      <td>9</td>\n",
       "      <td>2</td>\n",
       "      <td>2</td>\n",
       "      <td>...</td>\n",
       "      <td>0.428571</td>\n",
       "      <td>0.466667</td>\n",
       "      <td>0.285714</td>\n",
       "      <td>0.487950</td>\n",
       "      <td>1.229634</td>\n",
       "      <td>0.585540</td>\n",
       "      <td>0.428571</td>\n",
       "      <td>7.559289e-01</td>\n",
       "      <td>1.526395</td>\n",
       "      <td>0.566947</td>\n",
       "    </tr>\n",
       "    <tr>\n",
       "      <th>3048996</th>\n",
       "      <td>1913</td>\n",
       "      <td>FOODS_3_824_WI_3_validation</td>\n",
       "      <td>0.0</td>\n",
       "      <td>3048996</td>\n",
       "      <td>3045</td>\n",
       "      <td>2</td>\n",
       "      <td>6</td>\n",
       "      <td>9</td>\n",
       "      <td>2</td>\n",
       "      <td>2</td>\n",
       "      <td>...</td>\n",
       "      <td>0.285714</td>\n",
       "      <td>0.300000</td>\n",
       "      <td>0.142857</td>\n",
       "      <td>0.377964</td>\n",
       "      <td>2.645751</td>\n",
       "      <td>0.377964</td>\n",
       "      <td>0.214286</td>\n",
       "      <td>4.258153e-01</td>\n",
       "      <td>1.565624</td>\n",
       "      <td>0.503236</td>\n",
       "    </tr>\n",
       "    <tr>\n",
       "      <th>3048997</th>\n",
       "      <td>1913</td>\n",
       "      <td>FOODS_3_825_WI_3_validation</td>\n",
       "      <td>0.0</td>\n",
       "      <td>3048997</td>\n",
       "      <td>3046</td>\n",
       "      <td>2</td>\n",
       "      <td>6</td>\n",
       "      <td>9</td>\n",
       "      <td>2</td>\n",
       "      <td>2</td>\n",
       "      <td>...</td>\n",
       "      <td>1.142857</td>\n",
       "      <td>1.233333</td>\n",
       "      <td>0.571429</td>\n",
       "      <td>0.786796</td>\n",
       "      <td>1.114550</td>\n",
       "      <td>0.726273</td>\n",
       "      <td>0.785714</td>\n",
       "      <td>1.188313e+00</td>\n",
       "      <td>1.761645</td>\n",
       "      <td>0.661201</td>\n",
       "    </tr>\n",
       "    <tr>\n",
       "      <th>3048998</th>\n",
       "      <td>1913</td>\n",
       "      <td>FOODS_3_826_WI_3_validation</td>\n",
       "      <td>3.0</td>\n",
       "      <td>3048998</td>\n",
       "      <td>3047</td>\n",
       "      <td>2</td>\n",
       "      <td>6</td>\n",
       "      <td>9</td>\n",
       "      <td>2</td>\n",
       "      <td>2</td>\n",
       "      <td>...</td>\n",
       "      <td>1.428571</td>\n",
       "      <td>1.233333</td>\n",
       "      <td>1.142857</td>\n",
       "      <td>1.345185</td>\n",
       "      <td>0.798168</td>\n",
       "      <td>0.849591</td>\n",
       "      <td>0.928571</td>\n",
       "      <td>1.206666e+00</td>\n",
       "      <td>1.075785</td>\n",
       "      <td>0.769534</td>\n",
       "    </tr>\n",
       "    <tr>\n",
       "      <th>3048999</th>\n",
       "      <td>1913</td>\n",
       "      <td>FOODS_3_827_WI_3_validation</td>\n",
       "      <td>0.0</td>\n",
       "      <td>3048999</td>\n",
       "      <td>3048</td>\n",
       "      <td>2</td>\n",
       "      <td>6</td>\n",
       "      <td>9</td>\n",
       "      <td>2</td>\n",
       "      <td>2</td>\n",
       "      <td>...</td>\n",
       "      <td>0.000000</td>\n",
       "      <td>2.333333</td>\n",
       "      <td>0.000000</td>\n",
       "      <td>0.000000</td>\n",
       "      <td>NaN</td>\n",
       "      <td>NaN</td>\n",
       "      <td>0.000000</td>\n",
       "      <td>1.026992e-07</td>\n",
       "      <td>NaN</td>\n",
       "      <td>0.000000</td>\n",
       "    </tr>\n",
       "  </tbody>\n",
       "</table>\n",
       "<p>3049000 rows × 51 columns</p>\n",
       "</div>"
      ],
      "text/plain": [
       "            d                             id  TARGET  d_and_id  item_id  \\\n",
       "0        1814  HOBBIES_1_001_CA_1_validation     0.0         0        0   \n",
       "1        1814  HOBBIES_1_002_CA_1_validation     0.0         1        1   \n",
       "2        1814  HOBBIES_1_003_CA_1_validation     0.0         2        2   \n",
       "3        1814  HOBBIES_1_004_CA_1_validation     3.0         3        3   \n",
       "4        1814  HOBBIES_1_005_CA_1_validation     0.0         4        4   \n",
       "...       ...                            ...     ...       ...      ...   \n",
       "3048995  1913    FOODS_3_823_WI_3_validation     1.0   3048995     3044   \n",
       "3048996  1913    FOODS_3_824_WI_3_validation     0.0   3048996     3045   \n",
       "3048997  1913    FOODS_3_825_WI_3_validation     0.0   3048997     3046   \n",
       "3048998  1913    FOODS_3_826_WI_3_validation     3.0   3048998     3047   \n",
       "3048999  1913    FOODS_3_827_WI_3_validation     0.0   3048999     3048   \n",
       "\n",
       "         cat_id  dept_id  store_id  state_id  wday  ...  \\\n",
       "0             0        0         0         0     1  ...   \n",
       "1             0        0         0         0     1  ...   \n",
       "2             0        0         0         0     1  ...   \n",
       "3             0        0         0         0     1  ...   \n",
       "4             0        0         0         0     1  ...   \n",
       "...         ...      ...       ...       ...   ...  ...   \n",
       "3048995       2        6         9         2     2  ...   \n",
       "3048996       2        6         9         2     2  ...   \n",
       "3048997       2        6         9         2     2  ...   \n",
       "3048998       2        6         9         2     2  ...   \n",
       "3048999       2        6         9         2     2  ...   \n",
       "\n",
       "         abs_diff_1_roll7_mean  abs_diff_28_roll30_mean  _diff_roll7_mean  \\\n",
       "0                     2.000000                 1.033333          0.714286   \n",
       "1                     0.428571                 0.900000          0.142857   \n",
       "2                     0.571429                 1.500000          0.285714   \n",
       "3                     1.714286                 1.533333          1.285714   \n",
       "4                     1.428571                 1.300000          1.142857   \n",
       "...                        ...                      ...               ...   \n",
       "3048995               0.428571                 0.466667          0.285714   \n",
       "3048996               0.285714                 0.300000          0.142857   \n",
       "3048997               1.142857                 1.233333          0.571429   \n",
       "3048998               1.428571                 1.233333          1.142857   \n",
       "3048999               0.000000                 2.333333          0.000000   \n",
       "\n",
       "         _diff_roll7_std  _diff_roll7_skew  _diff_pct_roll7  \\\n",
       "0               1.889822          2.645751         0.377964   \n",
       "1               0.377964          2.645751         0.377964   \n",
       "2               0.487950          1.229634         0.585540   \n",
       "3               1.704336          0.796426         0.754378   \n",
       "4               1.214986          0.414182         0.940634   \n",
       "...                  ...               ...              ...   \n",
       "3048995         0.487950          1.229634         0.585540   \n",
       "3048996         0.377964          2.645751         0.377964   \n",
       "3048997         0.786796          1.114550         0.726273   \n",
       "3048998         1.345185          0.798168         0.849591   \n",
       "3048999         0.000000               NaN              NaN   \n",
       "\n",
       "         _diff_roll14_mean  _diff_roll14_std  _diff_roll14_skew  \\\n",
       "0                 1.000000      1.617215e+00           1.782294   \n",
       "1                 0.142857      3.631365e-01           2.294821   \n",
       "2                 0.214286      4.258153e-01           1.565624   \n",
       "3                 1.142857      1.292412e+00           0.941731   \n",
       "4                 0.714286      1.069045e+00           1.106307   \n",
       "...                    ...               ...                ...   \n",
       "3048995           0.428571      7.559289e-01           1.526395   \n",
       "3048996           0.214286      4.258153e-01           1.565624   \n",
       "3048997           0.785714      1.188313e+00           1.761645   \n",
       "3048998           0.928571      1.206666e+00           1.075785   \n",
       "3048999           0.000000      1.026992e-07                NaN   \n",
       "\n",
       "         _diff_pct_roll14  \n",
       "0                0.618347  \n",
       "1                0.393398  \n",
       "2                0.503236  \n",
       "3                0.884282  \n",
       "4                0.668153  \n",
       "...                   ...  \n",
       "3048995          0.566947  \n",
       "3048996          0.503236  \n",
       "3048997          0.661201  \n",
       "3048998          0.769534  \n",
       "3048999          0.000000  \n",
       "\n",
       "[3049000 rows x 51 columns]"
      ]
     },
     "execution_count": 27,
     "metadata": {},
     "output_type": "execute_result"
    }
   ],
   "source": [
    "data"
   ]
  },
  {
   "cell_type": "code",
   "execution_count": 28,
   "metadata": {},
   "outputs": [
    {
     "data": {
      "text/plain": [
       "<matplotlib.axes._subplots.AxesSubplot at 0x7f7d2f261780>"
      ]
     },
     "execution_count": 28,
     "metadata": {},
     "output_type": "execute_result"
    },
    {
     "data": {
      "image/png": "[encoded data removed]",
      "text/plain": [
       "<Figure size 432x288 with 1 Axes>"
      ]
     },
     "metadata": {
      "needs_background": "light"
     },
     "output_type": "display_data"
    }
   ],
   "source": [
    "sns.distplot(data._diff_roll7_mean)"
   ]
  },
  {
   "cell_type": "code",
   "execution_count": 29,
   "metadata": {},
   "outputs": [
    {
     "data": {
      "text/plain": [
       "<matplotlib.axes._subplots.AxesSubplot at 0x7f7d57b626a0>"
      ]
     },
     "execution_count": 29,
     "metadata": {},
     "output_type": "execute_result"
    },
    {
     "data": {
      "image/png": "[encoded data removed]",
      "text/plain": [
       "<Figure size 432x288 with 1 Axes>"
      ]
     },
     "metadata": {
      "needs_background": "light"
     },
     "output_type": "display_data"
    }
   ],
   "source": [
    "sns.distplot(np.log1p(data._diff_roll7_mean))"
   ]
  },
  {
   "cell_type": "code",
   "execution_count": 30,
   "metadata": {},
   "outputs": [
    {
     "data": {
      "text/plain": [
       "<matplotlib.axes._subplots.AxesSubplot at 0x7f7d55e544e0>"
      ]
     },
     "execution_count": 30,
     "metadata": {},
     "output_type": "execute_result"
    },
    {
     "data": {
      "image/png": "[encoded data removed]",
      "text/plain": [
       "<Figure size 432x288 with 1 Axes>"
      ]
     },
     "metadata": {
      "needs_background": "light"
     },
     "output_type": "display_data"
    }
   ],
   "source": [
    "sns.distplot(np.log1p(data[data._diff_roll7_mean>4]._diff_roll7_mean))"
   ]
  },
  {
   "cell_type": "code",
   "execution_count": 31,
   "metadata": {},
   "outputs": [],
   "source": [
    "a = data[['id', '_diff_roll7_mean']].groupby(['id'])['_diff_roll7_mean'].transform(\n",
    "    lambda x: x.sort_index().shift(1)\n",
    ")"
   ]
  },
  {
   "cell_type": "code",
   "execution_count": 32,
   "metadata": {},
   "outputs": [],
   "source": [
    "a = pd.concat([\n",
    "    data.TARGET,\n",
    "    a\n",
    "],axis=1)"
   ]
  },
  {
   "cell_type": "code",
   "execution_count": 33,
   "metadata": {},
   "outputs": [
    {
     "data": {
      "text/plain": [
       "[<matplotlib.lines.Line2D at 0x7f7d56141ef0>]"
      ]
     },
     "execution_count": 33,
     "metadata": {},
     "output_type": "execute_result"
    },
    {
     "data": {
      "image/png": "[encoded data removed]",
      "text/plain": [
       "<Figure size 432x288 with 1 Axes>"
      ]
     },
     "metadata": {
      "needs_background": "light"
     },
     "output_type": "display_data"
    }
   ],
   "source": [
    "sns.scatterplot(\n",
    "    data=a,\n",
    "    x='TARGET',\n",
    "    y='_diff_roll7_mean'\n",
    ")\n",
    "plt.plot([0,200], [0,200])"
   ]
  },
  {
   "cell_type": "code",
   "execution_count": 34,
   "metadata": {},
   "outputs": [
    {
     "data": {
      "text/html": [
       "<div>\n",
       "<style scoped>\n",
       "    .dataframe tbody tr th:only-of-type {\n",
       "        vertical-align: middle;\n",
       "    }\n",
       "\n",
       "    .dataframe tbody tr th {\n",
       "        vertical-align: top;\n",
       "    }\n",
       "\n",
       "    .dataframe thead th {\n",
       "        text-align: right;\n",
       "    }\n",
       "</style>\n",
       "<table border=\"1\" class=\"dataframe\">\n",
       "  <thead>\n",
       "    <tr style=\"text-align: right;\">\n",
       "      <th></th>\n",
       "      <th>d</th>\n",
       "      <th>id</th>\n",
       "      <th>TARGET</th>\n",
       "      <th>d_and_id</th>\n",
       "      <th>item_id</th>\n",
       "      <th>cat_id</th>\n",
       "      <th>dept_id</th>\n",
       "      <th>store_id</th>\n",
       "      <th>state_id</th>\n",
       "      <th>wday</th>\n",
       "      <th>...</th>\n",
       "      <th>abs_diff_1_roll7_mean</th>\n",
       "      <th>abs_diff_28_roll30_mean</th>\n",
       "      <th>_diff_roll7_mean</th>\n",
       "      <th>_diff_roll7_std</th>\n",
       "      <th>_diff_roll7_skew</th>\n",
       "      <th>_diff_pct_roll7</th>\n",
       "      <th>_diff_roll14_mean</th>\n",
       "      <th>_diff_roll14_std</th>\n",
       "      <th>_diff_roll14_skew</th>\n",
       "      <th>_diff_pct_roll14</th>\n",
       "    </tr>\n",
       "  </thead>\n",
       "  <tbody>\n",
       "    <tr>\n",
       "      <th>1520588</th>\n",
       "      <td>1863</td>\n",
       "      <td>FOODS_2_360_WI_2_validation</td>\n",
       "      <td>248.0</td>\n",
       "      <td>1520588</td>\n",
       "      <td>2186</td>\n",
       "      <td>2</td>\n",
       "      <td>5</td>\n",
       "      <td>8</td>\n",
       "      <td>2</td>\n",
       "      <td>1</td>\n",
       "      <td>...</td>\n",
       "      <td>35.428571</td>\n",
       "      <td>11.166667</td>\n",
       "      <td>47.857143</td>\n",
       "      <td>94.022034</td>\n",
       "      <td>2.113637</td>\n",
       "      <td>0.508999</td>\n",
       "      <td>23.928571</td>\n",
       "      <td>68.532378</td>\n",
       "      <td>3.160832</td>\n",
       "      <td>0.349157</td>\n",
       "    </tr>\n",
       "    <tr>\n",
       "      <th>2142712</th>\n",
       "      <td>1884</td>\n",
       "      <td>FOODS_3_090_CA_3_validation</td>\n",
       "      <td>218.0</td>\n",
       "      <td>2142712</td>\n",
       "      <td>2314</td>\n",
       "      <td>2</td>\n",
       "      <td>6</td>\n",
       "      <td>2</td>\n",
       "      <td>0</td>\n",
       "      <td>1</td>\n",
       "      <td>...</td>\n",
       "      <td>44.571429</td>\n",
       "      <td>27.566667</td>\n",
       "      <td>112.000000</td>\n",
       "      <td>55.551778</td>\n",
       "      <td>1.401807</td>\n",
       "      <td>2.016137</td>\n",
       "      <td>105.714286</td>\n",
       "      <td>46.696118</td>\n",
       "      <td>1.504984</td>\n",
       "      <td>2.263877</td>\n",
       "    </tr>\n",
       "    <tr>\n",
       "      <th>2173202</th>\n",
       "      <td>1885</td>\n",
       "      <td>FOODS_3_090_CA_3_validation</td>\n",
       "      <td>212.0</td>\n",
       "      <td>2173202</td>\n",
       "      <td>2314</td>\n",
       "      <td>2</td>\n",
       "      <td>6</td>\n",
       "      <td>2</td>\n",
       "      <td>0</td>\n",
       "      <td>2</td>\n",
       "      <td>...</td>\n",
       "      <td>35.000000</td>\n",
       "      <td>28.766667</td>\n",
       "      <td>126.714286</td>\n",
       "      <td>67.071391</td>\n",
       "      <td>0.631170</td>\n",
       "      <td>1.889245</td>\n",
       "      <td>112.928571</td>\n",
       "      <td>54.692798</td>\n",
       "      <td>1.130654</td>\n",
       "      <td>2.064780</td>\n",
       "    </tr>\n",
       "    <tr>\n",
       "      <th>2813492</th>\n",
       "      <td>1906</td>\n",
       "      <td>FOODS_3_090_CA_3_validation</td>\n",
       "      <td>204.0</td>\n",
       "      <td>2813492</td>\n",
       "      <td>2314</td>\n",
       "      <td>2</td>\n",
       "      <td>6</td>\n",
       "      <td>2</td>\n",
       "      <td>0</td>\n",
       "      <td>2</td>\n",
       "      <td>...</td>\n",
       "      <td>22.857143</td>\n",
       "      <td>28.866667</td>\n",
       "      <td>123.142857</td>\n",
       "      <td>44.827181</td>\n",
       "      <td>1.126569</td>\n",
       "      <td>2.747058</td>\n",
       "      <td>114.428571</td>\n",
       "      <td>37.898070</td>\n",
       "      <td>1.171253</td>\n",
       "      <td>3.019377</td>\n",
       "    </tr>\n",
       "  </tbody>\n",
       "</table>\n",
       "<p>4 rows × 51 columns</p>\n",
       "</div>"
      ],
      "text/plain": [
       "            d                           id  TARGET  d_and_id  item_id  cat_id  \\\n",
       "1520588  1863  FOODS_2_360_WI_2_validation   248.0   1520588     2186       2   \n",
       "2142712  1884  FOODS_3_090_CA_3_validation   218.0   2142712     2314       2   \n",
       "2173202  1885  FOODS_3_090_CA_3_validation   212.0   2173202     2314       2   \n",
       "2813492  1906  FOODS_3_090_CA_3_validation   204.0   2813492     2314       2   \n",
       "\n",
       "         dept_id  store_id  state_id  wday  ...  abs_diff_1_roll7_mean  \\\n",
       "1520588        5         8         2     1  ...              35.428571   \n",
       "2142712        6         2         0     1  ...              44.571429   \n",
       "2173202        6         2         0     2  ...              35.000000   \n",
       "2813492        6         2         0     2  ...              22.857143   \n",
       "\n",
       "         abs_diff_28_roll30_mean  _diff_roll7_mean  _diff_roll7_std  \\\n",
       "1520588                11.166667         47.857143        94.022034   \n",
       "2142712                27.566667        112.000000        55.551778   \n",
       "2173202                28.766667        126.714286        67.071391   \n",
       "2813492                28.866667        123.142857        44.827181   \n",
       "\n",
       "         _diff_roll7_skew  _diff_pct_roll7  _diff_roll14_mean  \\\n",
       "1520588          2.113637         0.508999          23.928571   \n",
       "2142712          1.401807         2.016137         105.714286   \n",
       "2173202          0.631170         1.889245         112.928571   \n",
       "2813492          1.126569         2.747058         114.428571   \n",
       "\n",
       "         _diff_roll14_std  _diff_roll14_skew  _diff_pct_roll14  \n",
       "1520588         68.532378           3.160832          0.349157  \n",
       "2142712         46.696118           1.504984          2.263877  \n",
       "2173202         54.692798           1.130654          2.064780  \n",
       "2813492         37.898070           1.171253          3.019377  \n",
       "\n",
       "[4 rows x 51 columns]"
      ]
     },
     "execution_count": 34,
     "metadata": {},
     "output_type": "execute_result"
    }
   ],
   "source": [
    "data[data.TARGET>200]"
   ]
  },
  {
   "cell_type": "code",
   "execution_count": 35,
   "metadata": {},
   "outputs": [
    {
     "data": {
      "text/plain": [
       "<matplotlib.axes._subplots.AxesSubplot at 0x7f7d57e3fd30>"
      ]
     },
     "execution_count": 35,
     "metadata": {},
     "output_type": "execute_result"
    },
    {
     "data": {
      "image/png": "[encoded data removed]",
      "text/plain": [
       "<Figure size 432x288 with 1 Axes>"
      ]
     },
     "metadata": {
      "needs_background": "light"
     },
     "output_type": "display_data"
    }
   ],
   "source": [
    "data[data.id=='FOODS_2_360_WI_2_validation'].TARGET.plot()"
   ]
  },
  {
   "cell_type": "code",
   "execution_count": 36,
   "metadata": {},
   "outputs": [
    {
     "data": {
      "text/html": [
       "<div>\n",
       "<style scoped>\n",
       "    .dataframe tbody tr th:only-of-type {\n",
       "        vertical-align: middle;\n",
       "    }\n",
       "\n",
       "    .dataframe tbody tr th {\n",
       "        vertical-align: top;\n",
       "    }\n",
       "\n",
       "    .dataframe thead th {\n",
       "        text-align: right;\n",
       "    }\n",
       "</style>\n",
       "<table border=\"1\" class=\"dataframe\">\n",
       "  <thead>\n",
       "    <tr style=\"text-align: right;\">\n",
       "      <th></th>\n",
       "      <th>date</th>\n",
       "      <th>wm_yr_wk</th>\n",
       "      <th>weekday</th>\n",
       "      <th>wday</th>\n",
       "      <th>month</th>\n",
       "      <th>year</th>\n",
       "      <th>d</th>\n",
       "      <th>event_name_1</th>\n",
       "      <th>event_type_1</th>\n",
       "      <th>event_name_2</th>\n",
       "      <th>event_type_2</th>\n",
       "      <th>snap_CA</th>\n",
       "      <th>snap_TX</th>\n",
       "      <th>snap_WI</th>\n",
       "    </tr>\n",
       "    <tr>\n",
       "      <th>d</th>\n",
       "      <th></th>\n",
       "      <th></th>\n",
       "      <th></th>\n",
       "      <th></th>\n",
       "      <th></th>\n",
       "      <th></th>\n",
       "      <th></th>\n",
       "      <th></th>\n",
       "      <th></th>\n",
       "      <th></th>\n",
       "      <th></th>\n",
       "      <th></th>\n",
       "      <th></th>\n",
       "      <th></th>\n",
       "    </tr>\n",
       "  </thead>\n",
       "  <tbody>\n",
       "    <tr>\n",
       "      <th>1863</th>\n",
       "      <td>2016-03-05</td>\n",
       "      <td>11606</td>\n",
       "      <td>Saturday</td>\n",
       "      <td>1</td>\n",
       "      <td>3</td>\n",
       "      <td>2016</td>\n",
       "      <td>1863</td>\n",
       "      <td>NaN</td>\n",
       "      <td>NaN</td>\n",
       "      <td>NaN</td>\n",
       "      <td>NaN</td>\n",
       "      <td>1</td>\n",
       "      <td>1</td>\n",
       "      <td>1</td>\n",
       "    </tr>\n",
       "  </tbody>\n",
       "</table>\n",
       "</div>"
      ],
      "text/plain": [
       "           date  wm_yr_wk   weekday  wday  month  year     d event_name_1  \\\n",
       "d                                                                           \n",
       "1863 2016-03-05     11606  Saturday     1      3  2016  1863          NaN   \n",
       "\n",
       "     event_type_1 event_name_2 event_type_2  snap_CA  snap_TX  snap_WI  \n",
       "d                                                                       \n",
       "1863          NaN          NaN          NaN        1        1        1  "
      ]
     },
     "execution_count": 36,
     "metadata": {},
     "output_type": "execute_result"
    }
   ],
   "source": [
    "calendar_df[calendar_df.d==1863]"
   ]
  },
  {
   "cell_type": "code",
   "execution_count": null,
   "metadata": {},
   "outputs": [],
   "source": []
  },
  {
   "cell_type": "code",
   "execution_count": null,
   "metadata": {},
   "outputs": [],
   "source": []
  },
  {
   "cell_type": "code",
   "execution_count": 37,
   "metadata": {},
   "outputs": [
    {
     "data": {
      "text/plain": [
       "1.366514799653625"
      ]
     },
     "execution_count": 37,
     "metadata": {},
     "output_type": "execute_result"
    }
   ],
   "source": [
    "data.TARGET.mean()"
   ]
  },
  {
   "cell_type": "code",
   "execution_count": 38,
   "metadata": {},
   "outputs": [
    {
     "data": {
      "text/plain": [
       "3.6137135652246335"
      ]
     },
     "execution_count": 38,
     "metadata": {},
     "output_type": "execute_result"
    }
   ],
   "source": [
    "data.TARGET.std()"
   ]
  },
  {
   "cell_type": "code",
   "execution_count": 39,
   "metadata": {},
   "outputs": [
    {
     "data": {
      "image/png": "[encoded data removed]",
      "text/plain": [
       "<Figure size 2160x720 with 1 Axes>"
      ]
     },
     "metadata": {
      "needs_background": "light"
     },
     "output_type": "display_data"
    }
   ],
   "source": [
    "plt.figure(figsize=(30,10))\n",
    "plt.hist(data.TARGET, bins=50)\n",
    "plt.show()"
   ]
  },
  {
   "cell_type": "code",
   "execution_count": 40,
   "metadata": {},
   "outputs": [
    {
     "data": {
      "image/png": "[encoded data removed]",
      "text/plain": [
       "<Figure size 2160x720 with 1 Axes>"
      ]
     },
     "metadata": {
      "needs_background": "light"
     },
     "output_type": "display_data"
    }
   ],
   "source": [
    "plt.figure(figsize=(30,10))\n",
    "plt.hist(np.log1p(data.TARGET), bins=50)\n",
    "plt.show()"
   ]
  },
  {
   "cell_type": "code",
   "execution_count": 41,
   "metadata": {},
   "outputs": [
    {
     "data": {
      "text/plain": [
       "<matplotlib.axes._subplots.AxesSubplot at 0x7f7d5636b978>"
      ]
     },
     "execution_count": 41,
     "metadata": {},
     "output_type": "execute_result"
    },
    {
     "data": {
      "image/png": "[encoded data removed]",
      "text/plain": [
       "<Figure size 432x288 with 1 Axes>"
      ]
     },
     "metadata": {
      "needs_background": "light"
     },
     "output_type": "display_data"
    }
   ],
   "source": [
    "sns.distplot(np.log1p(data[data.TARGET>10].TARGET))"
   ]
  },
  {
   "cell_type": "code",
   "execution_count": 42,
   "metadata": {},
   "outputs": [
    {
     "data": {
      "text/plain": [
       "<matplotlib.axes._subplots.AxesSubplot at 0x7f7d566966a0>"
      ]
     },
     "execution_count": 42,
     "metadata": {},
     "output_type": "execute_result"
    },
    {
     "data": {
      "image/png": "[encoded data removed]",
      "text/plain": [
       "<Figure size 432x288 with 1 Axes>"
      ]
     },
     "metadata": {
      "needs_background": "light"
     },
     "output_type": "display_data"
    }
   ],
   "source": [
    "sns.distplot(np.log1p(data[data.TARGET<5].TARGET))"
   ]
  },
  {
   "cell_type": "code",
   "execution_count": 43,
   "metadata": {},
   "outputs": [
    {
     "data": {
      "text/plain": [
       "<matplotlib.axes._subplots.AxesSubplot at 0x7f7cd5999080>"
      ]
     },
     "execution_count": 43,
     "metadata": {},
     "output_type": "execute_result"
    },
    {
     "data": {
      "image/png": "[encoded data removed]",
      "text/plain": [
       "<Figure size 432x288 with 1 Axes>"
      ]
     },
     "metadata": {
      "needs_background": "light"
     },
     "output_type": "display_data"
    }
   ],
   "source": [
    "sns.boxplot(np.log1p(data[data.TARGET>5].TARGET))"
   ]
  },
  {
   "cell_type": "code",
   "execution_count": 44,
   "metadata": {},
   "outputs": [
    {
     "data": {
      "text/plain": [
       "<matplotlib.axes._subplots.AxesSubplot at 0x7f7d56588588>"
      ]
     },
     "execution_count": 44,
     "metadata": {},
     "output_type": "execute_result"
    },
    {
     "data": {
      "image/png": "[encoded data removed]",
      "text/plain": [
       "<Figure size 432x288 with 1 Axes>"
      ]
     },
     "metadata": {
      "needs_background": "light"
     },
     "output_type": "display_data"
    }
   ],
   "source": [
    "sns.boxplot(np.log1p(data[data.TARGET>10].TARGET))"
   ]
  },
  {
   "cell_type": "code",
   "execution_count": 45,
   "metadata": {},
   "outputs": [
    {
     "data": {
      "text/plain": [
       "<matplotlib.axes._subplots.AxesSubplot at 0x7f7d546ebe80>"
      ]
     },
     "execution_count": 45,
     "metadata": {},
     "output_type": "execute_result"
    },
    {
     "data": {
      "image/png": "[encoded data removed]",
      "text/plain": [
       "<Figure size 2880x720 with 1 Axes>"
      ]
     },
     "metadata": {
      "needs_background": "light"
     },
     "output_type": "display_data"
    }
   ],
   "source": [
    "data.TARGET.value_counts().sort_index().plot(figsize=(40,10))"
   ]
  },
  {
   "cell_type": "code",
   "execution_count": 46,
   "metadata": {},
   "outputs": [
    {
     "data": {
      "text/plain": [
       "<matplotlib.axes._subplots.AxesSubplot at 0x7f7cd64ef198>"
      ]
     },
     "execution_count": 46,
     "metadata": {},
     "output_type": "execute_result"
    },
    {
     "data": {
      "image/png": "[encoded data removed]",
      "text/plain": [
       "<Figure size 2880x720 with 1 Axes>"
      ]
     },
     "metadata": {
      "needs_background": "light"
     },
     "output_type": "display_data"
    }
   ],
   "source": [
    "data.TARGET.value_counts(normalize=True).sort_index().plot(figsize=(40,10))"
   ]
  },
  {
   "cell_type": "code",
   "execution_count": 47,
   "metadata": {},
   "outputs": [
    {
     "data": {
      "text/plain": [
       "0.0      5.754854e-01\n",
       "1.0      1.834009e-01\n",
       "2.0      9.094144e-02\n",
       "3.0      4.814644e-02\n",
       "4.0      2.882521e-02\n",
       "             ...     \n",
       "136.0    3.280065e-07\n",
       "134.0    3.280065e-07\n",
       "248.0    3.280065e-07\n",
       "120.0    3.280065e-07\n",
       "218.0    3.280065e-07\n",
       "Name: TARGET, Length: 165, dtype: float64"
      ]
     },
     "execution_count": 47,
     "metadata": {},
     "output_type": "execute_result"
    }
   ],
   "source": [
    "data.TARGET.value_counts(normalize=True)#.sort_index()"
   ]
  },
  {
   "cell_type": "code",
   "execution_count": 48,
   "metadata": {},
   "outputs": [
    {
     "data": {
      "text/plain": [
       "11395"
      ]
     },
     "execution_count": 48,
     "metadata": {},
     "output_type": "execute_result"
    }
   ],
   "source": [
    "gc.collect()"
   ]
  },
  {
   "cell_type": "code",
   "execution_count": null,
   "metadata": {},
   "outputs": [],
   "source": []
  }
 ],
 "metadata": {
  "kernelspec": {
   "display_name": "Python 3",
   "language": "python",
   "name": "python3"
  },
  "language_info": {
   "codemirror_mode": {
    "name": "ipython",
    "version": 3
   },
   "file_extension": ".py",
   "mimetype": "text/x-python",
   "name": "python",
   "nbconvert_exporter": "python",
   "pygments_lexer": "ipython3",
   "version": "3.6.6"
  },
  "widgets": {
   "application/vnd.jupyter.widget-state+json": {
    "state": {
     "19a72878dab84383bbb3a69a380b7348": {
      "model_module": "@jupyter-widgets/base",
      "model_module_version": "1.2.0",
      "model_name": "LayoutModel",
      "state": {
       "_model_module": "@jupyter-widgets/base",
       "_model_module_version": "1.2.0",
       "_model_name": "LayoutModel",
       "_view_count": null,
       "_view_module": "@jupyter-widgets/base",
       "_view_module_version": "1.2.0",
       "_view_name": "LayoutView",
       "align_content": null,
       "align_items": null,
       "align_self": null,
       "border": null,
       "bottom": null,
       "display": null,
       "flex": null,
       "flex_flow": null,
       "grid_area": null,
       "grid_auto_columns": null,
       "grid_auto_flow": null,
       "grid_auto_rows": null,
       "grid_column": null,
       "grid_gap": null,
       "grid_row": null,
       "grid_template_areas": null,
       "grid_template_columns": null,
       "grid_template_rows": null,
       "height": null,
       "justify_content": null,
       "justify_items": null,
       "left": null,
       "margin": null,
       "max_height": null,
       "max_width": null,
       "min_height": null,
       "min_width": null,
       "object_fit": null,
       "object_position": null,
       "order": null,
       "overflow": null,
       "overflow_x": null,
       "overflow_y": null,
       "padding": null,
       "right": null,
       "top": null,
       "visibility": null,
       "width": null
      }
     },
     "2117a9b86f334fa297a2bfc5fa2072c2": {
      "model_module": "@jupyter-widgets/controls",
      "model_module_version": "1.5.0",
      "model_name": "FloatProgressModel",
      "state": {
       "_dom_classes": [],
       "_model_module": "@jupyter-widgets/controls",
       "_model_module_version": "1.5.0",
       "_model_name": "FloatProgressModel",
       "_view_count": null,
       "_view_module": "@jupyter-widgets/controls",
       "_view_module_version": "1.5.0",
       "_view_name": "ProgressView",
       "bar_style": "success",
       "description": "100%",
       "description_tooltip": null,
       "layout": "IPY_MODEL_8a2156a673f942ac97765ed7ed1cd50c",
       "max": 30490.0,
       "min": 0.0,
       "orientation": "horizontal",
       "style": "IPY_MODEL_c6d4bf848a9b46e2ab19ff7ea78962fc",
       "value": 30490.0
      }
     },
     "453961098e6a4c0fa842310e33d26926": {
      "model_module": "@jupyter-widgets/controls",
      "model_module_version": "1.5.0",
      "model_name": "DescriptionStyleModel",
      "state": {
       "_model_module": "@jupyter-widgets/controls",
       "_model_module_version": "1.5.0",
       "_model_name": "DescriptionStyleModel",
       "_view_count": null,
       "_view_module": "@jupyter-widgets/base",
       "_view_module_version": "1.2.0",
       "_view_name": "StyleView",
       "description_width": ""
      }
     },
     "498cc77aa04948b4a458f2728d9874ea": {
      "model_module": "@jupyter-widgets/controls",
      "model_module_version": "1.5.0",
      "model_name": "FloatProgressModel",
      "state": {
       "_dom_classes": [],
       "_model_module": "@jupyter-widgets/controls",
       "_model_module_version": "1.5.0",
       "_model_name": "FloatProgressModel",
       "_view_count": null,
       "_view_module": "@jupyter-widgets/controls",
       "_view_module_version": "1.5.0",
       "_view_name": "ProgressView",
       "bar_style": "success",
       "description": "100%",
       "description_tooltip": null,
       "layout": "IPY_MODEL_e45fa25f582047088794dfeb0c69d3b9",
       "max": 4.0,
       "min": 0.0,
       "orientation": "horizontal",
       "style": "IPY_MODEL_85ee10a3fb99414086d485c3d07d9303",
       "value": 4.0
      }
     },
     "4d8fac156c614dcf841cf2f30cfcaa74": {
      "model_module": "@jupyter-widgets/base",
      "model_module_version": "1.2.0",
      "model_name": "LayoutModel",
      "state": {
       "_model_module": "@jupyter-widgets/base",
       "_model_module_version": "1.2.0",
       "_model_name": "LayoutModel",
       "_view_count": null,
       "_view_module": "@jupyter-widgets/base",
       "_view_module_version": "1.2.0",
       "_view_name": "LayoutView",
       "align_content": null,
       "align_items": null,
       "align_self": null,
       "border": null,
       "bottom": null,
       "display": null,
       "flex": null,
       "flex_flow": null,
       "grid_area": null,
       "grid_auto_columns": null,
       "grid_auto_flow": null,
       "grid_auto_rows": null,
       "grid_column": null,
       "grid_gap": null,
       "grid_row": null,
       "grid_template_areas": null,
       "grid_template_columns": null,
       "grid_template_rows": null,
       "height": null,
       "justify_content": null,
       "justify_items": null,
       "left": null,
       "margin": null,
       "max_height": null,
       "max_width": null,
       "min_height": null,
       "min_width": null,
       "object_fit": null,
       "object_position": null,
       "order": null,
       "overflow": null,
       "overflow_x": null,
       "overflow_y": null,
       "padding": null,
       "right": null,
       "top": null,
       "visibility": null,
       "width": null
      }
     },
     "5be5f7c5260448c188affc785202dd9e": {
      "model_module": "@jupyter-widgets/base",
      "model_module_version": "1.2.0",
      "model_name": "LayoutModel",
      "state": {
       "_model_module": "@jupyter-widgets/base",
       "_model_module_version": "1.2.0",
       "_model_name": "LayoutModel",
       "_view_count": null,
       "_view_module": "@jupyter-widgets/base",
       "_view_module_version": "1.2.0",
       "_view_name": "LayoutView",
       "align_content": null,
       "align_items": null,
       "align_self": null,
       "border": null,
       "bottom": null,
       "display": null,
       "flex": null,
       "flex_flow": null,
       "grid_area": null,
       "grid_auto_columns": null,
       "grid_auto_flow": null,
       "grid_auto_rows": null,
       "grid_column": null,
       "grid_gap": null,
       "grid_row": null,
       "grid_template_areas": null,
       "grid_template_columns": null,
       "grid_template_rows": null,
       "height": null,
       "justify_content": null,
       "justify_items": null,
       "left": null,
       "margin": null,
       "max_height": null,
       "max_width": null,
       "min_height": null,
       "min_width": null,
       "object_fit": null,
       "object_position": null,
       "order": null,
       "overflow": null,
       "overflow_x": null,
       "overflow_y": null,
       "padding": null,
       "right": null,
       "top": null,
       "visibility": null,
       "width": null
      }
     },
     "6e27c961465742f1866995790cdbf953": {
      "model_module": "@jupyter-widgets/controls",
      "model_module_version": "1.5.0",
      "model_name": "DescriptionStyleModel",
      "state": {
       "_model_module": "@jupyter-widgets/controls",
       "_model_module_version": "1.5.0",
       "_model_name": "DescriptionStyleModel",
       "_view_count": null,
       "_view_module": "@jupyter-widgets/base",
       "_view_module_version": "1.2.0",
       "_view_name": "StyleView",
       "description_width": ""
      }
     },
     "85ee10a3fb99414086d485c3d07d9303": {
      "model_module": "@jupyter-widgets/controls",
      "model_module_version": "1.5.0",
      "model_name": "ProgressStyleModel",
      "state": {
       "_model_module": "@jupyter-widgets/controls",
       "_model_module_version": "1.5.0",
       "_model_name": "ProgressStyleModel",
       "_view_count": null,
       "_view_module": "@jupyter-widgets/base",
       "_view_module_version": "1.2.0",
       "_view_name": "StyleView",
       "bar_color": null,
       "description_width": "initial"
      }
     },
     "86a737ce3b8b4d2f9c4338be291468da": {
      "model_module": "@jupyter-widgets/controls",
      "model_module_version": "1.5.0",
      "model_name": "HBoxModel",
      "state": {
       "_dom_classes": [],
       "_model_module": "@jupyter-widgets/controls",
       "_model_module_version": "1.5.0",
       "_model_name": "HBoxModel",
       "_view_count": null,
       "_view_module": "@jupyter-widgets/controls",
       "_view_module_version": "1.5.0",
       "_view_name": "HBoxView",
       "box_style": "",
       "children": [
        "IPY_MODEL_2117a9b86f334fa297a2bfc5fa2072c2",
        "IPY_MODEL_c25063bac24c40579fd61a9f05dfe21d"
       ],
       "layout": "IPY_MODEL_aa124858f11e4db3a482a176d8107ef2"
      }
     },
     "87d31dcab3d3407aa1cb59a950d0ccae": {
      "model_module": "@jupyter-widgets/controls",
      "model_module_version": "1.5.0",
      "model_name": "HBoxModel",
      "state": {
       "_dom_classes": [],
       "_model_module": "@jupyter-widgets/controls",
       "_model_module_version": "1.5.0",
       "_model_name": "HBoxModel",
       "_view_count": null,
       "_view_module": "@jupyter-widgets/controls",
       "_view_module_version": "1.5.0",
       "_view_name": "HBoxView",
       "box_style": "",
       "children": [
        "IPY_MODEL_498cc77aa04948b4a458f2728d9874ea",
        "IPY_MODEL_ad788a15bde242559c7e6c155d0b2bd2"
       ],
       "layout": "IPY_MODEL_4d8fac156c614dcf841cf2f30cfcaa74"
      }
     },
     "8a2156a673f942ac97765ed7ed1cd50c": {
      "model_module": "@jupyter-widgets/base",
      "model_module_version": "1.2.0",
      "model_name": "LayoutModel",
      "state": {
       "_model_module": "@jupyter-widgets/base",
       "_model_module_version": "1.2.0",
       "_model_name": "LayoutModel",
       "_view_count": null,
       "_view_module": "@jupyter-widgets/base",
       "_view_module_version": "1.2.0",
       "_view_name": "LayoutView",
       "align_content": null,
       "align_items": null,
       "align_self": null,
       "border": null,
       "bottom": null,
       "display": null,
       "flex": null,
       "flex_flow": null,
       "grid_area": null,
       "grid_auto_columns": null,
       "grid_auto_flow": null,
       "grid_auto_rows": null,
       "grid_column": null,
       "grid_gap": null,
       "grid_row": null,
       "grid_template_areas": null,
       "grid_template_columns": null,
       "grid_template_rows": null,
       "height": null,
       "justify_content": null,
       "justify_items": null,
       "left": null,
       "margin": null,
       "max_height": null,
       "max_width": null,
       "min_height": null,
       "min_width": null,
       "object_fit": null,
       "object_position": null,
       "order": null,
       "overflow": null,
       "overflow_x": null,
       "overflow_y": null,
       "padding": null,
       "right": null,
       "top": null,
       "visibility": null,
       "width": null
      }
     },
     "aa124858f11e4db3a482a176d8107ef2": {
      "model_module": "@jupyter-widgets/base",
      "model_module_version": "1.2.0",
      "model_name": "LayoutModel",
      "state": {
       "_model_module": "@jupyter-widgets/base",
       "_model_module_version": "1.2.0",
       "_model_name": "LayoutModel",
       "_view_count": null,
       "_view_module": "@jupyter-widgets/base",
       "_view_module_version": "1.2.0",
       "_view_name": "LayoutView",
       "align_content": null,
       "align_items": null,
       "align_self": null,
       "border": null,
       "bottom": null,
       "display": null,
       "flex": null,
       "flex_flow": null,
       "grid_area": null,
       "grid_auto_columns": null,
       "grid_auto_flow": null,
       "grid_auto_rows": null,
       "grid_column": null,
       "grid_gap": null,
       "grid_row": null,
       "grid_template_areas": null,
       "grid_template_columns": null,
       "grid_template_rows": null,
       "height": null,
       "justify_content": null,
       "justify_items": null,
       "left": null,
       "margin": null,
       "max_height": null,
       "max_width": null,
       "min_height": null,
       "min_width": null,
       "object_fit": null,
       "object_position": null,
       "order": null,
       "overflow": null,
       "overflow_x": null,
       "overflow_y": null,
       "padding": null,
       "right": null,
       "top": null,
       "visibility": null,
       "width": null
      }
     },
     "ad788a15bde242559c7e6c155d0b2bd2": {
      "model_module": "@jupyter-widgets/controls",
      "model_module_version": "1.5.0",
      "model_name": "HTMLModel",
      "state": {
       "_dom_classes": [],
       "_model_module": "@jupyter-widgets/controls",
       "_model_module_version": "1.5.0",
       "_model_name": "HTMLModel",
       "_view_count": null,
       "_view_module": "@jupyter-widgets/controls",
       "_view_module_version": "1.5.0",
       "_view_name": "HTMLView",
       "description": "",
       "description_tooltip": null,
       "layout": "IPY_MODEL_5be5f7c5260448c188affc785202dd9e",
       "placeholder": "​",
       "style": "IPY_MODEL_453961098e6a4c0fa842310e33d26926",
       "value": " 4/4 [09:52&lt;00:00, 148.10s/it]"
      }
     },
     "c25063bac24c40579fd61a9f05dfe21d": {
      "model_module": "@jupyter-widgets/controls",
      "model_module_version": "1.5.0",
      "model_name": "HTMLModel",
      "state": {
       "_dom_classes": [],
       "_model_module": "@jupyter-widgets/controls",
       "_model_module_version": "1.5.0",
       "_model_name": "HTMLModel",
       "_view_count": null,
       "_view_module": "@jupyter-widgets/controls",
       "_view_module_version": "1.5.0",
       "_view_name": "HTMLView",
       "description": "",
       "description_tooltip": null,
       "layout": "IPY_MODEL_19a72878dab84383bbb3a69a380b7348",
       "placeholder": "​",
       "style": "IPY_MODEL_6e27c961465742f1866995790cdbf953",
       "value": " 30490/30490 [00:24&lt;00:00, 1236.37it/s]"
      }
     },
     "c6d4bf848a9b46e2ab19ff7ea78962fc": {
      "model_module": "@jupyter-widgets/controls",
      "model_module_version": "1.5.0",
      "model_name": "ProgressStyleModel",
      "state": {
       "_model_module": "@jupyter-widgets/controls",
       "_model_module_version": "1.5.0",
       "_model_name": "ProgressStyleModel",
       "_view_count": null,
       "_view_module": "@jupyter-widgets/base",
       "_view_module_version": "1.2.0",
       "_view_name": "StyleView",
       "bar_color": null,
       "description_width": "initial"
      }
     },
     "e45fa25f582047088794dfeb0c69d3b9": {
      "model_module": "@jupyter-widgets/base",
      "model_module_version": "1.2.0",
      "model_name": "LayoutModel",
      "state": {
       "_model_module": "@jupyter-widgets/base",
       "_model_module_version": "1.2.0",
       "_model_name": "LayoutModel",
       "_view_count": null,
       "_view_module": "@jupyter-widgets/base",
       "_view_module_version": "1.2.0",
       "_view_name": "LayoutView",
       "align_content": null,
       "align_items": null,
       "align_self": null,
       "border": null,
       "bottom": null,
       "display": null,
       "flex": null,
       "flex_flow": null,
       "grid_area": null,
       "grid_auto_columns": null,
       "grid_auto_flow": null,
       "grid_auto_rows": null,
       "grid_column": null,
       "grid_gap": null,
       "grid_row": null,
       "grid_template_areas": null,
       "grid_template_columns": null,
       "grid_template_rows": null,
       "height": null,
       "justify_content": null,
       "justify_items": null,
       "left": null,
       "margin": null,
       "max_height": null,
       "max_width": null,
       "min_height": null,
       "min_width": null,
       "object_fit": null,
       "object_position": null,
       "order": null,
       "overflow": null,
       "overflow_x": null,
       "overflow_y": null,
       "padding": null,
       "right": null,
       "top": null,
       "visibility": null,
       "width": null
      }
     }
    },
    "version_major": 2,
    "version_minor": 0
   }
  }
 },
 "nbformat": 4,
 "nbformat_minor": 4
}
