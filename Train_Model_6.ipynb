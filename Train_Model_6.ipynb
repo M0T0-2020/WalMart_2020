{
 "cells": [
  {
   "cell_type": "code",
   "execution_count": 1,
   "metadata": {},
   "outputs": [],
   "source": [
    "path = '/Users/kanoumotoharu/Downloads/m5-forecasting-accuracy/'\n",
    "#path = '/Users/abcdm/Downloads/m5-forecasting-accuracy/'\n",
    "#path = '../input/m5-forecasting-accuracy/'"
   ]
  },
  {
   "cell_type": "code",
   "execution_count": 2,
   "metadata": {},
   "outputs": [],
   "source": [
    "import warnings\n",
    "warnings.filterwarnings('ignore')\n",
    "\n",
    "import numpy as np\n",
    "import pandas as pd\n",
    "import matplotlib.pyplot as plt\n",
    "import seaborn as sns\n",
    "\n",
    "import os, gc\n",
    "import termcolor\n",
    "\n",
    "import math, random\n",
    "import pickle\n",
    "import datetime, time\n",
    "from tqdm import tqdm_notebook as tqdm\n",
    "\n",
    "import torch \n",
    "from torch import nn\n",
    "from torch import optim\n",
    "\n",
    "from sklearn import preprocessing\n",
    "from sklearn.model_selection import train_test_split, KFold\n",
    "from sklearn.cluster import KMeans\n",
    "\n",
    "%matplotlib inline"
   ]
  },
  {
   "cell_type": "code",
   "execution_count": 3,
   "metadata": {},
   "outputs": [],
   "source": [
    "def Preprocessing(train_df, calendar_df, sell_prices_df):\n",
    "    sell_prices_df['id'] = sell_prices_df['item_id'].astype('str')+'_'+sell_prices_df['store_id']+'_validation'\n",
    "    d_cols = [f'd_{i}' for i in range(1,1914)]\n",
    "    \n",
    "    event_type_1 = pd.get_dummies(calendar_df.event_type_1)\n",
    "    event_type_1.columns = [f'{col}_event_type_1' for col in event_type_1.columns]\n",
    "    event_type_2 = pd.get_dummies(calendar_df.event_type_1)\n",
    "    event_type_2.columns = [f'{col}_event_type_2' for col in event_type_2.columns]\n",
    "    calendar_data = pd.concat([\n",
    "        calendar_df.drop(columns=['event_name_1', 'event_type_1', 'event_name_2', 'event_type_2'])[['wday', 'd','month','snap_CA', 'snap_TX', 'snap_WI']],\n",
    "        event_type_1,\n",
    "        event_type_2\n",
    "    ], axis=1)\n",
    "    calendar_data = calendar_data.set_index('d').T\n",
    "    \n",
    "    \n",
    "    \n",
    "    sell_prices_data = sell_prices_df[sell_prices_df.wm_yr_wk.isin(calendar_df.wm_yr_wk.unique())]\n",
    "    sell_prices_data.reset_index(drop=True, inplace=True)\n",
    "    tmp = sell_prices_data.groupby(['id'])[['wm_yr_wk', 'sell_price']].apply(lambda x: x.set_index('wm_yr_wk')['sell_price'].to_dict()).to_dict()\n",
    "    d = calendar_df.d\n",
    "    wm_yr_wk = calendar_df.wm_yr_wk\n",
    "    price_data = {}\n",
    "    for col in tqdm(train_df.id.unique()):\n",
    "        price_data[col] = wm_yr_wk.map(tmp[col])\n",
    "    price_data = pd.DataFrame(price_data)\n",
    "    price_data.index = d\n",
    "    \n",
    "    \n",
    "    is_sell = price_data.notnull().astype(float).T\n",
    "    price_data = price_data.fillna(0)\n",
    "    \n",
    "    train_df = train_df.T\n",
    "    train_df.columns = train_df.loc['id', :].values\n",
    "    train_df = train_df.T\n",
    "    \n",
    "    return train_df, calendar_df, calendar_data, price_data, is_sell\n",
    "\n",
    "\n",
    "def make_calendar_data(calendar_data, train_cols):\n",
    "    calendar_index = [\n",
    "        'wday', 'month',\n",
    "        'Cultural_event_type_1', 'National_event_type_1', 'Religious_event_type_1', 'Sporting_event_type_1',\n",
    "        'Cultural_event_type_2', 'National_event_type_2', 'Religious_event_type_2', 'Sporting_event_type_2'\n",
    "    ]\n",
    "    calendar = calendar_data.loc[calendar_index,:]\n",
    "    event_index = [\n",
    "        'Cultural_event_type_1', 'National_event_type_1', 'Religious_event_type_1', 'Sporting_event_type_1',\n",
    "        'Cultural_event_type_2', 'National_event_type_2', 'Religious_event_type_2', 'Sporting_event_type_2'\n",
    "    ]\n",
    "    for shift in [3, 7, 14, 28]:\n",
    "        tmp_calendar = calendar.loc[event_index, :]\n",
    "        tmp_calendar = tmp_calendar.T.shift(-shift).T\n",
    "        tmp_calendar.index = [f'{col}_shift{shift}' for col in tmp_calendar.index]\n",
    "        calendar = pd.concat([\n",
    "            calendar,\n",
    "            tmp_calendar\n",
    "        ], axis=0)\n",
    "    calendar = calendar[train_cols]\n",
    "    calendar = torch.FloatTensor(calendar.values.astype(float))\n",
    "    return calendar\n",
    "\n",
    "def make_data(train_cols, state, train_df, calendar_data, price_data, is_sell_data, sample_submission_df):\n",
    "    data_train = train_df[['id', 'item_id', 'dept_id', 'cat_id', 'store_id', 'state_id']+train_cols]\n",
    "    train_product = sample_submission_df[(sample_submission_df.id.str.contains(state))&(sample_submission_df.id.str.contains('_validation'))].id.values\n",
    "    #train_product = data_train[data_train.state_id==state]['id'].unique()\n",
    "    \n",
    "    data = data_train.loc[train_product,train_cols]\n",
    "    \n",
    "    calendar_index = [ f'snap_{state}']\n",
    "    event_index = [ f'snap_{state}']\n",
    "    calendar = calendar_data.loc[calendar_index,:]\n",
    "    for shift in [3, 7, 14, 28]:\n",
    "        tmp_calendar = calendar.loc[event_index, :]\n",
    "        tmp_calendar = tmp_calendar.T.shift(shift).T\n",
    "        tmp_calendar.index = [f'{col}_shift{shift}' for col in tmp_calendar.index]\n",
    "        calendar = pd.concat([\n",
    "            calendar,\n",
    "            tmp_calendar\n",
    "        ], axis=0)\n",
    "    calendar = calendar[train_cols]\n",
    "    \n",
    "    price = price_data.T[train_cols].loc[train_product,:]\n",
    "    past_price_1 = price_data.loc[:,train_product].shift(3).T[train_cols]\n",
    "    past_price_2 = price_data.loc[:,train_product].shift(7).T[train_cols]\n",
    "    past_price_3 = price_data.loc[:,train_product].shift(14).T[train_cols]\n",
    "    \n",
    "    \n",
    "    is_sell = is_sell_data[train_cols].loc[train_product,:]\n",
    "    past_is_sell_1 = is_sell_data.T.shift(3).T.loc[train_product, train_cols]\n",
    "    past_is_sell_2 = is_sell_data.T.shift(7).T.loc[train_product, train_cols]\n",
    "    past_is_sell_3 = is_sell_data.T.shift(14).T.loc[train_product, train_cols]\n",
    "\n",
    "    data = torch.FloatTensor(data.values.astype(float))\n",
    "    \n",
    "    calendar = torch.FloatTensor(calendar.values.astype(float))\n",
    "    \n",
    "    price = torch.FloatTensor(price.values.astype(float))\n",
    "    \n",
    "    past_price_1 = torch.FloatTensor(past_price_1.values.astype(float))\n",
    "    past_price_2 = torch.FloatTensor(past_price_2.values.astype(float))\n",
    "    past_price_3 = torch.FloatTensor(past_price_3.values.astype(float))\n",
    "    \n",
    "    is_sell = torch.FloatTensor(is_sell.values.astype(float))\n",
    "    past_is_sell_1 = torch.FloatTensor(past_is_sell_1.values.astype(float))\n",
    "    past_is_sell_2 = torch.FloatTensor(past_is_sell_2.values.astype(float))\n",
    "    past_is_sell_3 = torch.FloatTensor(past_is_sell_3.values.astype(float))\n",
    "    \n",
    "    data_list = []\n",
    "    for idx in range(len(data)):\n",
    "        _data = data[[idx],:]\n",
    "        _price = price[[idx],:]\n",
    "        \n",
    "        _past_price_1 = past_price_1[[idx],:]\n",
    "        _past_price_2 = past_price_2[[idx],:]\n",
    "        _past_price_3 = past_price_3[[idx],:]\n",
    "        \n",
    "        _is_sell = is_sell[[idx],:]\n",
    "        \n",
    "        _past_is_sell_1 = past_is_sell_1[[idx],:]\n",
    "        _past_is_sell_2 = past_is_sell_2[[idx],:]\n",
    "        _past_is_sell_3 = past_is_sell_3[[idx],:]\n",
    "        \n",
    "        x = torch.cat((\n",
    "            _data, calendar,\n",
    "            _price,\n",
    "            _past_price_1, _past_price_2, _past_price_3,\n",
    "            _is_sell,\n",
    "            _past_is_sell_1, _past_is_sell_2, _past_is_sell_3\n",
    "        ), dim=0)\n",
    "        data_list.append(x.tolist())\n",
    "    data_list = torch.FloatTensor(data_list)\n",
    "    return data_list"
   ]
  },
  {
   "cell_type": "code",
   "execution_count": 4,
   "metadata": {},
   "outputs": [],
   "source": [
    "def mish(input):\n",
    "    return input * torch.tanh(nn.functional.softplus(input))\n",
    "\n",
    "class Mish(nn.Module):\n",
    "    def __init__(self):\n",
    "        super().__init__()\n",
    "\n",
    "    def forward(self, input):\n",
    "        return mish(input)"
   ]
  },
  {
   "cell_type": "code",
   "execution_count": 5,
   "metadata": {},
   "outputs": [],
   "source": [
    "class residual_conv1d(nn.Module):\n",
    "\n",
    "    def __init__(self, in_channel):\n",
    "        super(residual_conv1d, self).__init__()\n",
    "        \n",
    "        self.mish = Mish()\n",
    "        self.layer = nn.Sequential(\n",
    "            nn.Conv1d(in_channel, in_channel, 1),\n",
    "            Mish(),\n",
    "            nn.Conv1d(in_channel, in_channel, 1)\n",
    "        )\n",
    "\n",
    "    def forward(self, x):\n",
    "        x = x+self.layer(x)\n",
    "        x = self.mish(x)\n",
    "        return x\n",
    "\n",
    "class Conv_1d_Net(nn.Module):\n",
    "\n",
    "    def __init__(self, in_channel):\n",
    "        super(Conv_1d_Net, self).__init__()\n",
    "        \n",
    "        self.layer_1 = nn.Sequential(\n",
    "            nn.Conv1d(in_channel, 2*in_channel, 1),\n",
    "            nn.Dropout(0.2),\n",
    "            Mish(),\n",
    "            residual_conv1d(2*in_channel)\n",
    "        )\n",
    "        \n",
    "        self.layer_2 = nn.Sequential(\n",
    "            nn.Conv1d(2*in_channel, 4*in_channel, 1),\n",
    "            nn.Dropout(0.2),\n",
    "            Mish(),\n",
    "            residual_conv1d(4*in_channel)\n",
    "        )\n",
    "        \n",
    "        self.layer_3 = nn.Sequential(\n",
    "            nn.Conv1d(4*in_channel, 8*in_channel, 1),\n",
    "            nn.Dropout(0.2),\n",
    "            Mish(),\n",
    "            residual_conv1d(8*in_channel)\n",
    "        )\n",
    "       \n",
    "         \n",
    "        self.avgpool1d = nn.AdaptiveAvgPool1d(1)\n",
    "        \n",
    "        self.fc = nn.Sequential(\n",
    "            nn.Linear(8*in_channel, 8*in_channel),\n",
    "            nn.Dropout(0.1),\n",
    "            Mish(),\n",
    "            nn.Linear(8*in_channel, 16*in_channel),\n",
    "            nn.Dropout(0.1),\n",
    "            Mish(),\n",
    "            nn.Linear(16*in_channel, 28)\n",
    "        ) \n",
    "\n",
    "    def forward(self, x):\n",
    "        #_in = x.size()[1]\n",
    "        x = self.layer_1(x)\n",
    "        x = self.layer_2(x)\n",
    "        x = self.layer_3(x)\n",
    "        #x = self.layer_4(x)\n",
    "        x = self.avgpool1d(x)\n",
    "        x = torch.flatten(x, 1)\n",
    "        x = self.fc(x)\n",
    "\n",
    "        return x"
   ]
  },
  {
   "cell_type": "code",
   "execution_count": 6,
   "metadata": {},
   "outputs": [],
   "source": [
    "from torch.optim.optimizer import Optimizer\n",
    "import math\n",
    "\n",
    "class RAdam(Optimizer):\n",
    "\n",
    "    def __init__(self, params, lr=1e-3, betas=(0.9, 0.999), eps=1e-8, weight_decay=0):\n",
    "        defaults = dict(lr=lr, betas=betas, eps=eps, weight_decay=weight_decay)\n",
    "        self.buffer = [[None, None, None] for ind in range(10)]\n",
    "        super(RAdam, self).__init__(params, defaults)\n",
    "\n",
    "    def __setstate__(self, state):\n",
    "        super(RAdam, self).__setstate__(state)\n",
    "\n",
    "    def step(self, closure=None):\n",
    "\n",
    "        loss = None\n",
    "        if closure is not None:\n",
    "            loss = closure()\n",
    "\n",
    "        for group in self.param_groups:\n",
    "\n",
    "            for p in group['params']:\n",
    "                if p.grad is None:\n",
    "                    continue\n",
    "                grad = p.grad.data.float()\n",
    "                if grad.is_sparse:\n",
    "                    raise RuntimeError('RAdam does not support sparse gradients')\n",
    "\n",
    "                p_data_fp32 = p.data.float()\n",
    "\n",
    "                state = self.state[p]\n",
    "\n",
    "                if len(state) == 0:\n",
    "                    state['step'] = 0\n",
    "                    state['exp_avg'] = torch.zeros_like(p_data_fp32)\n",
    "                    state['exp_avg_sq'] = torch.zeros_like(p_data_fp32)\n",
    "                else:\n",
    "                    state['exp_avg'] = state['exp_avg'].type_as(p_data_fp32)\n",
    "                    state['exp_avg_sq'] = state['exp_avg_sq'].type_as(p_data_fp32)\n",
    "\n",
    "                exp_avg, exp_avg_sq = state['exp_avg'], state['exp_avg_sq']\n",
    "                beta1, beta2 = group['betas']\n",
    "\n",
    "                exp_avg_sq.mul_(beta2).addcmul_(1 - beta2, grad, grad)\n",
    "                exp_avg.mul_(beta1).add_(1 - beta1, grad)\n",
    "\n",
    "                state['step'] += 1\n",
    "                buffered = self.buffer[int(state['step'] % 10)]\n",
    "                if state['step'] == buffered[0]:\n",
    "                    N_sma, step_size = buffered[1], buffered[2]\n",
    "                else:\n",
    "                    buffered[0] = state['step']\n",
    "                    beta2_t = beta2 ** state['step']\n",
    "                    N_sma_max = 2 / (1 - beta2) - 1\n",
    "                    N_sma = N_sma_max - 2 * state['step'] * beta2_t / (1 - beta2_t)\n",
    "                    buffered[1] = N_sma\n",
    "\n",
    "                    # more conservative since it's an approximated value\n",
    "                    if N_sma >= 5:\n",
    "                        step_size = group['lr'] * math.sqrt((1 - beta2_t) * (N_sma - 4) / (N_sma_max - 4) * (N_sma - 2) / N_sma * N_sma_max / (N_sma_max - 2)) / (1 - beta1 ** state['step'])\n",
    "                    else:\n",
    "                        step_size = group['lr'] / (1 - beta1 ** state['step'])\n",
    "                    buffered[2] = step_size\n",
    "\n",
    "                if group['weight_decay'] != 0:\n",
    "                    p_data_fp32.add_(-group['weight_decay'] * group['lr'], p_data_fp32)\n",
    "\n",
    "                # more conservative since it's an approximated value\n",
    "                if N_sma >= 5:            \n",
    "                    denom = exp_avg_sq.sqrt().add_(group['eps'])\n",
    "                    p_data_fp32.addcdiv_(-step_size, exp_avg, denom)\n",
    "                else:\n",
    "                    p_data_fp32.add_(-step_size, exp_avg)\n",
    "\n",
    "                p.data.copy_(p_data_fp32)\n",
    "\n",
    "        return loss"
   ]
  },
  {
   "cell_type": "code",
   "execution_count": 24,
   "metadata": {},
   "outputs": [],
   "source": [
    "class Mydatasets(torch.utils.data.Dataset):\n",
    "    def __init__(self, data, calendar):\n",
    "        self.data = data\n",
    "        self.calendar = calendar\n",
    "        self.datanum = len(data)\n",
    "\n",
    "    def __len__(self):\n",
    "        return self.datanum\n",
    "\n",
    "    def __getitem__(self, idx):\n",
    "        _data = self.data[idx, :, :]\n",
    "        x = torch.cat((_data, self.calendar), dim=0)\n",
    "        return x, idx"
   ]
  },
  {
   "cell_type": "code",
   "execution_count": 8,
   "metadata": {},
   "outputs": [],
   "source": [
    "df = pd.read_csv(path+'sales_train_validation.csv')\n",
    "calendar_df = pd.read_csv(path+'calendar.csv')\n",
    "sell_prices_df = pd.read_csv(path+'sell_prices.csv')\n",
    "sample_submission_df = pd.read_csv(path+'sample_submission.csv')"
   ]
  },
  {
   "cell_type": "code",
   "execution_count": 9,
   "metadata": {},
   "outputs": [
    {
     "data": {
      "application/vnd.jupyter.widget-view+json": {
       "model_id": "7c2015877b914c5e959a6ca2dc2ba4e1",
       "version_major": 2,
       "version_minor": 0
      },
      "text/plain": [
       "HBox(children=(IntProgress(value=0, max=30490), HTML(value='')))"
      ]
     },
     "metadata": {},
     "output_type": "display_data"
    },
    {
     "name": "stdout",
     "output_type": "stream",
     "text": [
      "\n",
      "CPU times: user 51.2 s, sys: 5.35 s, total: 56.5 s\n",
      "Wall time: 57.1 s\n"
     ]
    }
   ],
   "source": [
    "%%time\n",
    "train_df, calendar_df, calendar_data, price_data, is_sell = Preprocessing(df, calendar_df, sell_prices_df)"
   ]
  },
  {
   "cell_type": "code",
   "execution_count": 10,
   "metadata": {},
   "outputs": [],
   "source": [
    "#'snap_CA', 'snap_TX', 'snap_WI'"
   ]
  },
  {
   "cell_type": "code",
   "execution_count": 11,
   "metadata": {},
   "outputs": [
    {
     "name": "stdout",
     "output_type": "stream",
     "text": [
      "CPU times: user 503 µs, sys: 74 µs, total: 577 µs\n",
      "Wall time: 584 µs\n"
     ]
    }
   ],
   "source": [
    "%%time\n",
    "d_cols = [f'd_{i}' for i in range(1,1914)]"
   ]
  },
  {
   "cell_type": "code",
   "execution_count": 23,
   "metadata": {},
   "outputs": [
    {
     "data": {
      "text/plain": [
       "'cpu'"
      ]
     },
     "execution_count": 23,
     "metadata": {},
     "output_type": "execute_result"
    }
   ],
   "source": [
    "DEVICE = 'cuda' if torch.cuda.is_available() else 'cpu'\n",
    "DEVICE"
   ]
  },
  {
   "cell_type": "code",
   "execution_count": 19,
   "metadata": {},
   "outputs": [
    {
     "data": {
      "text/plain": [
       "70"
      ]
     },
     "execution_count": 19,
     "metadata": {},
     "output_type": "execute_result"
    }
   ],
   "source": [
    "cols = [-400:]\n",
    "\n",
    "state='CA'\n",
    "data_ca = make_data(cols, state, train_df, calendar_data, price_data, is_sell, sample_submission_df)\n",
    "state='TX'\n",
    "data_tx = make_data(cols, state, train_df, calendar_data, price_data, is_sell, sample_submission_df)\n",
    "state='WI'\n",
    "data_wi = make_data(cols, state, train_df, calendar_data, price_data, is_sell, sample_submission_df)\n",
    "\n",
    "\n",
    "data = torch.cat(\n",
    "    (data_ca, data_tx, data_wi),\n",
    "    dim=0\n",
    ")\n",
    "calendar = make_calendar_data(calendar_data, cols)\n",
    "del data_ca, data_tx, data_wi\n",
    "gc.collect()"
   ]
  },
  {
   "cell_type": "code",
   "execution_count": 21,
   "metadata": {},
   "outputs": [
    {
     "data": {
      "text/plain": [
       "torch.Size([30490, 14, 400])"
      ]
     },
     "execution_count": 21,
     "metadata": {},
     "output_type": "execute_result"
    }
   ],
   "source": [
    "data.size()"
   ]
  },
  {
   "cell_type": "code",
   "execution_count": 99,
   "metadata": {},
   "outputs": [],
   "source": [
    "data_set=Mydatasets(data, calendar)\n",
    "data_loader = torch.utils.data.DataLoader(data_set, batch_size = 200, shuffle = True)"
   ]
  },
  {
   "cell_type": "code",
   "execution_count": 100,
   "metadata": {},
   "outputs": [],
   "source": [
    "for X, idx in data_loader:\n",
    "    pass"
   ]
  },
  {
   "cell_type": "code",
   "execution_count": 101,
   "metadata": {},
   "outputs": [
    {
     "data": {
      "text/plain": [
       "(torch.Size([90, 56, 400]), torch.Size([90]))"
      ]
     },
     "execution_count": 101,
     "metadata": {},
     "output_type": "execute_result"
    }
   ],
   "source": [
    "X.size(), idx.size()"
   ]
  },
  {
   "cell_type": "code",
   "execution_count": 102,
   "metadata": {},
   "outputs": [
    {
     "data": {
      "text/plain": [
       "tensor([15181,  7585,  6468,  8411, 20178, 18984,  5105, 12257, 24144,  3977,\n",
       "        25057, 17821, 13206, 27883,  6483,  6563,  9646, 11381, 18454,  4877,\n",
       "        15487, 28188, 29997,  6384, 29765, 17544, 26703,  9773,  5851,  3060,\n",
       "        20166, 25840,   639, 21506, 27657, 25992,  2488, 13419, 10947, 23358,\n",
       "        25324, 30091, 12038, 17808, 11055, 11781, 23198, 13450, 25473, 11351,\n",
       "         7140, 16512, 30037,  2515, 22395, 17713, 29523, 13280, 23331, 22005,\n",
       "        18744, 27734,   825,  3599,  2615,  5184, 20060,  1614, 22157,  3027,\n",
       "          165, 25226, 23764,  8886, 19167, 19105, 29270,  7354,  4934, 19194,\n",
       "        20436,  9172,  2280,  7004,  5255, 24215, 23273, 10747, 18171, 18137])"
      ]
     },
     "execution_count": 102,
     "metadata": {},
     "output_type": "execute_result"
    }
   ],
   "source": [
    "idx"
   ]
  },
  {
   "cell_type": "code",
   "execution_count": 103,
   "metadata": {},
   "outputs": [],
   "source": [
    "class Loss_func_item_id_store_id_(nn.Module):\n",
    "    def __init__(self, df, cols):\n",
    "        super(Loss_func_item_id_store_id_, self).__init__()\n",
    "        last_d = int(cols[-1].replace('d_', ''))\n",
    "        d_cols = df.columns[df.columns.str.startswith('d_')]\n",
    "        train_d_cols = last_d-28*2\n",
    "        self.train_d_cols = d_cols[:train_d_cols]\n",
    "        test_d_cols = last_d-28\n",
    "        self.test_d_cols = d_cols[:test_d_cols]\n",
    "        self._create_denominator(df)\n",
    "        \n",
    "    def _create_denominator(self, df):\n",
    "        \n",
    "        train_value = df[self.train_d_cols]\n",
    "        train_value = train_value.values\n",
    "        train_value = train_value[:,1:]-train_value[:,:-1]\n",
    "        train_value = train_value**2\n",
    "        train_value = train_value.mean(1)\n",
    "        train_value[train_value==0]=1\n",
    "        self.train_value = torch.FloatTensor(train_value)\n",
    "        \n",
    "        test_value = df[self.test_d_cols]\n",
    "        test_value = test_value.values\n",
    "        test_value = test_value[:,1:]-test_value[:,:-1]\n",
    "        test_value = test_value**2\n",
    "        test_value = test_value.mean(1)\n",
    "        test_value[test_value==0]=1\n",
    "        self.test_value = torch.FloatTensor(test_value)\n",
    "        \n",
    "    def forward(self, preds, true, idx, test=False):\n",
    "        loss = (preds-true)**2\n",
    "        loss = loss.mean(1)\n",
    "        loss = loss.squeeze()\n",
    "        if test:\n",
    "            loss = loss/self.train_value[idx]\n",
    "        else:\n",
    "            loss = loss/self.test_value[idx]\n",
    "        loss = torch.sqrt(loss)\n",
    "        loss = loss.sum()\n",
    "        return loss"
   ]
  },
  {
   "cell_type": "code",
   "execution_count": 104,
   "metadata": {},
   "outputs": [],
   "source": [
    "def prepare_training(model, df, cols):\n",
    "    lr = 1e-4\n",
    "    eta_min = 1e-3\n",
    "    t_max = 10\n",
    "    model = model.to(DEVICE)\n",
    "    criterion = Loss_func_item_id_store_id_(cols=cols, df=df)\n",
    "    optimizer = RAdam(params=model.parameters(), lr=lr)\n",
    "    scheduler = optim.lr_scheduler.CosineAnnealingLR(optimizer, T_max=t_max, eta_min=eta_min)\n",
    "    return model, criterion, optimizer, scheduler"
   ]
  },
  {
   "cell_type": "code",
   "execution_count": 105,
   "metadata": {},
   "outputs": [],
   "source": [
    "def split_X_y(x_batch):\n",
    "    y_batch = x_batch[:,0,-28:]\n",
    "    x_batch = x_batch[:,:,:-28]\n",
    "    return x_batch, y_batch"
   ]
  },
  {
   "cell_type": "code",
   "execution_count": null,
   "metadata": {},
   "outputs": [],
   "source": [
    "make"
   ]
  },
  {
   "cell_type": "code",
   "execution_count": 119,
   "metadata": {},
   "outputs": [],
   "source": [
    "def train_model_item_id_store_id_(model, data_set):\n",
    "    model, criterion, optimizer, scheduler = prepare_training(model, df, cols)\n",
    "    \n",
    "    num_epochs = 40\n",
    "    best_epoch = -1\n",
    "    best_score = 10000\n",
    "    early_stoppping_cnt = 0\n",
    "    best_model = model\n",
    "    \n",
    "    for epoch in range(num_epochs):\n",
    "        start_time = time.time()\n",
    "        \n",
    "        model.train()\n",
    "        avg_loss = 0.\n",
    "        data_loader = torch.utils.data.DataLoader(data_set, batch_size = 200, shuffle = True)\n",
    "        for x_batch, idx in tqdm(data_loader):\n",
    "            optimizer.zero_grad()\n",
    "            x_batch = x_batch[:,:,:-28]; gc.collect()\n",
    "            \n",
    "            x_batch, y_batch = split_X_y(x_batch)\n",
    "            x_batch = x_batch.to(DEVICE)\n",
    "            y_batch = y_batch.to(DEVICE)\n",
    "            \n",
    "            preds = model(x_batch)\n",
    "            \n",
    "            loss = criterion(preds, y_batch, idx, test=False)\n",
    "            return loss\n",
    "            loss.backward()\n",
    "            optimizer.step()\n",
    "            scheduler.step()\n",
    "\n",
    "            avg_loss += loss.item() / len(data_loader)\n",
    "        \n",
    "        model.eval()\n",
    "        avg_val_loss = 0.\n",
    "        \n",
    "        for x_batch, idx in data_loader:\n",
    "            x_batch, y_batch = split_X_y(x_batch)\n",
    "            x_batch = x_batch.to(DEVICE)\n",
    "            y_batch = y_batch.to(DEVICE)\n",
    "            \n",
    "            preds = model(x_batch)\n",
    "            loss = criterion(preds, y_batch, idx, test=True)\n",
    "            \n",
    "            avg_val_loss += loss.item() / len(data_loader)\n",
    "            \n",
    "            \n",
    "        if best_score>avg_val_loss:\n",
    "            best_score = avg_val_loss\n",
    "            early_stoppping_cnt=0\n",
    "            best_epoch=epoch\n",
    "            best_model = model\n",
    "            elapsed = time.time() - start_time\n",
    "            p_avg_val_loss = termcolor.colored(np.round(avg_val_loss, 4),\"red\")\n",
    "            \n",
    "            print(f'Epoch {epoch+1} - avg_train_loss: {avg_loss:.4f}  avg_val_loss: {p_avg_val_loss} time: {elapsed:.0f}s')\n",
    "        else:\n",
    "            early_stoppping_cnt+=1\n",
    "            elapsed = time.time() - start_time\n",
    "            print(f'Epoch {epoch+1} - avg_train_loss: {avg_loss:.4f}  avg_val_loss: {avg_val_loss:.4f} time: {elapsed:.0f}s')\n",
    "        \n",
    "        if (epoch>10) and (early_stoppping_cnt>7):\n",
    "                break\n",
    "    \n",
    "    print(f'best_score : {best_score}    best_epoch : {best_epoch}')\n",
    "    torch.save(model.state_dict(), 'net.pt')\n",
    "    \n",
    "    return best_model, best_score"
   ]
  },
  {
   "cell_type": "code",
   "execution_count": 120,
   "metadata": {},
   "outputs": [],
   "source": [
    "in_size=56\n",
    "model = Conv_1d_Net(in_size)"
   ]
  },
  {
   "cell_type": "code",
   "execution_count": 121,
   "metadata": {},
   "outputs": [
    {
     "data": {
      "application/vnd.jupyter.widget-view+json": {
       "model_id": "afd093aaebc2432b8e5b7b13ff202bb3",
       "version_major": 2,
       "version_minor": 0
      },
      "text/plain": [
       "HBox(children=(IntProgress(value=0, max=153), HTML(value='')))"
      ]
     },
     "metadata": {},
     "output_type": "display_data"
    },
    {
     "data": {
      "text/plain": [
       "0"
      ]
     },
     "execution_count": 121,
     "metadata": {},
     "output_type": "execute_result"
    }
   ],
   "source": [
    "#best_model, best_score = train_model_item_id_store_id_(model, data_set)\n",
    "loader = train_model_item_id_store_id_(model, data_set)\n",
    "gc.collect()"
   ]
  },
  {
   "cell_type": "code",
   "execution_count": 124,
   "metadata": {},
   "outputs": [],
   "source": [
    "loader.backward()"
   ]
  },
  {
   "cell_type": "code",
   "execution_count": 118,
   "metadata": {},
   "outputs": [
    {
     "data": {
      "text/plain": [
       "torch.Size([90, 56, 400])"
      ]
     },
     "execution_count": 118,
     "metadata": {},
     "output_type": "execute_result"
    }
   ],
   "source": [
    "x.size()"
   ]
  },
  {
   "cell_type": "code",
   "execution_count": null,
   "metadata": {},
   "outputs": [],
   "source": []
  }
 ],
 "metadata": {
  "kernelspec": {
   "display_name": "Python 3",
   "language": "python",
   "name": "python3"
  },
  "language_info": {
   "codemirror_mode": {
    "name": "ipython",
    "version": 3
   },
   "file_extension": ".py",
   "mimetype": "text/x-python",
   "name": "python",
   "nbconvert_exporter": "python",
   "pygments_lexer": "ipython3",
   "version": "3.6.5"
  }
 },
 "nbformat": 4,
 "nbformat_minor": 2
}
