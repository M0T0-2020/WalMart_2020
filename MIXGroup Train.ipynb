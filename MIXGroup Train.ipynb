{
 "cells": [
  {
   "cell_type": "code",
   "execution_count": 1,
   "metadata": {},
   "outputs": [],
   "source": [
    "import warnings\n",
    "warnings.filterwarnings('ignore')\n",
    "\n",
    "import numpy as np\n",
    "import pandas as pd\n",
    "import matplotlib.pyplot as plt\n",
    "import seaborn as sns\n",
    "\n",
    "import os, gc\n",
    "import termcolor\n",
    "\n",
    "import math, random\n",
    "import pickle\n",
    "import datetime, time\n",
    "from tqdm import tqdm_notebook as tqdm\n",
    "\n",
    "import torch \n",
    "from torch import nn\n",
    "from torch import optim\n",
    "\n",
    "from sklearn import preprocessing\n",
    "from sklearn.model_selection import train_test_split, KFold\n",
    "from sklearn.cluster import KMeans\n",
    "\n",
    "\n",
    "RANDOM_SEED = 2020\n",
    "\n",
    "torch.manual_seed(RANDOM_SEED)\n",
    "torch.cuda.manual_seed(RANDOM_SEED)\n",
    "torch.cuda.manual_seed_all(RANDOM_SEED)\n",
    "np.random.seed(RANDOM_SEED)\n",
    "random.seed(RANDOM_SEED)\n",
    "\n",
    "DEVICE = 'cuda' if torch.cuda.is_available() else 'cpu'\n",
    "\n",
    "\"\"\"\n",
    "in_size=56\n",
    "model = Conv_1d_Net(in_size)\n",
    "\"\"\"\n",
    "\n",
    "%matplotlib inline"
   ]
  },
  {
   "cell_type": "code",
   "execution_count": 2,
   "metadata": {},
   "outputs": [],
   "source": [
    "def mish(input):\n",
    "    return input * torch.tanh(nn.functional.softplus(input))\n",
    "\n",
    "class Mish(nn.Module):\n",
    "    def __init__(self):\n",
    "        super().__init__()\n",
    "\n",
    "    def forward(self, input):\n",
    "        return mish(input)\n",
    "    \n",
    "class residual_conv1d(nn.Module):\n",
    "\n",
    "    def __init__(self, in_channel):\n",
    "        super(residual_conv1d, self).__init__()\n",
    "        \n",
    "        self.mish = Mish()\n",
    "        self.layer = nn.Sequential(\n",
    "            nn.Conv1d(in_channel, in_channel, 1),\n",
    "            Mish(),\n",
    "            nn.Conv1d(in_channel, in_channel, 1)\n",
    "        )\n",
    "\n",
    "    def forward(self, x):\n",
    "        x = x+self.layer(x)\n",
    "        x = self.mish(x)\n",
    "        return x\n",
    "\n",
    "class Conv_1d_Net(nn.Module):\n",
    "\n",
    "    def __init__(self, in_channel):\n",
    "        super(Conv_1d_Net, self).__init__()\n",
    "        \n",
    "        self.layer_1 = nn.Sequential(\n",
    "            nn.Conv1d(in_channel, 2*in_channel, 1),\n",
    "            nn.Dropout(0.2),\n",
    "            Mish(),\n",
    "            residual_conv1d(2*in_channel)\n",
    "        )\n",
    "        \n",
    "        self.layer_2 = nn.Sequential(\n",
    "            nn.Conv1d(2*in_channel, 4*in_channel, 1),\n",
    "            nn.Dropout(0.2),\n",
    "            Mish(),\n",
    "            residual_conv1d(4*in_channel)\n",
    "        )\n",
    "        \n",
    "        self.layer_3 = nn.Sequential(\n",
    "            nn.Conv1d(4*in_channel, 8*in_channel, 1),\n",
    "            nn.Dropout(0.2),\n",
    "            Mish(),\n",
    "            residual_conv1d(8*in_channel)\n",
    "        )\n",
    "       \n",
    "         \n",
    "        self.avgpool1d = nn.AdaptiveAvgPool1d(1)\n",
    "        \n",
    "        self.fc = nn.Sequential(\n",
    "            nn.Linear(8*in_channel, 8*in_channel),\n",
    "            nn.Dropout(0.1),\n",
    "            Mish(),\n",
    "            nn.Linear(8*in_channel, 16*in_channel),\n",
    "            nn.Dropout(0.1),\n",
    "            Mish(),\n",
    "            nn.Linear(16*in_channel, 28)\n",
    "        ) \n",
    "\n",
    "    def forward(self, x):\n",
    "        #_in = x.size()[1]\n",
    "        x = self.layer_1(x)\n",
    "        x = self.layer_2(x)\n",
    "        x = self.layer_3(x)\n",
    "        #x = self.layer_4(x)\n",
    "        x = self.avgpool1d(x)\n",
    "        x = torch.flatten(x, 1)\n",
    "        x = self.fc(x)\n",
    "\n",
    "        return x\n",
    "    \n",
    "    \n",
    "from torch.optim.optimizer import Optimizer\n",
    "import math\n",
    "\n",
    "class RAdam(Optimizer):\n",
    "\n",
    "    def __init__(self, params, lr=1e-3, betas=(0.9, 0.999), eps=1e-8, weight_decay=0):\n",
    "        defaults = dict(lr=lr, betas=betas, eps=eps, weight_decay=weight_decay)\n",
    "        self.buffer = [[None, None, None] for ind in range(10)]\n",
    "        super(RAdam, self).__init__(params, defaults)\n",
    "\n",
    "    def __setstate__(self, state):\n",
    "        super(RAdam, self).__setstate__(state)\n",
    "\n",
    "    def step(self, closure=None):\n",
    "\n",
    "        loss = None\n",
    "        if closure is not None:\n",
    "            loss = closure()\n",
    "\n",
    "        for group in self.param_groups:\n",
    "\n",
    "            for p in group['params']:\n",
    "                if p.grad is None:\n",
    "                    continue\n",
    "                grad = p.grad.data.float()\n",
    "                if grad.is_sparse:\n",
    "                    raise RuntimeError('RAdam does not support sparse gradients')\n",
    "\n",
    "                p_data_fp32 = p.data.float()\n",
    "\n",
    "                state = self.state[p]\n",
    "\n",
    "                if len(state) == 0:\n",
    "                    state['step'] = 0\n",
    "                    state['exp_avg'] = torch.zeros_like(p_data_fp32)\n",
    "                    state['exp_avg_sq'] = torch.zeros_like(p_data_fp32)\n",
    "                else:\n",
    "                    state['exp_avg'] = state['exp_avg'].type_as(p_data_fp32)\n",
    "                    state['exp_avg_sq'] = state['exp_avg_sq'].type_as(p_data_fp32)\n",
    "\n",
    "                exp_avg, exp_avg_sq = state['exp_avg'], state['exp_avg_sq']\n",
    "                beta1, beta2 = group['betas']\n",
    "\n",
    "                exp_avg_sq.mul_(beta2).addcmul_(1 - beta2, grad, grad)\n",
    "                exp_avg.mul_(beta1).add_(1 - beta1, grad)\n",
    "\n",
    "                state['step'] += 1\n",
    "                buffered = self.buffer[int(state['step'] % 10)]\n",
    "                if state['step'] == buffered[0]:\n",
    "                    N_sma, step_size = buffered[1], buffered[2]\n",
    "                else:\n",
    "                    buffered[0] = state['step']\n",
    "                    beta2_t = beta2 ** state['step']\n",
    "                    N_sma_max = 2 / (1 - beta2) - 1\n",
    "                    N_sma = N_sma_max - 2 * state['step'] * beta2_t / (1 - beta2_t)\n",
    "                    buffered[1] = N_sma\n",
    "\n",
    "                    # more conservative since it's an approximated value\n",
    "                    if N_sma >= 5:\n",
    "                        step_size = group['lr'] * math.sqrt((1 - beta2_t) * (N_sma - 4) / (N_sma_max - 4) * (N_sma - 2) / N_sma * N_sma_max / (N_sma_max - 2)) / (1 - beta1 ** state['step'])\n",
    "                    else:\n",
    "                        step_size = group['lr'] / (1 - beta1 ** state['step'])\n",
    "                    buffered[2] = step_size\n",
    "\n",
    "                if group['weight_decay'] != 0:\n",
    "                    p_data_fp32.add_(-group['weight_decay'] * group['lr'], p_data_fp32)\n",
    "\n",
    "                # more conservative since it's an approximated value\n",
    "                if N_sma >= 5:            \n",
    "                    denom = exp_avg_sq.sqrt().add_(group['eps'])\n",
    "                    p_data_fp32.addcdiv_(-step_size, exp_avg, denom)\n",
    "                else:\n",
    "                    p_data_fp32.add_(-step_size, exp_avg)\n",
    "\n",
    "                p.data.copy_(p_data_fp32)\n",
    "\n",
    "        return loss"
   ]
  },
  {
   "cell_type": "code",
   "execution_count": 3,
   "metadata": {},
   "outputs": [],
   "source": [
    "def split_X_y(x_batch):\n",
    "    y_batch = x_batch[:,0,-28:]\n",
    "    x_batch = x_batch[:,:,:-28]\n",
    "    return x_batch, y_batch"
   ]
  },
  {
   "cell_type": "code",
   "execution_count": 4,
   "metadata": {},
   "outputs": [],
   "source": [
    "def Preprocessing(train_df, calendar_df, sell_prices_df):\n",
    "    sell_prices_df['id'] = sell_prices_df['item_id'].astype('str')+'_'+sell_prices_df['store_id']+'_validation'\n",
    "    d_cols = [f'd_{i}' for i in range(1,1914)]\n",
    "    \n",
    "    event_type_1 = pd.get_dummies(calendar_df.event_type_1)\n",
    "    event_type_1.columns = [f'{col}_event_type_1' for col in event_type_1.columns]\n",
    "    event_type_2 = pd.get_dummies(calendar_df.event_type_1)\n",
    "    event_type_2.columns = [f'{col}_event_type_2' for col in event_type_2.columns]\n",
    "    calendar_data = pd.concat([\n",
    "        calendar_df.drop(columns=['event_name_1', 'event_type_1', 'event_name_2', 'event_type_2'])[['wday', 'd','month','snap_CA', 'snap_TX', 'snap_WI']],\n",
    "        event_type_1,\n",
    "        event_type_2\n",
    "    ], axis=1)\n",
    "    calendar_data = calendar_data.set_index('d').T\n",
    "    \n",
    "    \n",
    "    \n",
    "    sell_prices_data = sell_prices_df[sell_prices_df.wm_yr_wk.isin(calendar_df.wm_yr_wk.unique())]\n",
    "    sell_prices_data.reset_index(drop=True, inplace=True)\n",
    "    tmp = sell_prices_data.groupby(['id'])[['wm_yr_wk', 'sell_price']].apply(lambda x: x.set_index('wm_yr_wk')['sell_price'].to_dict()).to_dict()\n",
    "    d = calendar_df.d\n",
    "    wm_yr_wk = calendar_df.wm_yr_wk\n",
    "    price_data = {}\n",
    "    for col in tqdm(train_df.id.unique()):\n",
    "        price_data[col] = wm_yr_wk.map(tmp[col])\n",
    "    price_data = pd.DataFrame(price_data)\n",
    "    price_data.index = d\n",
    "    \n",
    "    \n",
    "    is_sell = price_data.notnull().astype(float).T\n",
    "    price_data = price_data.fillna(0)\n",
    "    \n",
    "    train_df = train_df.T\n",
    "    train_df.columns = train_df.loc['id', :].values\n",
    "    train_df = train_df.T\n",
    "    \n",
    "    return train_df, calendar_df, calendar_data, price_data, is_sell\n",
    "\n",
    "\n",
    "def make_calendar_data(calendar_data, train_cols):\n",
    "    calendar_index = [\n",
    "        'wday', 'month',\n",
    "        'Cultural_event_type_1', 'National_event_type_1', 'Religious_event_type_1', 'Sporting_event_type_1',\n",
    "        'Cultural_event_type_2', 'National_event_type_2', 'Religious_event_type_2', 'Sporting_event_type_2'\n",
    "    ]\n",
    "    calendar = calendar_data.loc[calendar_index,:]\n",
    "    event_index = [\n",
    "        'Cultural_event_type_1', 'National_event_type_1', 'Religious_event_type_1', 'Sporting_event_type_1',\n",
    "        'Cultural_event_type_2', 'National_event_type_2', 'Religious_event_type_2', 'Sporting_event_type_2'\n",
    "    ]\n",
    "    for shift in [28, -28]:\n",
    "        tmp_calendar = calendar.loc[event_index, :]\n",
    "        tmp_calendar = tmp_calendar.T.shift(-shift).T\n",
    "        tmp_calendar.index = [f'{col}_shift{shift}' for col in tmp_calendar.index]\n",
    "        calendar = pd.concat([\n",
    "            calendar,\n",
    "            tmp_calendar\n",
    "        ], axis=0)\n",
    "    calendar = calendar[train_cols]\n",
    "    calendar = torch.FloatTensor(calendar.values.astype(float))\n",
    "    return calendar"
   ]
  },
  {
   "cell_type": "code",
   "execution_count": 5,
   "metadata": {},
   "outputs": [],
   "source": [
    "class indicate_index(torch.utils.data.Dataset):\n",
    "    def __init__(self, index):\n",
    "        self.index = index\n",
    "\n",
    "    def __len__(self):\n",
    "        return len(self.index)\n",
    "\n",
    "    def __getitem__(self, idx):\n",
    "        return idx\n",
    "    \n",
    "def _create_batch_data(index, data, calendar):\n",
    "    _data = data[index, :, :]\n",
    "    x = torch.tensor([])\n",
    "    for tmp_x in _data:\n",
    "        tmp_x = torch.cat((tmp_x, calendar),dim=0)\n",
    "        x = torch.cat((x,tmp_x.unsqueeze(0)), dim=0)\n",
    "    return x\n",
    "\n",
    "class Loss_func_item_id_store_id_(nn.Module):\n",
    "    def __init__(self, df, cols):\n",
    "        super(Loss_func_item_id_store_id_, self).__init__()\n",
    "        last_d = int(cols[-1].replace('d_', ''))\n",
    "        d_cols = df.columns[df.columns.str.startswith('d_')]\n",
    "        train_d_cols = last_d-28*2\n",
    "        self.train_d_cols = d_cols[:train_d_cols]\n",
    "        test_d_cols = last_d-28\n",
    "        self.test_d_cols = d_cols[:test_d_cols]\n",
    "        self._create_denominator(df)\n",
    "        \n",
    "    def _create_denominator(self, df):\n",
    "        \n",
    "        train_value = df[self.train_d_cols]\n",
    "        train_value = train_value.values\n",
    "        train_value = train_value[:,1:]-train_value[:,:-1]\n",
    "        train_value = train_value**2\n",
    "        train_value = train_value.mean(1)\n",
    "        train_value[train_value==0]=1\n",
    "        self.train_value = torch.FloatTensor(train_value)\n",
    "        \n",
    "        test_value = df[self.test_d_cols]\n",
    "        test_value = test_value.values\n",
    "        test_value = test_value[:,1:]-test_value[:,:-1]\n",
    "        test_value = test_value**2\n",
    "        test_value = test_value.mean(1)\n",
    "        test_value[test_value==0]=1\n",
    "        self.test_value = torch.FloatTensor(test_value)\n",
    "        \n",
    "    def forward(self, preds, true, idx, train):\n",
    "        loss = (preds-true)**2\n",
    "        loss = loss.mean(1)\n",
    "        loss = loss.squeeze()\n",
    "        if train:\n",
    "            loss = loss/self.train_value[idx]\n",
    "        else:\n",
    "            loss = loss/self.test_value[idx]\n",
    "        loss = torch.sqrt(loss)\n",
    "        loss = loss.mean()\n",
    "        return loss\n",
    "\n",
    "class Loss_func_groupid(nn.Module):\n",
    "    def __init__(self, df, cols, index_index, group_id):\n",
    "        super(Loss_func_groupid, self).__init__()\n",
    "        \n",
    "        self.index_index = index_index\n",
    "        last_d = int(cols[-1].replace('d_', ''))\n",
    "        d_cols = df.columns[df.columns.str.startswith('d_')]\n",
    "        train_d_cols = last_d-28*2\n",
    "        self.train_d_cols = d_cols[:train_d_cols]\n",
    "        test_d_cols = last_d-28\n",
    "        self.test_d_cols = d_cols[:test_d_cols]\n",
    "        self._create_denominator(df, group_id)\n",
    "        \n",
    "    def _create_denominator(self, df, group_id):\n",
    "        g_df = df.groupby(group_id)#[d_cols].sum()\n",
    "        \n",
    "        train_value = g_df[self.train_d_cols].sum()\n",
    "        train_value = train_value.loc[self.index_index,:]\n",
    "        train_value = train_value.values\n",
    "        train_value = train_value[:,1:]-train_value[:,:-1]\n",
    "        train_value = train_value**2\n",
    "        train_value = train_value.mean(1)\n",
    "        train_value[train_value==0]=1\n",
    "        self.train_value = torch.FloatTensor(train_value)\n",
    "        \n",
    "        test_value = g_df[self.test_d_cols].sum()\n",
    "        test_value = test_value.loc[self.index_index,:]\n",
    "        test_value = test_value.values\n",
    "        test_value = test_value[:,1:]-test_value[:,:-1]\n",
    "        test_value = test_value**2\n",
    "        test_value = test_value.mean(1)\n",
    "        test_value[test_value==0]=1\n",
    "        self.test_value = torch.FloatTensor(test_value)\n",
    "        \n",
    "    def forward(self, preds, true, idx, length, train):\n",
    "        a1=0\n",
    "        a2=0\n",
    "        Loss=0\n",
    "        for i, _len in enumerate(length):\n",
    "            _idx = idx[i]\n",
    "            a2=a1+_len\n",
    "            _preds = preds[a1:a2].sum(0)\n",
    "            _true = true[a1:a2].sum(0)\n",
    "            loss = (_preds -_true)**2\n",
    "            loss = loss.mean()\n",
    "            loss = loss.squeeze()\n",
    "            if train:\n",
    "                loss = loss/self.train_value[_idx]\n",
    "            else:\n",
    "                loss = loss/self.test_value[_idx]\n",
    "            loss = torch.sqrt(loss)\n",
    "            Loss+=loss/len(length)\n",
    "            a1=a2\n",
    "        return Loss\n",
    "\n",
    "class TrainModel_MIX():\n",
    "    def __init__(self, path, group_id):\n",
    "        self.group_id = group_id\n",
    "        self.path=path\n",
    "        self.df = pd.read_csv(self.path+'sales_train_validation.csv')\n",
    "        self.calendar_df = pd.read_csv(self.path+'calendar.csv')\n",
    "        self.sell_prices_df = pd.read_csv(self.path+'sell_prices.csv')\n",
    "        self.sample_submission_df = pd.read_csv(self.path+'sample_submission.csv')\n",
    "        \n",
    "        self.d_cols = self.df.columns[self.df.columns.str.startswith('d_')].values.tolist()\n",
    "        \n",
    "        self.train_df, self.calendar_df, self.calendar_data, self.price_data, self.is_sell = Preprocessing(\n",
    "            self.df, self.calendar_df, self.sell_prices_df\n",
    "        )\n",
    "        \n",
    "        \n",
    "    def make_data_loader(self, cols):\n",
    "        self.cols = cols\n",
    "        self.group_sum_df = self.train_df.groupby(self.group_id)[cols].transform('sum')\n",
    "        \n",
    "        state='CA'\n",
    "        data_ca = self.make_data_g(cols, state)\n",
    "        state='TX'\n",
    "        data_tx = self.make_data_g(cols, state)\n",
    "        state='WI'\n",
    "        data_wi = self.make_data_g(cols, state)\n",
    "\n",
    "        data = torch.cat(\n",
    "            (data_ca, data_tx, data_wi),\n",
    "            dim=0\n",
    "        )\n",
    "        calendar = make_calendar_data(self.calendar_data, cols)\n",
    "        del data_ca, data_tx, data_wi; gc.collect()\n",
    "        \n",
    "        self.in_size=data.size()[1]+calendar.size()[0]\n",
    "        self.data = data\n",
    "        self.calendar = calendar\n",
    "\n",
    "    def make_data_g(self, train_cols, state):\n",
    "        \n",
    "        data_train = self.train_df[['id', 'item_id', 'dept_id', 'cat_id', 'store_id', 'state_id']+train_cols]\n",
    "        train_product = self.sample_submission_df[\n",
    "            (self.sample_submission_df.id.str.contains(state))&(self.sample_submission_df.id.str.contains('_validation'))\n",
    "            ].id.values\n",
    "        #train_product = data_train[data_train.state_id==state]['id'].unique()\n",
    "        \n",
    "        data = data_train.loc[train_product,train_cols]\n",
    "        group_sum_df = self.group_sum_df.loc[train_product, :]\n",
    "        \n",
    "        \n",
    "        calendar_index = [ f'snap_{state}']\n",
    "        event_index = [ f'snap_{state}']\n",
    "        calendar = self.calendar_data.loc[calendar_index,:]\n",
    "        for shift in [28, -28]:\n",
    "            tmp_calendar = calendar.loc[event_index, :]\n",
    "            tmp_calendar = tmp_calendar.T.shift(shift).T\n",
    "            tmp_calendar.index = [f'{col}_shift{shift}' for col in tmp_calendar.index]\n",
    "            calendar = pd.concat([\n",
    "                calendar,\n",
    "                tmp_calendar\n",
    "            ], axis=0)\n",
    "        calendar = calendar[train_cols]\n",
    "        \n",
    "        price = self.price_data.T[train_cols].loc[train_product,:]\n",
    "        past_price_1 = self.price_data.loc[:,train_product].shift(28).T[train_cols]\n",
    "        past_price_2 = self.price_data.loc[:,train_product].shift(-28).T[train_cols]\n",
    "        #past_price_3 = self.price_data.loc[:,train_product].shift(14).T[train_cols]\n",
    "        \n",
    "        \n",
    "        is_sell = self.is_sell[train_cols].loc[train_product,:]\n",
    "        past_is_sell_1 = self.is_sell.T.shift(28).T.loc[train_product, train_cols]\n",
    "        past_is_sell_2 = self.is_sell.T.shift(-28).T.loc[train_product, train_cols]\n",
    "        #past_is_sell_3 = self.is_sell_data.T.shift(14).T.loc[train_product, train_cols]\n",
    "\n",
    "        data = torch.FloatTensor(data.values.astype(float))\n",
    "        group_sum_df = torch.FloatTensor(group_sum_df.values.astype(float))\n",
    "        \n",
    "        calendar = torch.FloatTensor(calendar.values.astype(float))\n",
    "        \n",
    "        price = torch.FloatTensor(price.values.astype(float))\n",
    "        \n",
    "        past_price_1 = torch.FloatTensor(past_price_1.values.astype(float))\n",
    "        past_price_2 = torch.FloatTensor(past_price_2.values.astype(float))\n",
    "        #past_price_3 = torch.FloatTensor(past_price_3.values.astype(float))\n",
    "        \n",
    "        is_sell = torch.FloatTensor(is_sell.values.astype(float))\n",
    "        past_is_sell_1 = torch.FloatTensor(past_is_sell_1.values.astype(float))\n",
    "        past_is_sell_2 = torch.FloatTensor(past_is_sell_2.values.astype(float))\n",
    "        #past_is_sell_3 = torch.FloatTensor(past_is_sell_3.values.astype(float))\n",
    "        \n",
    "        data_list = []\n",
    "        for idx in range(len(data)):\n",
    "            _data = data[[idx],:]\n",
    "            _group_sum_data = group_sum_df[[idx],:]\n",
    "            _price = price[[idx],:]\n",
    "            \n",
    "            _past_price_1 = past_price_1[[idx],:]\n",
    "            _past_price_2 = past_price_2[[idx],:]\n",
    "            #_past_price_3 = past_price_3[[idx],:]\n",
    "            \n",
    "            _is_sell = is_sell[[idx],:]\n",
    "            \n",
    "            _past_is_sell_1 = past_is_sell_1[[idx],:]\n",
    "            _past_is_sell_2 = past_is_sell_2[[idx],:]\n",
    "            #_past_is_sell_3 = past_is_sell_3[[idx],:]\n",
    "            \n",
    "            x = torch.cat((\n",
    "                _data, _group_sum_data,\n",
    "                calendar,\n",
    "                _price,\n",
    "                _past_price_1, _past_price_2,# _past_price_3,\n",
    "                _is_sell,\n",
    "                _past_is_sell_1, _past_is_sell_2,# _past_is_sell_3\n",
    "            ), dim=0)\n",
    "            data_list.append(x.tolist())\n",
    "        data_list = torch.FloatTensor(data_list)\n",
    "        return data_list\n",
    "\n",
    "\n",
    "    def prepare_training_MIX(self, model, df, cols, index_index):\n",
    "        lr = 4e-4\n",
    "        eta_min = 1e-3\n",
    "        t_max = 10\n",
    "        model = model.to(DEVICE)\n",
    "        criterion_2 = Loss_func_groupid(cols=cols, df=df, index_index=index_index, group_id=self.group_id)\n",
    "        criterion_1 = Loss_func_item_id_store_id_(df=df, cols=cols)\n",
    "        optimizer = RAdam(params=model.parameters(), lr=lr)\n",
    "        scheduler = optim.lr_scheduler.CosineAnnealingLR(optimizer, T_max=t_max, eta_min=eta_min)\n",
    "        return model, criterion_1, criterion_2, optimizer, scheduler\n",
    "\n",
    "    def train_model_MIX(self, model):\n",
    "        self.df['index'] = self.df.index\n",
    "        index_df = pd.concat([\n",
    "            self.df.groupby(self.group_id)['index'].unique(),\n",
    "            self.df.groupby(self.group_id)['index'].nunique()\n",
    "        ], axis=1)\n",
    "        index_df.columns=['index', 'length']\n",
    "        index_df['index'] = index_df['index'].apply(lambda x: x.tolist())\n",
    "\n",
    "        index_index = index_df.index\n",
    "        index_df.reset_index(drop=True, inplace=True)\n",
    "        \n",
    "        data_set=indicate_index(index_df)\n",
    "        data_loader = torch.utils.data.DataLoader(data_set, batch_size = 33, shuffle = True)\n",
    "        \n",
    "        model, criterion_, criterion_g, optimizer, scheduler = self.prepare_training_MIX(model, self.df, self.cols, index_index)\n",
    "        \n",
    "        num_epochs = 40\n",
    "        best_epoch = -1\n",
    "        best_score = 10000\n",
    "        early_stoppping_cnt = 0\n",
    "        best_model = model\n",
    "        \n",
    "        \n",
    "        for epoch in range(num_epochs):\n",
    "            start_time = time.time()\n",
    "            \n",
    "            model.train()\n",
    "            avg_loss = 0.\n",
    "            \n",
    "            for idx in tqdm(data_loader):\n",
    "                optimizer.zero_grad()\n",
    "                \n",
    "                index = sum(index_df.iloc[idx]['index'].values.tolist(),[])\n",
    "                length = index_df.iloc[idx]['length'].values.tolist()\n",
    "                x_batch = _create_batch_data(index, self.data, self.calendar)\n",
    "                x_batch = x_batch[:,:,:-28]\n",
    "                gc.collect()\n",
    "                \n",
    "                x_batch, y_batch = split_X_y(x_batch)\n",
    "                x_batch = x_batch.to(DEVICE)\n",
    "                y_batch = y_batch.to(DEVICE)\n",
    "                \n",
    "                preds = model(x_batch)\n",
    "                \n",
    "                loss_ = criterion_(preds.cpu(), y_batch.cpu(), index, train=True)\n",
    "                loss_g = criterion_g(preds.cpu(), y_batch.cpu(), idx, length, train=True)\n",
    "                loss = 0.45*loss_+0.55*loss_g\n",
    "                del loss_; gc.collect()\n",
    "                loss = loss.to(DEVICE)\n",
    "                \n",
    "                loss.backward()\n",
    "                optimizer.step()\n",
    "                scheduler.step()\n",
    "\n",
    "                avg_loss += loss_g.item() / len(data_loader)\n",
    "                del loss_g,loss; gc.collect()\n",
    "            \n",
    "            model.eval()\n",
    "            avg_val_loss = 0.\n",
    "            \n",
    "            for idx in data_loader:\n",
    "                index = sum(index_df.iloc[idx]['index'].values.tolist(),[])\n",
    "                length = index_df.iloc[idx]['length'].values.tolist()\n",
    "\n",
    "                x_batch = _create_batch_data(index, self.data, self.calendar)\n",
    "                \n",
    "                x_batch, y_batch = split_X_y(x_batch)\n",
    "                x_batch = x_batch.to(DEVICE)\n",
    "                y_batch = y_batch.to(DEVICE)\n",
    "                \n",
    "                preds = model(x_batch)\n",
    "                #loss_ = criterion_(preds.cpu(), y_batch.cpu(), index, train=False)\n",
    "                loss_g = criterion_g(preds.cpu(), y_batch.cpu(), idx, length, train=False)\n",
    "                \n",
    "                avg_val_loss += loss_g.item() / len(data_loader)\n",
    "                del loss_g; gc.collect()\n",
    "                \n",
    "                \n",
    "            if best_score>avg_val_loss:\n",
    "                best_score = avg_val_loss\n",
    "                early_stoppping_cnt=0\n",
    "                best_epoch=epoch\n",
    "                best_model = model\n",
    "                elapsed = time.time() - start_time\n",
    "                p_avg_val_loss = termcolor.colored(np.round(avg_val_loss, 4),\"red\")\n",
    "                \n",
    "                print(f'Epoch {epoch+1} - avg_train_loss: {avg_loss:.4f}  avg_val_loss: {p_avg_val_loss} time: {elapsed:.0f}s')\n",
    "            else:\n",
    "                early_stoppping_cnt+=1\n",
    "                elapsed = time.time() - start_time\n",
    "                print(f'Epoch {epoch+1} - avg_train_loss: {avg_loss:.4f}  avg_val_loss: {avg_val_loss:.4f} time: {elapsed:.0f}s')\n",
    "            \n",
    "            if (epoch>10) and (early_stoppping_cnt>5):\n",
    "                    break\n",
    "        \n",
    "        print(f'best_score : {best_score}    best_epoch : {best_epoch}')\n",
    "        #torch.save(best_score.state_dict(), 'net.pt')\n",
    "        \n",
    "        return best_model, best_score"
   ]
  },
  {
   "cell_type": "code",
   "execution_count": 6,
   "metadata": {},
   "outputs": [],
   "source": [
    "#path = '/Users/kanoumotoharu/Downloads/m5-forecasting-accuracy/'\n",
    "path = '/Users/abcdm/Downloads/m5-forecasting-accuracy/'\n",
    "#path = '../input/m5-forecasting-accuracy/'"
   ]
  },
  {
   "cell_type": "code",
   "execution_count": 7,
   "metadata": {},
   "outputs": [],
   "source": [
    "groupId = ['item_id', 'state_id']"
   ]
  },
  {
   "cell_type": "code",
   "execution_count": 8,
   "metadata": {
    "collapsed": true
   },
   "outputs": [
    {
     "data": {
      "application/vnd.jupyter.widget-view+json": {
       "model_id": "50ea0f673f3e4931815cdda94c2bc536",
       "version_major": 2,
       "version_minor": 0
      },
      "text/plain": [
       "HBox(children=(FloatProgress(value=0.0, max=30490.0), HTML(value='')))"
      ]
     },
     "metadata": {},
     "output_type": "display_data"
    },
    {
     "name": "stdout",
     "output_type": "stream",
     "text": [
      "\n"
     ]
    }
   ],
   "source": [
    "TrainModel = TrainModel_MIX(path=path, group_id=groupId)"
   ]
  },
  {
   "cell_type": "code",
   "execution_count": 9,
   "metadata": {},
   "outputs": [],
   "source": [
    "d_cols = TrainModel.d_cols\n",
    "cols = d_cols[-150:]\n",
    "TrainModel.make_data_loader(cols=cols)"
   ]
  },
  {
   "cell_type": "code",
   "execution_count": 10,
   "metadata": {},
   "outputs": [],
   "source": [
    "model = Conv_1d_Net(TrainModel.in_size)"
   ]
  },
  {
   "cell_type": "code",
   "execution_count": 11,
   "metadata": {
    "scrolled": true
   },
   "outputs": [
    {
     "data": {
      "application/vnd.jupyter.widget-view+json": {
       "model_id": "6f70d95f06b448b89e140e02aedb8d32",
       "version_major": 2,
       "version_minor": 0
      },
      "text/plain": [
       "HBox(children=(FloatProgress(value=0.0, max=278.0), HTML(value='')))"
      ]
     },
     "metadata": {},
     "output_type": "display_data"
    },
    {
     "name": "stdout",
     "output_type": "stream",
     "text": [
      "\n",
      "Epoch 2 - avg_train_loss: 1.0856  avg_val_loss: \u001b[31m0.9798\u001b[0m time: 64s\n"
     ]
    },
    {
     "data": {
      "application/vnd.jupyter.widget-view+json": {
       "model_id": "3590a23eebb14347933d21cd16628b8b",
       "version_major": 2,
       "version_minor": 0
      },
      "text/plain": [
       "HBox(children=(FloatProgress(value=0.0, max=278.0), HTML(value='')))"
      ]
     },
     "metadata": {},
     "output_type": "display_data"
    },
    {
     "name": "stdout",
     "output_type": "stream",
     "text": [
      "\n",
      "Epoch 3 - avg_train_loss: 0.9659  avg_val_loss: \u001b[31m0.9538\u001b[0m time: 65s\n"
     ]
    },
    {
     "data": {
      "application/vnd.jupyter.widget-view+json": {
       "model_id": "8196e76d091c40f1bf0320ff5754b17b",
       "version_major": 2,
       "version_minor": 0
      },
      "text/plain": [
       "HBox(children=(FloatProgress(value=0.0, max=278.0), HTML(value='')))"
      ]
     },
     "metadata": {},
     "output_type": "display_data"
    },
    {
     "name": "stdout",
     "output_type": "stream",
     "text": [
      "\n",
      "Epoch 4 - avg_train_loss: 0.9535  avg_val_loss: 0.9618 time: 65s\n"
     ]
    },
    {
     "data": {
      "application/vnd.jupyter.widget-view+json": {
       "model_id": "d7940fd1d39f41ed822e5163698b1817",
       "version_major": 2,
       "version_minor": 0
      },
      "text/plain": [
       "HBox(children=(FloatProgress(value=0.0, max=278.0), HTML(value='')))"
      ]
     },
     "metadata": {},
     "output_type": "display_data"
    },
    {
     "name": "stdout",
     "output_type": "stream",
     "text": [
      "\n",
      "Epoch 5 - avg_train_loss: 0.9513  avg_val_loss: 0.9760 time: 65s\n"
     ]
    },
    {
     "data": {
      "application/vnd.jupyter.widget-view+json": {
       "model_id": "f83dbd662cfb464588c50493dd932ebc",
       "version_major": 2,
       "version_minor": 0
      },
      "text/plain": [
       "HBox(children=(FloatProgress(value=0.0, max=278.0), HTML(value='')))"
      ]
     },
     "metadata": {},
     "output_type": "display_data"
    },
    {
     "name": "stdout",
     "output_type": "stream",
     "text": [
      "\n",
      "Epoch 6 - avg_train_loss: 0.9513  avg_val_loss: \u001b[31m0.9423\u001b[0m time: 65s\n"
     ]
    },
    {
     "data": {
      "application/vnd.jupyter.widget-view+json": {
       "model_id": "6934db384643436a986dca39ec05cee6",
       "version_major": 2,
       "version_minor": 0
      },
      "text/plain": [
       "HBox(children=(FloatProgress(value=0.0, max=278.0), HTML(value='')))"
      ]
     },
     "metadata": {},
     "output_type": "display_data"
    },
    {
     "name": "stdout",
     "output_type": "stream",
     "text": [
      "\n",
      "Epoch 7 - avg_train_loss: 0.9486  avg_val_loss: 0.9596 time: 65s\n"
     ]
    },
    {
     "data": {
      "application/vnd.jupyter.widget-view+json": {
       "model_id": "05541facfffe4b55936f7a11e3b942cd",
       "version_major": 2,
       "version_minor": 0
      },
      "text/plain": [
       "HBox(children=(FloatProgress(value=0.0, max=278.0), HTML(value='')))"
      ]
     },
     "metadata": {},
     "output_type": "display_data"
    },
    {
     "name": "stdout",
     "output_type": "stream",
     "text": [
      "\n",
      "Epoch 8 - avg_train_loss: 0.9449  avg_val_loss: 0.9577 time: 65s\n"
     ]
    },
    {
     "data": {
      "application/vnd.jupyter.widget-view+json": {
       "model_id": "42767baea3b4484fbf63c0196319820c",
       "version_major": 2,
       "version_minor": 0
      },
      "text/plain": [
       "HBox(children=(FloatProgress(value=0.0, max=278.0), HTML(value='')))"
      ]
     },
     "metadata": {},
     "output_type": "display_data"
    },
    {
     "name": "stdout",
     "output_type": "stream",
     "text": [
      "\n",
      "Epoch 9 - avg_train_loss: 0.9466  avg_val_loss: \u001b[31m0.9397\u001b[0m time: 64s\n"
     ]
    },
    {
     "data": {
      "application/vnd.jupyter.widget-view+json": {
       "model_id": "7a6235dd6e09451fa02bfdcfd644dd03",
       "version_major": 2,
       "version_minor": 0
      },
      "text/plain": [
       "HBox(children=(FloatProgress(value=0.0, max=278.0), HTML(value='')))"
      ]
     },
     "metadata": {},
     "output_type": "display_data"
    },
    {
     "name": "stdout",
     "output_type": "stream",
     "text": [
      "\n",
      "Epoch 10 - avg_train_loss: 0.9440  avg_val_loss: 0.9581 time: 64s\n"
     ]
    },
    {
     "data": {
      "application/vnd.jupyter.widget-view+json": {
       "model_id": "acf0354742664f9593bc7db8ff1274a9",
       "version_major": 2,
       "version_minor": 0
      },
      "text/plain": [
       "HBox(children=(FloatProgress(value=0.0, max=278.0), HTML(value='')))"
      ]
     },
     "metadata": {},
     "output_type": "display_data"
    },
    {
     "name": "stdout",
     "output_type": "stream",
     "text": [
      "\n",
      "Epoch 11 - avg_train_loss: 0.9399  avg_val_loss: 0.9483 time: 64s\n"
     ]
    },
    {
     "data": {
      "application/vnd.jupyter.widget-view+json": {
       "model_id": "34b382037dc8462a944deefc1adad9fa",
       "version_major": 2,
       "version_minor": 0
      },
      "text/plain": [
       "HBox(children=(FloatProgress(value=0.0, max=278.0), HTML(value='')))"
      ]
     },
     "metadata": {},
     "output_type": "display_data"
    },
    {
     "name": "stdout",
     "output_type": "stream",
     "text": [
      "\n",
      "Epoch 12 - avg_train_loss: 0.9393  avg_val_loss: 0.9558 time: 64s\n"
     ]
    },
    {
     "data": {
      "application/vnd.jupyter.widget-view+json": {
       "model_id": "dc13a435c1db4a27961fc313f7d3204d",
       "version_major": 2,
       "version_minor": 0
      },
      "text/plain": [
       "HBox(children=(FloatProgress(value=0.0, max=278.0), HTML(value='')))"
      ]
     },
     "metadata": {},
     "output_type": "display_data"
    },
    {
     "name": "stdout",
     "output_type": "stream",
     "text": [
      "\n",
      "Epoch 13 - avg_train_loss: 0.9341  avg_val_loss: 1.0066 time: 65s\n"
     ]
    },
    {
     "data": {
      "application/vnd.jupyter.widget-view+json": {
       "model_id": "471b4fe73021471a8f1dfe6a476d4f3a",
       "version_major": 2,
       "version_minor": 0
      },
      "text/plain": [
       "HBox(children=(FloatProgress(value=0.0, max=278.0), HTML(value='')))"
      ]
     },
     "metadata": {},
     "output_type": "display_data"
    },
    {
     "name": "stdout",
     "output_type": "stream",
     "text": [
      "\n",
      "Epoch 14 - avg_train_loss: 0.9303  avg_val_loss: 0.9556 time: 65s\n"
     ]
    },
    {
     "data": {
      "application/vnd.jupyter.widget-view+json": {
       "model_id": "f0b12f26fca2498ca8a4c68219d5a132",
       "version_major": 2,
       "version_minor": 0
      },
      "text/plain": [
       "HBox(children=(FloatProgress(value=0.0, max=278.0), HTML(value='')))"
      ]
     },
     "metadata": {},
     "output_type": "display_data"
    },
    {
     "name": "stdout",
     "output_type": "stream",
     "text": [
      "\n",
      "Epoch 15 - avg_train_loss: 0.9294  avg_val_loss: \u001b[31m0.9365\u001b[0m time: 65s\n"
     ]
    },
    {
     "data": {
      "application/vnd.jupyter.widget-view+json": {
       "model_id": "cec9026952064d0783ccd0e32a445a71",
       "version_major": 2,
       "version_minor": 0
      },
      "text/plain": [
       "HBox(children=(FloatProgress(value=0.0, max=278.0), HTML(value='')))"
      ]
     },
     "metadata": {},
     "output_type": "display_data"
    },
    {
     "name": "stdout",
     "output_type": "stream",
     "text": [
      "\n",
      "Epoch 16 - avg_train_loss: 0.9310  avg_val_loss: 0.9487 time: 65s\n"
     ]
    },
    {
     "data": {
      "application/vnd.jupyter.widget-view+json": {
       "model_id": "241d5d320aef411398c3974928c24c06",
       "version_major": 2,
       "version_minor": 0
      },
      "text/plain": [
       "HBox(children=(FloatProgress(value=0.0, max=278.0), HTML(value='')))"
      ]
     },
     "metadata": {},
     "output_type": "display_data"
    },
    {
     "name": "stdout",
     "output_type": "stream",
     "text": [
      "\n",
      "Epoch 17 - avg_train_loss: 0.9284  avg_val_loss: 0.9511 time: 65s\n"
     ]
    },
    {
     "data": {
      "application/vnd.jupyter.widget-view+json": {
       "model_id": "fdfc7af4d9e14d778f02fc4b6f8fe1aa",
       "version_major": 2,
       "version_minor": 0
      },
      "text/plain": [
       "HBox(children=(FloatProgress(value=0.0, max=278.0), HTML(value='')))"
      ]
     },
     "metadata": {},
     "output_type": "display_data"
    },
    {
     "name": "stdout",
     "output_type": "stream",
     "text": [
      "\n",
      "Epoch 18 - avg_train_loss: 0.9256  avg_val_loss: 0.9646 time: 65s\n"
     ]
    },
    {
     "data": {
      "application/vnd.jupyter.widget-view+json": {
       "model_id": "6933aab5288b4ce984ed14e268592400",
       "version_major": 2,
       "version_minor": 0
      },
      "text/plain": [
       "HBox(children=(FloatProgress(value=0.0, max=278.0), HTML(value='')))"
      ]
     },
     "metadata": {},
     "output_type": "display_data"
    },
    {
     "name": "stdout",
     "output_type": "stream",
     "text": [
      "\n",
      "Epoch 19 - avg_train_loss: 0.9254  avg_val_loss: 0.9586 time: 65s\n"
     ]
    },
    {
     "data": {
      "application/vnd.jupyter.widget-view+json": {
       "model_id": "9b9b53bbd3d6415fbe9fcfd045727933",
       "version_major": 2,
       "version_minor": 0
      },
      "text/plain": [
       "HBox(children=(FloatProgress(value=0.0, max=278.0), HTML(value='')))"
      ]
     },
     "metadata": {},
     "output_type": "display_data"
    },
    {
     "name": "stdout",
     "output_type": "stream",
     "text": [
      "\n",
      "Epoch 20 - avg_train_loss: 0.9263  avg_val_loss: 0.9728 time: 65s\n"
     ]
    },
    {
     "data": {
      "application/vnd.jupyter.widget-view+json": {
       "model_id": "8136f9a61ecc4e468edbef6e2f3b93e1",
       "version_major": 2,
       "version_minor": 0
      },
      "text/plain": [
       "HBox(children=(FloatProgress(value=0.0, max=278.0), HTML(value='')))"
      ]
     },
     "metadata": {},
     "output_type": "display_data"
    },
    {
     "name": "stdout",
     "output_type": "stream",
     "text": [
      "\n",
      "Epoch 21 - avg_train_loss: 0.9250  avg_val_loss: 0.9439 time: 66s\n",
      "best_score : 0.9364935153251075    best_epoch : 14\n"
     ]
    }
   ],
   "source": [
    "best_model, best_score = TrainModel.train_model_MIX(model)"
   ]
  },
  {
   "cell_type": "code",
   "execution_count": null,
   "metadata": {},
   "outputs": [],
   "source": []
  }
 ],
 "metadata": {
  "kernelspec": {
   "display_name": "Python 3",
   "language": "python",
   "name": "python3"
  },
  "language_info": {
   "codemirror_mode": {
    "name": "ipython",
    "version": 3
   },
   "file_extension": ".py",
   "mimetype": "text/x-python",
   "name": "python",
   "nbconvert_exporter": "python",
   "pygments_lexer": "ipython3",
   "version": "3.7.5"
  }
 },
 "nbformat": 4,
 "nbformat_minor": 2
}
